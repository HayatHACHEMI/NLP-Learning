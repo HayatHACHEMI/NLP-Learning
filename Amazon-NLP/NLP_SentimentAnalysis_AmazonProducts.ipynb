{
  "nbformat": 4,
  "nbformat_minor": 0,
  "metadata": {
    "colab": {
      "name": "NLP_SentimentAnalysis_AmazonProducts.ipynb",
      "provenance": [],
      "collapsed_sections": [
        "9abe-CHV7bpT",
        "lyZY_l08Bmnn",
        "23g2r1pgB7Rp",
        "CusYF7UaFklX"
      ]
    },
    "kernelspec": {
      "name": "python3",
      "display_name": "Python 3"
    }
  },
  "cells": [
    {
      "cell_type": "markdown",
      "metadata": {
        "id": "pz3Kq3Yx8Mkx",
        "colab_type": "text"
      },
      "source": [
        "**TP BDM : NLP - Analyse des sentiments sur Consumer Reviews of Amazon Products -**\n",
        "\n",
        "Réalisé par : \n",
        "BUAZZOUNI Syphax et HACHEMI Hayat \n",
        "\n",
        "Juin 2020 "
      ]
    },
    {
      "cell_type": "markdown",
      "metadata": {
        "id": "HN_8uvpIyq9B",
        "colab_type": "text"
      },
      "source": [
        "#**Résumé**"
      ]
    },
    {
      "cell_type": "markdown",
      "metadata": {
        "id": "4G27LCnYyun4",
        "colab_type": "text"
      },
      "source": [
        "\n",
        "Pour connaitre l'opinion publique des clients sur leurs produits , les entreprises exploitent les commentaires et feedbacks de leurs consommateurs et appliquent une des techniques de NLP ( Natural language processing ) qui est l'analyse des sentiments , le sujet de ce TP . \n",
        "\n",
        "Durant ce TP , nous étudions  Naïve Bayes, Random Forest et Support Vector Machines implémentés dans Apache Spark sur un dataset d'Avis des consommateurs sur les produits Amazon afin de prédire les sentiments de ces derniers ( positif ou négatif )  et de comparer la performance de ses classifieurs a la fin .\n",
        "\n",
        "**Mots clés**: Sentiment analysis , machine\n",
        "learning, NaiveBayes ( NB ) , support vector machine (SVM) , Random Forest (RF ) , Apache Spark , Natural Langauge Processing . "
      ]
    },
    {
      "cell_type": "markdown",
      "metadata": {
        "id": "9abe-CHV7bpT",
        "colab_type": "text"
      },
      "source": [
        "# **Introduction**"
      ]
    },
    {
      "cell_type": "markdown",
      "metadata": {
        "id": "uOjhc_Xk8OeI",
        "colab_type": "text"
      },
      "source": [
        "## 1- NLP , C'est quoi ?\n",
        "\n",
        "Le traitement du langage naturel NLP (Natural Language Processing) est un domaine multidisciplinaire impliquant la linguistique, l&#39;informatique et l&#39;intelligence artificielle visant à permettre aux ordinateurs de comprendre , interpréter et manipuler le langage humain .\n",
        "\n",
        "**L'analyse des sentiments** est l'un des domaines les plus importants de la PNL . C'est l'interprétation et la classification des émotions (positives, négatives et neutres) dans les données de texte à l'aide de techniques d'analyse de texte. Il permet aux entreprises d'identifier le sentiment des clients envers les produits, les marques ou les services dans les conversations et les commentaires en ligne et donc de définir leurs stratégie et prendre des décisions ."
      ]
    },
    {
      "cell_type": "markdown",
      "metadata": {
        "id": "6y5VrN7D8jgq",
        "colab_type": "text"
      },
      "source": [
        "\n",
        "## 2- Etapes de prétraitement en NLP \n",
        "  Afin de faire de l'analyse de sentiment non supervisé , on aura besoin d'attributs quantitatifs ce que généralement les dataset n'offre pas, car de base la plus part des dataset contient deux colonnes importante pour l'analyse qui sont le **review** qui represente l'avis de l'utilisateur sous format texte et une autre colonne qui est le **rating** ou c'est l'annotation du review (pas exemple good/bad ou un score de 1 a 5 ,...).   \n",
        "\n",
        "Donc pour transformer ces attributs qualitatifs en attributs quantitatifs ,  on doit passer par un certain nombre d'opérations sur le texte pour le transformer du texte simple en une suite de features ( voir le rapport joint pour plus de détails ) . \n",
        "\n",
        "Ces étapes (assez connues en analyse de texte) sont les suivantes:\n",
        "1. **Passage en minuscule** \n",
        "1. **Tokenizer**: C'est pour transformer un texte , en un tableau de mots {texte -> (mot1,mot2,...,motn)} ([source](https://spark.apache.org/docs/latest/ml-features.html#tokenizer))\n",
        "2. **Remove Stopword**: C'est pour enlever les mots vides (qui n’apportent aucune information ) comme : the, is, at, which, et,on,... dans la liste de mots ([source ](https://https://spark.apache.org/docs/latest/ml-features.html#stopwordsremover))\n",
        "3. **TF-IDF** : pour Term frequency-inverse document frequency c'est une méthode de vectorisation de texte largement utilisée dans l'exploration de texte pour refléter l'importance d'un terme d'un document dans le corpus (ensemble de documents).Notons un terme par **t**, un document par **d** et le corpus par **D**, cette methode passe par 3 etapes : \n",
        "  * Term frequency : **TF(t,d)** est le nombre de fois que ce terme **t** apparaît dans le document **d**\n",
        "  * Inverse document frequency : \n",
        "  ```\n",
        "    IDF(t,D)= log( |D|+1 / (DF(t,D)+1 )\n",
        "  ```\n",
        "  Avec **DF (t, D)** est le nombre de documents dans le corpus **D** contenant le terme **t** ,et **| D |** est le nombre total de documents dans le corpus **D**.\n",
        "  Cette partie est la plus important car si nous utilisons uniquement la fréquence des termes pour mesurer l'importance, il est très facile de surestimer les termes qui apparaissent très souvent mais qui contiennent peu d'informations sur le document, par ex. «a», «le» et «de». Alors que si un terme apparaît très souvent dans le corpus, cela signifie qu'il ne contient pas d'informations spéciales sur un document particulier ce qui le IDF permet de calculer\n",
        "  * TF-IDF :\n",
        "  ```\n",
        "    TFIDF(t,d,D)= TF(t,d) X IDF(t,D)\n",
        "  ```\n",
        "  ([source](https://spark.apache.org/docs/latest/ml-features.html#tf-idf))"
      ]
    },
    {
      "cell_type": "markdown",
      "metadata": {
        "id": "sfvaWNSrAg6M",
        "colab_type": "text"
      },
      "source": [
        "## 3- Travail demandé \n",
        "\n",
        "Au sein de ce TP , on fera une application d'anlayse des sentiments sur les feedbacks des clients sur quelques produits d'Amazon . \n",
        "\n",
        "On a choisi comme dataset , [Consumer Reviews of Amazon Products](https://www.kaggle.com/datafiniti/consumer-reviews-of-amazon-products) une liste de plus de 34 000 avis sur des produits Amazon comme le Kindle, Fire TV, etc.\n",
        "\n",
        "L'application se fera sur un environnement **Spark** en utilisant trois algorithmes du Machine learning , **NaiveBayes** , **SVM** et **RF** ... "
      ]
    },
    {
      "cell_type": "markdown",
      "metadata": {
        "id": "lyZY_l08Bmnn",
        "colab_type": "text"
      },
      "source": [
        "# **Mise en place de SPARK dans Colab**"
      ]
    },
    {
      "cell_type": "markdown",
      "metadata": {
        "id": "BbeFQkAQCIWk",
        "colab_type": "text"
      },
      "source": [
        "Pour exécuter spark dans Colab, nous devons d'abord installer toutes les dépendances dans l'environnement Colab, à savoir Apache **Spark 2.4.5** avec hadoop 2.7, **Java 8** et **Findspark** pour localiser l'étincelle dans le système."
      ]
    },
    {
      "cell_type": "markdown",
      "metadata": {
        "id": "23g2r1pgB7Rp",
        "colab_type": "text"
      },
      "source": [
        "## 1- Téléchargement de JDK et SPARK"
      ]
    },
    {
      "cell_type": "code",
      "metadata": {
        "id": "QFX3qGHV42VL",
        "colab_type": "code",
        "colab": {}
      },
      "source": [
        "!rm -fr spark-* #supprimer spark si il existe deja (a faire seulement si on le veut)\n",
        "!apt-get install openjdk-8-jdk-headless -qq > /dev/null\n",
        "!wget -q https://downloads.apache.org/spark/spark-2.4.5/spark-2.4.5-bin-hadoop2.7.tgz\n",
        "!pip install -q findspark"
      ],
      "execution_count": null,
      "outputs": []
    },
    {
      "cell_type": "code",
      "metadata": {
        "id": "o77bunn68UXO",
        "colab_type": "code",
        "colab": {}
      },
      "source": [
        "!tar xf spark-2.4.5-bin-hadoop2.7.tgz #extraire spark "
      ],
      "execution_count": null,
      "outputs": []
    },
    {
      "cell_type": "markdown",
      "metadata": {
        "id": "l7O7G49OCkBb",
        "colab_type": "text"
      },
      "source": [
        "\n",
        "> On aura à la fin dans notre répertoire Colab un dossier **spark-2.4.5-bin-hadoop2.7**\n",
        "\n",
        "\n",
        "\n",
        "---\n",
        "\n"
      ]
    },
    {
      "cell_type": "code",
      "metadata": {
        "id": "CKE2tetWBgWr",
        "colab_type": "code",
        "colab": {
          "base_uri": "https://localhost:8080/"
        },
        "outputId": "12454803-d7d3-41ef-ce8c-760b5274588d"
      },
      "source": [
        "!ls"
      ],
      "execution_count": null,
      "outputs": [
        {
          "output_type": "stream",
          "text": [
            "consumer-reviews-of-amazon-products.zip  spark-2.4.5-bin-hadoop2.7\n",
            "sample_data\t\t\t\t spark-2.4.5-bin-hadoop2.7.tgz\n"
          ],
          "name": "stdout"
        }
      ]
    },
    {
      "cell_type": "markdown",
      "metadata": {
        "id": "mTiIsI5ODAFq",
        "colab_type": "text"
      },
      "source": [
        "## 2- Edition des variable d'environement "
      ]
    },
    {
      "cell_type": "markdown",
      "metadata": {
        "id": "uuPmojICDN6D",
        "colab_type": "text"
      },
      "source": [
        "Après avoir installer Spark et Java dans Colab, il faut definir le chemin de l'environnement qui permettera d'exécuter Pyspark dans notre environnement Colab.Pour cela, il faut définir l'emplacement de Java et Spark en exécutant le code suivant:"
      ]
    },
    {
      "cell_type": "code",
      "metadata": {
        "id": "qsKX3O3hDMFr",
        "colab_type": "code",
        "colab": {}
      },
      "source": [
        "import os\n",
        "os.environ[\"JAVA_HOME\"] = \"/usr/lib/jvm/java-8-openjdk-amd64\"\n",
        "os.environ[\"SPARK_HOME\"] = \"/content/spark-2.4.5-bin-hadoop2.7\"\n",
        "os.environ[\"PYSPARK_SUBMIT_ARGS\"]=\"--master local[*] pyspark-shell\""
      ],
      "execution_count": null,
      "outputs": []
    },
    {
      "cell_type": "markdown",
      "metadata": {
        "id": "OhfZTjVFDNSQ",
        "colab_type": "text"
      },
      "source": [
        "## 3- Lancement du SPARK"
      ]
    },
    {
      "cell_type": "code",
      "metadata": {
        "id": "V48rW0KFD6Lt",
        "colab_type": "code",
        "colab": {}
      },
      "source": [
        "import findspark\n",
        "findspark.init()\n",
        "from pyspark.sql import SparkSession\n",
        "from pyspark.sql import SQLContext\n",
        "from pyspark import SparkContext\n",
        "\n",
        "sp = SparkSession.builder.master(\"local[*]\").getOrCreate()\n",
        "sqlContext = SQLContext(sp.sparkContext)"
      ],
      "execution_count": null,
      "outputs": []
    },
    {
      "cell_type": "markdown",
      "metadata": {
        "id": "pNPguN3_VkTu",
        "colab_type": "text"
      },
      "source": [
        "## 4- Pour connaitre le temps d'exécution !!\n"
      ]
    },
    {
      "cell_type": "code",
      "metadata": {
        "id": "I-YSHAIRV1Ro",
        "colab_type": "code",
        "colab": {
          "base_uri": "https://localhost:8080/",
          "height": 34
        },
        "outputId": "fa5b9203-4e61-4903-f82b-be4a5748acac"
      },
      "source": [
        "!pip install ipython-autotime\n",
        "\n",
        "%load_ext autotime \n",
        "#une extension du Notebook permettant de donner le temps d'excution en bas de chaque zone de code de celui ci \n"
      ],
      "execution_count": null,
      "outputs": [
        {
          "output_type": "stream",
          "text": [
            "Requirement already satisfied: ipython-autotime in /usr/local/lib/python3.6/dist-packages (0.1)\n"
          ],
          "name": "stdout"
        }
      ]
    },
    {
      "cell_type": "markdown",
      "metadata": {
        "id": "aFx7BVDTEWw3",
        "colab_type": "text"
      },
      "source": [
        "# **Decouverte du DataSet**"
      ]
    },
    {
      "cell_type": "markdown",
      "metadata": {
        "id": "CusYF7UaFklX",
        "colab_type": "text"
      },
      "source": [
        "## 1- Téléchargment du dataset "
      ]
    },
    {
      "cell_type": "markdown",
      "metadata": {
        "id": "mP_mOhJbFuXx",
        "colab_type": "text"
      },
      "source": [
        "Premièrement , On instalera l'api Kaggle qui nous permettra de manière tres simple de telecharger n'importe quelle dataset de Kaggle directement en ligne de commande  "
      ]
    },
    {
      "cell_type": "code",
      "metadata": {
        "id": "llC4jVEUF6ov",
        "colab_type": "code",
        "colab": {
          "base_uri": "https://localhost:8080/",
          "height": 34
        },
        "outputId": "c6003403-5c6b-4483-e4bc-c550eef6cdc5"
      },
      "source": [
        "!pip install -q kaggle"
      ],
      "execution_count": null,
      "outputs": [
        {
          "output_type": "stream",
          "text": [
            "time: 2.86 s\n"
          ],
          "name": "stdout"
        }
      ]
    },
    {
      "cell_type": "markdown",
      "metadata": {
        "id": "kpU1k3K3G3lm",
        "colab_type": "text"
      },
      "source": [
        "Aprés instalation , on doit s'authentifier a Kaggle pour l'utiliser . Pour cela , on utilisera un fichier kaggle.json qui contienne nos identifiants.\n",
        "Ce fichier sera uploadé dans le dossier **.kaggle** "
      ]
    },
    {
      "cell_type": "code",
      "metadata": {
        "id": "Z4pc2_WqH0pI",
        "colab_type": "code",
        "colab": {
          "resources": {
            "http://localhost:8080/nbextensions/google.colab/files.js": {
              "data": "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",
              "ok": true,
              "headers": [
                [
                  "content-type",
                  "application/javascript"
                ]
              ],
              "status": 200,
              "status_text": ""
            }
          },
          "base_uri": "https://localhost:8080/",
          "height": 91
        },
        "outputId": "e7d61807-596a-45f9-d3ca-7d9cec0f7fc7"
      },
      "source": [
        "from google.colab import files\n",
        "files.upload() #pour uploader kaggle.json"
      ],
      "execution_count": null,
      "outputs": [
        {
          "output_type": "display_data",
          "data": {
            "text/html": [
              "\n",
              "     <input type=\"file\" id=\"files-16dc3f3e-7d30-4e27-9ed8-3a6ff9bdca66\" name=\"files[]\" multiple disabled />\n",
              "     <output id=\"result-16dc3f3e-7d30-4e27-9ed8-3a6ff9bdca66\">\n",
              "      Upload widget is only available when the cell has been executed in the\n",
              "      current browser session. Please rerun this cell to enable.\n",
              "      </output>\n",
              "      <script src=\"/nbextensions/google.colab/files.js\"></script> "
            ],
            "text/plain": [
              "<IPython.core.display.HTML object>"
            ]
          },
          "metadata": {
            "tags": []
          }
        },
        {
          "output_type": "stream",
          "text": [
            "Saving kaggle.json to kaggle.json\n"
          ],
          "name": "stdout"
        },
        {
          "output_type": "execute_result",
          "data": {
            "text/plain": [
              "{'kaggle.json': b'{\"username\":\"hayathachemi\",\"key\":\"xxxxxxxxxxxxxxxxxxxxxx\"}'}"
            ]
          },
          "metadata": {
            "tags": []
          },
          "execution_count": 9
        },
        {
          "output_type": "stream",
          "text": [
            "time: 8.53 s\n"
          ],
          "name": "stdout"
        }
      ]
    },
    {
      "cell_type": "code",
      "metadata": {
        "id": "Qn3qH3Q9Ip-7",
        "colab_type": "code",
        "colab": {
          "base_uri": "https://localhost:8080/",
          "height": 202
        },
        "outputId": "98c29512-b0da-4617-d653-c4dc32930876"
      },
      "source": [
        "!mkdir .kaggle\n",
        "!mv kaggle.json .kaggle\n",
        "!ls -lha"
      ],
      "execution_count": null,
      "outputs": [
        {
          "output_type": "stream",
          "text": [
            "mkdir: cannot create directory ‘.kaggle’: File exists\n",
            "total 239M\n",
            "drwxr-xr-x  1 root root 4.0K Jun  6 19:27 .\n",
            "drwxr-xr-x  1 root root 4.0K Jun  6 15:50 ..\n",
            "drwxr-xr-x  1 root root 4.0K Jun  2 16:14 .config\n",
            "-rw-r--r--  1 root root  17M Jun  6 15:50 consumer-reviews-of-amazon-products.zip\n",
            "drwxr-xr-x  2 root root 4.0K Jun  6 19:27 .kaggle\n",
            "drwxr-xr-x  1 root root 4.0K May 29 18:19 sample_data\n",
            "drwxr-xr-x 13 1000 1000 4.0K Feb  2 19:47 spark-2.4.5-bin-hadoop2.7\n",
            "-rw-r--r--  1 root root 222M Feb  2 20:27 spark-2.4.5-bin-hadoop2.7.tgz\n",
            "time: 5.01 s\n"
          ],
          "name": "stdout"
        }
      ]
    },
    {
      "cell_type": "code",
      "metadata": {
        "id": "oPvL_hQRJDC4",
        "colab_type": "code",
        "colab": {
          "base_uri": "https://localhost:8080/",
          "height": 101
        },
        "outputId": "e8be6592-042c-4b80-9705-ab9d0e1b2463"
      },
      "source": [
        "\n",
        "!ls -lha .kaggle"
      ],
      "execution_count": null,
      "outputs": [
        {
          "output_type": "stream",
          "text": [
            "total 12K\n",
            "drwxr-xr-x 2 root root 4.0K Jun  6 19:27 .\n",
            "drwxr-xr-x 1 root root 4.0K Jun  6 19:27 ..\n",
            "-rw-r--r-- 1 root root   68 Jun  6 19:26 kaggle.json\n",
            "time: 2.94 s\n"
          ],
          "name": "stdout"
        }
      ]
    },
    {
      "cell_type": "code",
      "metadata": {
        "id": "bWMRDRTrJplF",
        "colab_type": "code",
        "colab": {
          "base_uri": "https://localhost:8080/",
          "height": 34
        },
        "outputId": "53ecf4d1-aba3-4069-8e51-8565ccad2aa6"
      },
      "source": [
        "import os\n",
        "os.environ['KAGGLE_CONFIG_DIR'] = \"/content/.kaggle\""
      ],
      "execution_count": null,
      "outputs": [
        {
          "output_type": "stream",
          "text": [
            "time: 1.92 ms\n"
          ],
          "name": "stdout"
        }
      ]
    },
    {
      "cell_type": "markdown",
      "metadata": {
        "id": "SavcIU3GIMIl",
        "colab_type": "text"
      },
      "source": [
        "Maintenant , c'est fait !! On pourra télécharger n'importe quel dataset ... "
      ]
    },
    {
      "cell_type": "code",
      "metadata": {
        "id": "RqfMqFyZGVh6",
        "colab_type": "code",
        "colab": {
          "base_uri": "https://localhost:8080/",
          "height": 67
        },
        "outputId": "9c77a7b1-f305-4640-ce0c-db9b1b869453"
      },
      "source": [
        "!kaggle datasets download -d datafiniti/consumer-reviews-of-amazon-products"
      ],
      "execution_count": null,
      "outputs": [
        {
          "output_type": "stream",
          "text": [
            "Warning: Your Kaggle API key is readable by other users on this system! To fix this, you can run 'chmod 600 /content/.kaggle/kaggle.json'\n",
            "consumer-reviews-of-amazon-products.zip: Skipping, found more recently modified local copy (use --force to force download)\n",
            "time: 2.09 s\n"
          ],
          "name": "stdout"
        }
      ]
    },
    {
      "cell_type": "markdown",
      "metadata": {
        "id": "p_Jv3RvbKJhD",
        "colab_type": "text"
      },
      "source": [
        "On remarque que le fichier zip suivant **consumer-reviews-of-amazon-products.zip** a été rajouté"
      ]
    },
    {
      "cell_type": "code",
      "metadata": {
        "id": "hAhf3B4IKFks",
        "colab_type": "code",
        "colab": {
          "base_uri": "https://localhost:8080/",
          "height": 67
        },
        "outputId": "8f4e3f18-096d-42be-ee46-86663e003315"
      },
      "source": [
        "!ls"
      ],
      "execution_count": null,
      "outputs": [
        {
          "output_type": "stream",
          "text": [
            "consumer-reviews-of-amazon-products.zip  spark-2.4.5-bin-hadoop2.7\n",
            "sample_data\t\t\t\t spark-2.4.5-bin-hadoop2.7.tgz\n",
            "time: 2.03 s\n"
          ],
          "name": "stdout"
        }
      ]
    },
    {
      "cell_type": "markdown",
      "metadata": {
        "id": "ErtzwBLlKTPz",
        "colab_type": "text"
      },
      "source": [
        "On le décompresse dans le dossier **data** "
      ]
    },
    {
      "cell_type": "code",
      "metadata": {
        "id": "f3atOxmxKqNs",
        "colab_type": "code",
        "colab": {
          "base_uri": "https://localhost:8080/",
          "height": 50
        },
        "outputId": "a0c21f23-3e24-4ece-90ff-6ec9206b22ce"
      },
      "source": [
        "!unzip \\*.zip  -d /data"
      ],
      "execution_count": null,
      "outputs": [
        {
          "output_type": "stream",
          "text": [
            "Archive:  consumer-reviews-of-amazon-products.zip\n",
            "replace /data/1429_1.csv? [y]es, [n]o, [A]ll, [N]one, [r]ename: time: 1min 38s\n"
          ],
          "name": "stdout"
        }
      ]
    },
    {
      "cell_type": "code",
      "metadata": {
        "id": "fBLKIJUTK2xD",
        "colab_type": "code",
        "colab": {
          "base_uri": "https://localhost:8080/",
          "height": 101
        },
        "outputId": "a0312a3b-56ad-428c-c21d-f16eacc96dcb"
      },
      "source": [
        "!ls -lh /data"
      ],
      "execution_count": null,
      "outputs": [
        {
          "output_type": "stream",
          "text": [
            "total 396M\n",
            "-rw-r--r-- 1 root root  47M Sep 20  2019 1429_1.csv\n",
            "-rw-r--r-- 1 root root  95M Sep 20  2019 Datafiniti_Amazon_Consumer_Reviews_of_Amazon_Products.csv\n",
            "-rw-r--r-- 1 root root 254M Sep 20  2019 Datafiniti_Amazon_Consumer_Reviews_of_Amazon_Products_May19.csv\n",
            "time: 1.94 s\n"
          ],
          "name": "stdout"
        }
      ]
    },
    {
      "cell_type": "markdown",
      "metadata": {
        "id": "twbFGQYpLQfU",
        "colab_type": "text"
      },
      "source": [
        "le dataset contient 3 tables , nous on utlisera le dernier **Datafiniti_Amazon_Consumer_Reviews_of_Amazon_Products_May19** qui est le plus a jour (mai 2019) et le plus grand (28 000 lignes).\n",
        "Et voici sa description :\n",
        "\n",
        "\n",
        "> Cet ensemble de données est une liste de plus de 28 000 avis de consommateurs pour des produits Amazon tels que le Kindle, le Fire TV Stick , etc ,extrait de la base de données de produits de Datafiniti mise à jour entre février 2019 et avril 2019. Chaque ligne de produits inclut le nom Amazon dans le champ Marque et fabricant. Tous les champs de cet ensemble de données ont été aplatis, certains omis, pour rationaliser l'analyse de données. Cette version est un exemple d'un grand ensemble de données. L'ensemble de données complet est disponible via Datafiniti (Source Kaggle).\n",
        "\n",
        "\n",
        "\n"
      ]
    },
    {
      "cell_type": "markdown",
      "metadata": {
        "id": "8mtdTsZeNyI3",
        "colab_type": "text"
      },
      "source": [
        "## 3 - Parcours du dataset\n",
        "\n",
        "\n"
      ]
    },
    {
      "cell_type": "markdown",
      "metadata": {
        "id": "Dzr2OdeRB4Vw",
        "colab_type": "text"
      },
      "source": [
        "le dataset contient 3 tables , nous on utlisera pendant ce TP  le dernier **Datafiniti_Amazon_Consumer_Reviews_of_Amazon_Products_May19** qui est le plus a jour (mai 2019) et le plus grand (28 000 lignes) . \n",
        "\n",
        "Cet ensemble de données est une liste de plus de 28 000 avis de consommateurs pour des produits Amazon tels que le Kindle, le Fire TV Stick , etc ,extrait de la base de données de produits de Datafiniti mise à jour entre février 2019 et avril 2019. Chaque ligne de produits inclut le nom Amazon dans le champ Marque et fabricant. Tous les champs de cet ensemble de données ont été aplatis, certains omis, pour rationaliser l'analyse de données. Cette version est un exemple d'un grand ensemble de données. L'ensemble de données complet est disponible via Datafiniti (Source Kaggle)\","
      ]
    },
    {
      "cell_type": "code",
      "metadata": {
        "id": "EhAlKMGwN_R_",
        "colab_type": "code",
        "colab": {
          "base_uri": "https://localhost:8080/",
          "height": 34
        },
        "outputId": "effdda86-feab-4142-e7d7-84cbea865b98"
      },
      "source": [
        "data = sqlContext.read.format('csv').options(header='true', inferschema='true').load('/data/Datafiniti_Amazon_Consumer_Reviews_of_Amazon_Products_May19.csv')"
      ],
      "execution_count": null,
      "outputs": [
        {
          "output_type": "stream",
          "text": [
            "time: 12.9 s\n"
          ],
          "name": "stdout"
        }
      ]
    },
    {
      "cell_type": "code",
      "metadata": {
        "id": "4yKh1SdRPWe1",
        "colab_type": "code",
        "colab": {
          "base_uri": "https://localhost:8080/",
          "height": 50
        },
        "outputId": "23b7fd42-6599-4a29-c278-a7a056508435"
      },
      "source": [
        "print('Le dataset a '+str(data.count())+' lignes et '+ str(len(data.columns)))"
      ],
      "execution_count": null,
      "outputs": [
        {
          "output_type": "stream",
          "text": [
            "Le dataset a 28332 lignes et 24\n",
            "time: 1.4 s\n"
          ],
          "name": "stdout"
        }
      ]
    },
    {
      "cell_type": "markdown",
      "metadata": {
        "id": "7Pa3_wEFP3E0",
        "colab_type": "text"
      },
      "source": [
        "Les colonnes du dataset :"
      ]
    },
    {
      "cell_type": "code",
      "metadata": {
        "id": "VWewogoCPw7I",
        "colab_type": "code",
        "colab": {
          "base_uri": "https://localhost:8080/",
          "height": 470
        },
        "outputId": "a7ef7f88-da40-414c-bcc1-2df98976efd0"
      },
      "source": [
        "data.printSchema()"
      ],
      "execution_count": null,
      "outputs": [
        {
          "output_type": "stream",
          "text": [
            "root\n",
            " |-- id: string (nullable = true)\n",
            " |-- dateAdded: timestamp (nullable = true)\n",
            " |-- dateUpdated: timestamp (nullable = true)\n",
            " |-- name: string (nullable = true)\n",
            " |-- asins: string (nullable = true)\n",
            " |-- brand: string (nullable = true)\n",
            " |-- categories: string (nullable = true)\n",
            " |-- primaryCategories: string (nullable = true)\n",
            " |-- imageURLs: string (nullable = true)\n",
            " |-- keys: string (nullable = true)\n",
            " |-- manufacturer: string (nullable = true)\n",
            " |-- manufacturerNumber: string (nullable = true)\n",
            " |-- reviews.date: string (nullable = true)\n",
            " |-- reviews.dateSeen: string (nullable = true)\n",
            " |-- reviews.didPurchase: string (nullable = true)\n",
            " |-- reviews.doRecommend: boolean (nullable = true)\n",
            " |-- reviews.id: string (nullable = true)\n",
            " |-- reviews.numHelpful: integer (nullable = true)\n",
            " |-- reviews.rating: integer (nullable = true)\n",
            " |-- reviews.sourceURLs: string (nullable = true)\n",
            " |-- reviews.text: string (nullable = true)\n",
            " |-- reviews.title: string (nullable = true)\n",
            " |-- reviews.username: string (nullable = true)\n",
            " |-- sourceURLs: string (nullable = true)\n",
            "\n",
            "time: 9.66 ms\n"
          ],
          "name": "stdout"
        }
      ]
    },
    {
      "cell_type": "code",
      "metadata": {
        "id": "8dNp3n3Ahr9P",
        "colab_type": "code",
        "colab": {
          "base_uri": "https://localhost:8080/",
          "height": 34
        },
        "outputId": "d037ae04-356b-4df2-c358-f65da7ad03bf"
      },
      "source": [
        "#Envelver les points \".\" des noms de colonne car ca provoque une erreur a la selection\n",
        "newColumns = []\n",
        "for col in data.columns :\n",
        "    newCol = col.strip()\n",
        "    newCol = newCol.replace('.','') \n",
        "    newColumns.append(newCol)\n",
        "len(newColumns)\n",
        "data = data.toDF(*newColumns)"
      ],
      "execution_count": null,
      "outputs": [
        {
          "output_type": "stream",
          "text": [
            "time: 44.9 ms\n"
          ],
          "name": "stdout"
        }
      ]
    },
    {
      "cell_type": "markdown",
      "metadata": {
        "id": "Q0MuyuvxCX2v",
        "colab_type": "text"
      },
      "source": [
        "On s'intéresse qu'aux deux colonnes : Reviews et Rating \n",
        "\n",
        "**Review Text**: Texte feedback client.\n",
        "\n",
        "**Rating**: Variable entière ordinale positive pour le score produit accordé par le client de 1 pire à 5 meilleur ."
      ]
    },
    {
      "cell_type": "code",
      "metadata": {
        "id": "XR7Op28OgvrJ",
        "colab_type": "code",
        "colab": {
          "base_uri": "https://localhost:8080/",
          "height": 34
        },
        "outputId": "7b6ece92-d36c-444d-ad56-bb1e3cef3ace"
      },
      "source": [
        "data = data.selectExpr('reviewstext as reviews','reviewsrating as rating')\n",
        "dataPD = data.toPandas()"
      ],
      "execution_count": null,
      "outputs": [
        {
          "output_type": "stream",
          "text": [
            "time: 4.36 s\n"
          ],
          "name": "stdout"
        }
      ]
    },
    {
      "cell_type": "code",
      "metadata": {
        "id": "NdFFQJRDbuO2",
        "colab_type": "code",
        "colab": {
          "base_uri": "https://localhost:8080/",
          "height": 185
        },
        "outputId": "226e7faa-e4c0-49bd-b7b3-225d0f1694aa"
      },
      "source": [
        "dataPD.info() #pour voir le nombre de valeur nulle"
      ],
      "execution_count": null,
      "outputs": [
        {
          "output_type": "stream",
          "text": [
            "<class 'pandas.core.frame.DataFrame'>\n",
            "RangeIndex: 28332 entries, 0 to 28331\n",
            "Data columns (total 2 columns):\n",
            " #   Column   Non-Null Count  Dtype \n",
            "---  ------   --------------  ----- \n",
            " 0   reviews  28332 non-null  object\n",
            " 1   rating   28332 non-null  int32 \n",
            "dtypes: int32(1), object(1)\n",
            "memory usage: 332.1+ KB\n",
            "time: 15 ms\n"
          ],
          "name": "stdout"
        }
      ]
    },
    {
      "cell_type": "markdown",
      "metadata": {
        "id": "92SbcB38k7RH",
        "colab_type": "text"
      },
      "source": [
        "\n",
        "\n",
        "> On remarque qu'il **y'a aucune valeur nulle** dans le dataset ! \n"
      ]
    },
    {
      "cell_type": "markdown",
      "metadata": {
        "id": "G2teVvzonlzU",
        "colab_type": "text"
      },
      "source": [
        "## 4- Exploration du dataset"
      ]
    },
    {
      "cell_type": "code",
      "metadata": {
        "id": "cyVbO2fIsoo0",
        "colab_type": "code",
        "colab": {
          "base_uri": "https://localhost:8080/",
          "height": 330
        },
        "outputId": "a1233df0-46b9-4301-fb18-4fa57ddbf96d"
      },
      "source": [
        "dataPD.groupby(\"rating\").count()"
      ],
      "execution_count": null,
      "outputs": [
        {
          "output_type": "execute_result",
          "data": {
            "text/html": [
              "<div>\n",
              "<style scoped>\n",
              "    .dataframe tbody tr th:only-of-type {\n",
              "        vertical-align: middle;\n",
              "    }\n",
              "\n",
              "    .dataframe tbody tr th {\n",
              "        vertical-align: top;\n",
              "    }\n",
              "\n",
              "    .dataframe thead th {\n",
              "        text-align: right;\n",
              "    }\n",
              "</style>\n",
              "<table border=\"1\" class=\"dataframe\">\n",
              "  <thead>\n",
              "    <tr style=\"text-align: right;\">\n",
              "      <th></th>\n",
              "      <th>reviews</th>\n",
              "    </tr>\n",
              "    <tr>\n",
              "      <th>rating</th>\n",
              "      <th></th>\n",
              "    </tr>\n",
              "  </thead>\n",
              "  <tbody>\n",
              "    <tr>\n",
              "      <th>0</th>\n",
              "      <td>91</td>\n",
              "    </tr>\n",
              "    <tr>\n",
              "      <th>1</th>\n",
              "      <td>965</td>\n",
              "    </tr>\n",
              "    <tr>\n",
              "      <th>2</th>\n",
              "      <td>617</td>\n",
              "    </tr>\n",
              "    <tr>\n",
              "      <th>3</th>\n",
              "      <td>1205</td>\n",
              "    </tr>\n",
              "    <tr>\n",
              "      <th>4</th>\n",
              "      <td>5621</td>\n",
              "    </tr>\n",
              "    <tr>\n",
              "      <th>5</th>\n",
              "      <td>19831</td>\n",
              "    </tr>\n",
              "    <tr>\n",
              "      <th>16</th>\n",
              "      <td>1</td>\n",
              "    </tr>\n",
              "    <tr>\n",
              "      <th>44</th>\n",
              "      <td>1</td>\n",
              "    </tr>\n",
              "  </tbody>\n",
              "</table>\n",
              "</div>"
            ],
            "text/plain": [
              "        reviews\n",
              "rating         \n",
              "0            91\n",
              "1           965\n",
              "2           617\n",
              "3          1205\n",
              "4          5621\n",
              "5         19831\n",
              "16            1\n",
              "44            1"
            ]
          },
          "metadata": {
            "tags": []
          },
          "execution_count": 24
        },
        {
          "output_type": "stream",
          "text": [
            "time: 31.1 ms\n"
          ],
          "name": "stdout"
        }
      ]
    },
    {
      "cell_type": "markdown",
      "metadata": {
        "id": "txJnexa6syN0",
        "colab_type": "text"
      },
      "source": [
        "\n",
        "\n",
        "> on remarque qu'il y'a **2 lignes qui posent problème** avec comme valeur **16** et **44** , donc on les supprime\n",
        "\n",
        "\n"
      ]
    },
    {
      "cell_type": "code",
      "metadata": {
        "id": "d7-geJD7tD4d",
        "colab_type": "code",
        "colab": {
          "base_uri": "https://localhost:8080/",
          "height": 271
        },
        "outputId": "f899b4f6-dcf7-45be-86c9-3e88e3c0e6ef"
      },
      "source": [
        "data = data.filter(data.rating<=5) #enelver toutes les lignes qui ont rating > 5\n",
        "dataPD = data.toPandas()\n",
        "dataPD.groupby(\"rating\").count()"
      ],
      "execution_count": null,
      "outputs": [
        {
          "output_type": "execute_result",
          "data": {
            "text/html": [
              "<div>\n",
              "<style scoped>\n",
              "    .dataframe tbody tr th:only-of-type {\n",
              "        vertical-align: middle;\n",
              "    }\n",
              "\n",
              "    .dataframe tbody tr th {\n",
              "        vertical-align: top;\n",
              "    }\n",
              "\n",
              "    .dataframe thead th {\n",
              "        text-align: right;\n",
              "    }\n",
              "</style>\n",
              "<table border=\"1\" class=\"dataframe\">\n",
              "  <thead>\n",
              "    <tr style=\"text-align: right;\">\n",
              "      <th></th>\n",
              "      <th>reviews</th>\n",
              "    </tr>\n",
              "    <tr>\n",
              "      <th>rating</th>\n",
              "      <th></th>\n",
              "    </tr>\n",
              "  </thead>\n",
              "  <tbody>\n",
              "    <tr>\n",
              "      <th>0</th>\n",
              "      <td>91</td>\n",
              "    </tr>\n",
              "    <tr>\n",
              "      <th>1</th>\n",
              "      <td>965</td>\n",
              "    </tr>\n",
              "    <tr>\n",
              "      <th>2</th>\n",
              "      <td>617</td>\n",
              "    </tr>\n",
              "    <tr>\n",
              "      <th>3</th>\n",
              "      <td>1205</td>\n",
              "    </tr>\n",
              "    <tr>\n",
              "      <th>4</th>\n",
              "      <td>5621</td>\n",
              "    </tr>\n",
              "    <tr>\n",
              "      <th>5</th>\n",
              "      <td>19831</td>\n",
              "    </tr>\n",
              "  </tbody>\n",
              "</table>\n",
              "</div>"
            ],
            "text/plain": [
              "        reviews\n",
              "rating         \n",
              "0            91\n",
              "1           965\n",
              "2           617\n",
              "3          1205\n",
              "4          5621\n",
              "5         19831"
            ]
          },
          "metadata": {
            "tags": []
          },
          "execution_count": 25
        },
        {
          "output_type": "stream",
          "text": [
            "time: 2.47 s\n"
          ],
          "name": "stdout"
        }
      ]
    },
    {
      "cell_type": "code",
      "metadata": {
        "id": "8qN6tIOioIta",
        "colab_type": "code",
        "colab": {
          "base_uri": "https://localhost:8080/",
          "height": 697
        },
        "outputId": "1d9bf19f-0b3e-4db2-dc3b-6467be1872e5"
      },
      "source": [
        "dataPD.groupby(\"rating\").count().plot.pie(subplots=True,figsize=(10,10),title=\"Repratition des avis\",autopct='%.2f%%')"
      ],
      "execution_count": null,
      "outputs": [
        {
          "output_type": "execute_result",
          "data": {
            "text/plain": [
              "array([<matplotlib.axes._subplots.AxesSubplot object at 0x7f7501780588>],\n",
              "      dtype=object)"
            ]
          },
          "metadata": {
            "tags": []
          },
          "execution_count": 26
        },
        {
          "output_type": "display_data",
          "data": {
            "image/png": "[encoded data removed]",
            "text/plain": [
              "<Figure size 720x720 with 1 Axes>"
            ]
          },
          "metadata": {
            "tags": []
          }
        },
        {
          "output_type": "stream",
          "text": [
            "time: 200 ms\n"
          ],
          "name": "stdout"
        }
      ]
    },
    {
      "cell_type": "markdown",
      "metadata": {
        "id": "7HZeUU0wv6x9",
        "colab_type": "text"
      },
      "source": [
        "\n",
        "\n",
        "> On remarque le dataset est ***déséquilibré*** avec majoraitairement des avis **favorables( à 70% )** , ce qui peut poser un gros probleme dans l'apprentisage \n",
        "\n"
      ]
    },
    {
      "cell_type": "markdown",
      "metadata": {
        "id": "orMtherGl7hn",
        "colab_type": "text"
      },
      "source": [
        "# **Prétraitement du dataset**"
      ]
    },
    {
      "cell_type": "markdown",
      "metadata": {
        "id": "27pwjkCu-usf",
        "colab_type": "text"
      },
      "source": [
        "## 1- Annotation du dataset"
      ]
    },
    {
      "cell_type": "markdown",
      "metadata": {
        "id": "2n4yntXf-2hw",
        "colab_type": "text"
      },
      "source": [
        "Comme nous n'avons pas de colonne qui montre le sentiment : positif ou négatif , on a défini une nouvelle colonne de sentiment. Pour ce faire, on a supposé que les avis qui avaient une note de 4 ou plus étaient positifs et 3 ou moins étaient négatifs ."
      ]
    },
    {
      "cell_type": "code",
      "metadata": {
        "id": "mqufD6Ja_Tlu",
        "colab_type": "code",
        "colab": {
          "base_uri": "https://localhost:8080/",
          "height": 34
        },
        "outputId": "34a58fb8-285e-48e9-bb57-fcd759aa7efe"
      },
      "source": [
        "from pyspark.sql import functions as f\n",
        "# Rating of 4 or higher -> positive (1)\n",
        "# Rating of  3 or lower -> negative (0)\n",
        "\n",
        "data_new=data.withColumn('Sentiment', f.when(f.col('Rating') >=4,1).otherwise(0))"
      ],
      "execution_count": null,
      "outputs": [
        {
          "output_type": "stream",
          "text": [
            "time: 106 ms\n"
          ],
          "name": "stdout"
        }
      ]
    },
    {
      "cell_type": "code",
      "metadata": {
        "id": "WflhkydhByQ5",
        "colab_type": "code",
        "colab": {}
      },
      "source": [
        "data_new.printSchema()"
      ],
      "execution_count": null,
      "outputs": []
    },
    {
      "cell_type": "code",
      "metadata": {
        "id": "ggAMwu3bqePk",
        "colab_type": "code",
        "colab": {
          "base_uri": "https://localhost:8080/",
          "height": 153
        },
        "outputId": "d4884bb6-1b44-4b13-da93-5754aefaf957"
      },
      "source": [
        "data_repartition = data_new.select('reviews','Sentiment').toPandas().groupby(\"Sentiment\").count()\n",
        "data_repartition"
      ],
      "execution_count": null,
      "outputs": [
        {
          "output_type": "execute_result",
          "data": {
            "text/html": [
              "<div>\n",
              "<style scoped>\n",
              "    .dataframe tbody tr th:only-of-type {\n",
              "        vertical-align: middle;\n",
              "    }\n",
              "\n",
              "    .dataframe tbody tr th {\n",
              "        vertical-align: top;\n",
              "    }\n",
              "\n",
              "    .dataframe thead th {\n",
              "        text-align: right;\n",
              "    }\n",
              "</style>\n",
              "<table border=\"1\" class=\"dataframe\">\n",
              "  <thead>\n",
              "    <tr style=\"text-align: right;\">\n",
              "      <th></th>\n",
              "      <th>reviews</th>\n",
              "    </tr>\n",
              "    <tr>\n",
              "      <th>Sentiment</th>\n",
              "      <th></th>\n",
              "    </tr>\n",
              "  </thead>\n",
              "  <tbody>\n",
              "    <tr>\n",
              "      <th>0</th>\n",
              "      <td>2878</td>\n",
              "    </tr>\n",
              "    <tr>\n",
              "      <th>1</th>\n",
              "      <td>25452</td>\n",
              "    </tr>\n",
              "  </tbody>\n",
              "</table>\n",
              "</div>"
            ],
            "text/plain": [
              "           reviews\n",
              "Sentiment         \n",
              "0             2878\n",
              "1            25452"
            ]
          },
          "metadata": {
            "tags": []
          },
          "execution_count": 28
        },
        {
          "output_type": "stream",
          "text": [
            "time: 2.41 s\n"
          ],
          "name": "stdout"
        }
      ]
    },
    {
      "cell_type": "code",
      "metadata": {
        "id": "3o2872pmmNzO",
        "colab_type": "code",
        "colab": {
          "base_uri": "https://localhost:8080/",
          "height": 400
        },
        "outputId": "a91b8900-3882-4dff-cf49-df6e74e06aeb"
      },
      "source": [
        "import matplotlib.pyplot as plt\n",
        "fig, axes = plt.subplots(nrows=1, ncols=2,figsize=(10,5))\n",
        "data_repartition.plot.pie(ax=axes[0],subplots=True,title=\"Repratition des avis\",autopct='%.2f%%')\n",
        "data_repartition.plot.bar(ax=axes[1],title=\"Repratition des avis\")"
      ],
      "execution_count": null,
      "outputs": [
        {
          "output_type": "execute_result",
          "data": {
            "text/plain": [
              "<matplotlib.axes._subplots.AxesSubplot at 0x7f7500a85390>"
            ]
          },
          "metadata": {
            "tags": []
          },
          "execution_count": 29
        },
        {
          "output_type": "display_data",
          "data": {
            "image/png": "[encoded data removed]",
            "text/plain": [
              "<Figure size 720x360 with 2 Axes>"
            ]
          },
          "metadata": {
            "tags": [],
            "needs_background": "light"
          }
        },
        {
          "output_type": "stream",
          "text": [
            "time: 352 ms\n"
          ],
          "name": "stdout"
        }
      ]
    },
    {
      "cell_type": "markdown",
      "metadata": {
        "id": "46zPNjDancIq",
        "colab_type": "text"
      },
      "source": [
        "\n",
        "\n",
        "> Comme on peut voir le dataset extrainement **unbalanced**\n",
        "\n"
      ]
    },
    {
      "cell_type": "markdown",
      "metadata": {
        "id": "A03vKwgOGsMY",
        "colab_type": "text"
      },
      "source": [
        "## 2- Prétraitement du texte ( Review text)"
      ]
    },
    {
      "cell_type": "markdown",
      "metadata": {
        "id": "K_b9e3zQyfpV",
        "colab_type": "text"
      },
      "source": [
        "Avant de pouvoir être utilisable, la colone review  doit subir un prétraitement , et cela en implémentant les étapes de prétraitement du texte vues auparavant"
      ]
    },
    {
      "cell_type": "code",
      "metadata": {
        "id": "O7YRIwYcdnOt",
        "colab_type": "code",
        "colab": {
          "base_uri": "https://localhost:8080/",
          "height": 34
        },
        "outputId": "138c0f9c-73b2-4817-f747-4a3d50036ac4"
      },
      "source": [
        "from pyspark.ml.feature import HashingTF, IDF,StopWordsRemover,Tokenizer, CountVectorizer"
      ],
      "execution_count": null,
      "outputs": [
        {
          "output_type": "stream",
          "text": [
            "time: 134 ms\n"
          ],
          "name": "stdout"
        }
      ]
    },
    {
      "cell_type": "markdown",
      "metadata": {
        "id": "EB7lP8uRbmLN",
        "colab_type": "text"
      },
      "source": [
        "**a-Passage en minuscule** :"
      ]
    },
    {
      "cell_type": "code",
      "metadata": {
        "id": "mw81rW6bbpMV",
        "colab_type": "code",
        "colab": {
          "base_uri": "https://localhost:8080/",
          "height": 34
        },
        "outputId": "e78ec1bd-3124-4f7e-c352-35146a8e5a85"
      },
      "source": [
        "from pyspark.sql.functions import lower, col\n",
        "data_new=data_new.select(\"*\", lower(col('reviews')))\n"
      ],
      "execution_count": null,
      "outputs": [
        {
          "output_type": "stream",
          "text": [
            "time: 25.9 ms\n"
          ],
          "name": "stdout"
        }
      ]
    },
    {
      "cell_type": "code",
      "metadata": {
        "id": "jr8fm9LHdQue",
        "colab_type": "code",
        "colab": {
          "base_uri": "https://localhost:8080/",
          "height": 34
        },
        "outputId": "79fdb71c-48c0-4989-b326-b7e90aa1dda4"
      },
      "source": [
        "data_new = data_new.selectExpr('lower(reviews) as reviews','rating','Sentiment')"
      ],
      "execution_count": null,
      "outputs": [
        {
          "output_type": "stream",
          "text": [
            "time: 49.5 ms\n"
          ],
          "name": "stdout"
        }
      ]
    },
    {
      "cell_type": "code",
      "metadata": {
        "id": "2F-IVS6welzg",
        "colab_type": "code",
        "colab": {
          "base_uri": "https://localhost:8080/",
          "height": 470
        },
        "outputId": "d37b01db-45cd-46c8-a23c-0345d1ea7bda"
      },
      "source": [
        "data_new.show()"
      ],
      "execution_count": null,
      "outputs": [
        {
          "output_type": "stream",
          "text": [
            "+--------------------+------+---------+\n",
            "|             reviews|rating|Sentiment|\n",
            "+--------------------+------+---------+\n",
            "|i order 3 of them...|     3|        0|\n",
            "|bulk is always th...|     4|        1|\n",
            "|well they are not...|     5|        1|\n",
            "|seem to work as w...|     5|        1|\n",
            "|these batteries a...|     5|        1|\n",
            "|bought a lot of b...|     5|        1|\n",
            "|ive not had any p...|     5|        1|\n",
            "|well if you are l...|     5|        1|\n",
            "|these do not hold...|     3|        0|\n",
            "|amazonbasics aa a...|     4|        1|\n",
            "|i find amazon bas...|     5|        1|\n",
            "|when i first star...|     3|        0|\n",
            "|use it for my fis...|     5|        1|\n",
            "|just got em so i ...|     5|        1|\n",
            "|we have many thin...|     5|        1|\n",
            "|thankful that i w...|     5|        1|\n",
            "|i don't know if i...|     1|        0|\n",
            "|in my opinion the...|     2|        0|\n",
            "|they don't last a...|     4|        1|\n",
            "|bought these batt...|     3|        0|\n",
            "+--------------------+------+---------+\n",
            "only showing top 20 rows\n",
            "\n",
            "time: 296 ms\n"
          ],
          "name": "stdout"
        }
      ]
    },
    {
      "cell_type": "markdown",
      "metadata": {
        "id": "YpWgEKZddXbL",
        "colab_type": "text"
      },
      "source": [
        "**b-Tokenisation:**"
      ]
    },
    {
      "cell_type": "code",
      "metadata": {
        "id": "Af01HusIdhKy",
        "colab_type": "code",
        "colab": {
          "base_uri": "https://localhost:8080/",
          "height": 34
        },
        "outputId": "78e08593-7ad8-483b-be3a-00ce7645055b"
      },
      "source": [
        "\n",
        "tokenizer = Tokenizer(inputCol=\"reviews\", outputCol=\"words\") # \"review\"==> (\"word1\",\"word2\",...,\"wordn\")"
      ],
      "execution_count": null,
      "outputs": [
        {
          "output_type": "stream",
          "text": [
            "time: 23.8 ms\n"
          ],
          "name": "stdout"
        }
      ]
    },
    {
      "cell_type": "markdown",
      "metadata": {
        "id": "bdi5UIbtds8R",
        "colab_type": "text"
      },
      "source": [
        "**c-Retrait des stopwords:**"
      ]
    },
    {
      "cell_type": "code",
      "metadata": {
        "id": "6D6FgAkW1-e2",
        "colab_type": "code",
        "colab": {
          "base_uri": "https://localhost:8080/",
          "height": 34
        },
        "outputId": "61f1fa14-62da-49fa-948f-737853de1809"
      },
      "source": [
        "#List of stop words \n",
        "#Source :https://gist.github.com/sebleier/554280\n",
        "add_stopwords=[\"i\", \"me\", \"my\", \"myself\", \"we\", \"our\", \"ours\", \"ourselves\", \"you\", \"your\", \"yours\", \"yourself\", \"yourselves\", \"he\", \"him\", \"his\", \"himself\", \"she\", \"her\", \"hers\", \"herself\", \"it\", \"its\", \"itself\", \"they\", \"them\", \"their\", \"theirs\", \"themselves\", \"what\", \"which\", \"who\", \"whom\", \"this\", \"that\", \"these\", \"those\", \"am\", \"is\", \"are\", \"was\", \"were\", \"be\", \"been\", \"being\", \"have\", \"has\", \"had\", \"having\", \"do\", \"does\", \"did\", \"doing\", \"a\", \"an\", \"the\", \"and\", \"but\", \"if\", \"or\", \"because\", \"as\", \"until\", \"while\", \"of\", \"at\", \"by\", \"for\", \"with\", \"about\", \"against\", \"between\", \"into\", \"through\", \"during\", \"before\", \"after\", \"above\", \"below\", \"to\", \"from\", \"up\", \"down\", \"in\", \"out\", \"on\", \"off\", \"over\", \"under\", \"again\", \"further\", \"then\", \"once\", \"here\", \"there\", \"when\", \"where\", \"why\", \"how\", \"all\", \"any\", \"both\", \"each\", \"few\", \"more\", \"most\", \"other\", \"some\", \"such\", \"no\", \"nor\", \"not\", \"only\", \"own\", \"same\", \"so\", \"than\", \"too\", \"very\", \"s\", \"t\", \"can\", \"will\", \"just\", \"don\", \"should\", \"now\"]"
      ],
      "execution_count": null,
      "outputs": [
        {
          "output_type": "stream",
          "text": [
            "time: 5.24 ms\n"
          ],
          "name": "stdout"
        }
      ]
    },
    {
      "cell_type": "code",
      "metadata": {
        "id": "622C5KWkeSRS",
        "colab_type": "code",
        "colab": {
          "base_uri": "https://localhost:8080/",
          "height": 34
        },
        "outputId": "31641e74-8df4-4f11-b5b1-0a7c7cba59ba"
      },
      "source": [
        "stopwordsRemover = StopWordsRemover(inputCol=\"words\", outputCol=\"filltred_words\").setStopWords(add_stopwords)"
      ],
      "execution_count": null,
      "outputs": [
        {
          "output_type": "stream",
          "text": [
            "time: 103 ms\n"
          ],
          "name": "stdout"
        }
      ]
    },
    {
      "cell_type": "markdown",
      "metadata": {
        "id": "qGT_HxsXIVxB",
        "colab_type": "text"
      },
      "source": [
        "**e-TF-IDF:**"
      ]
    },
    {
      "cell_type": "code",
      "metadata": {
        "id": "y7NvwE9wzL9H",
        "colab_type": "code",
        "colab": {
          "base_uri": "https://localhost:8080/",
          "height": 34
        },
        "outputId": "eb7b2d0b-bba0-4343-cfa1-115e0d36d9fb"
      },
      "source": [
        "#1-TF\n",
        "countVectors = CountVectorizer(inputCol=\"filltred_words\", outputCol=\"rawFeatures\", vocabSize=10000, minDF=5) #(\"word1\",\"word2\",...,\"wordn\") -> (nb1,nb2,...,nbn)\n",
        "\n",
        "#une autre methode qui fait la meme chose que countVectors mais de maniere diffente\n",
        "#hashingTF = HashingTF(inputCol=\"filltred_words\", outputCol=\"rawFeatures\", numFeatures=20) \n",
        "\n",
        "#2-TF-IDF\n",
        "idf = IDF(inputCol=\"rawFeatures\", outputCol=\"features\")"
      ],
      "execution_count": null,
      "outputs": [
        {
          "output_type": "stream",
          "text": [
            "time: 29.2 ms\n"
          ],
          "name": "stdout"
        }
      ]
    },
    {
      "cell_type": "markdown",
      "metadata": {
        "id": "xFiOai-kzoJi",
        "colab_type": "text"
      },
      "source": [
        "\n",
        "\n",
        "> Une bonne pratique pour automatiser une suite de traitement sur une meme donnée est d'utiliser les **Piplines de spark** \n",
        "\n",
        "\n",
        "\n"
      ]
    },
    {
      "cell_type": "code",
      "metadata": {
        "id": "849JCZYq3BPe",
        "colab_type": "code",
        "colab": {
          "base_uri": "https://localhost:8080/",
          "height": 218
        },
        "outputId": "c33559da-9fda-4fe1-ebd0-48c9330fc3d0"
      },
      "source": [
        "from pyspark.ml import Pipeline\n",
        "pipeline = Pipeline(stages=[tokenizer, stopwordsRemover,countVectors,idf])\n",
        "pipelineFit = pipeline.fit(data_new)\n",
        "dataset = pipelineFit.transform(data_new)\n",
        "dataset.show(5)"
      ],
      "execution_count": null,
      "outputs": [
        {
          "output_type": "stream",
          "text": [
            "+--------------------+------+---------+--------------------+--------------------+--------------------+--------------------+\n",
            "|             reviews|rating|Sentiment|               words|      filltred_words|         rawFeatures|            features|\n",
            "+--------------------+------+---------+--------------------+--------------------+--------------------+--------------------+\n",
            "|i order 3 of them...|     3|        0|[i, order, 3, of,...|[order, 3, one, i...|(5600,[12,24,90,9...|(5600,[12,24,90,9...|\n",
            "|bulk is always th...|     4|        1|[bulk, is, always...|[bulk, always, le...|(5600,[11,71,101,...|(5600,[11,71,101,...|\n",
            "|well they are not...|     5|        1|[well, they, are,...|[well, duracell, ...|(5600,[9,27,121,1...|(5600,[9,27,121,1...|\n",
            "|seem to work as w...|     5|        1|[seem, to, work, ...|[seem, work, well...|(5600,[1,9,19,27,...|(5600,[1,9,19,27,...|\n",
            "|these batteries a...|     5|        1|[these, batteries...|[batteries, long,...|(5600,[1,9,16,80,...|(5600,[1,9,16,80,...|\n",
            "+--------------------+------+---------+--------------------+--------------------+--------------------+--------------------+\n",
            "only showing top 5 rows\n",
            "\n",
            "time: 10.9 s\n"
          ],
          "name": "stdout"
        }
      ]
    },
    {
      "cell_type": "markdown",
      "metadata": {
        "id": "OOJliUVGIiex",
        "colab_type": "text"
      },
      "source": [
        "## Scission du dataset"
      ]
    },
    {
      "cell_type": "code",
      "metadata": {
        "id": "6-IkHU975VYd",
        "colab_type": "code",
        "colab": {
          "base_uri": "https://localhost:8080/",
          "height": 34
        },
        "outputId": "0d7e48d1-bead-448a-c6c6-ac3ef035a550"
      },
      "source": [
        "(trainingData, testData) = dataset.randomSplit([0.7, 0.3], seed = 100)"
      ],
      "execution_count": null,
      "outputs": [
        {
          "output_type": "stream",
          "text": [
            "time: 29 ms\n"
          ],
          "name": "stdout"
        }
      ]
    },
    {
      "cell_type": "code",
      "metadata": {
        "id": "cGU2EmmpI8Ay",
        "colab_type": "code",
        "colab": {
          "base_uri": "https://localhost:8080/",
          "height": 67
        },
        "outputId": "625443ea-4d63-4c63-fa26-d45661223125"
      },
      "source": [
        "print(\"Training Dataset Count: \" + str(trainingData.count()))\n",
        "print(\"Test Dataset Count: \" + str(testData.count()))"
      ],
      "execution_count": null,
      "outputs": [
        {
          "output_type": "stream",
          "text": [
            "Training Dataset Count: 19939\n",
            "Test Dataset Count: 8391\n",
            "time: 10 s\n"
          ],
          "name": "stdout"
        }
      ]
    },
    {
      "cell_type": "code",
      "metadata": {
        "id": "M2Dm9xz6rpu9",
        "colab_type": "code",
        "colab": {
          "base_uri": "https://localhost:8080/",
          "height": 380
        },
        "outputId": "260fb00a-6702-4bf7-f0c5-2c6bbd0a7a6f"
      },
      "source": [
        "fig, axes = plt.subplots(nrows=1, ncols=2,figsize=(10,5))\n",
        "trainingData.select('reviews','Sentiment').toPandas().groupby(\"Sentiment\").count().plot.bar(ax=axes[0],title=\"Repartition du training dataset \")\n",
        "testData.select('reviews','Sentiment').toPandas().groupby(\"Sentiment\").count().plot.bar(ax=axes[1],title=\"Repartition du test dataset\")"
      ],
      "execution_count": null,
      "outputs": [
        {
          "output_type": "execute_result",
          "data": {
            "text/plain": [
              "<matplotlib.axes._subplots.AxesSubplot at 0x7f7501683048>"
            ]
          },
          "metadata": {
            "tags": []
          },
          "execution_count": 41
        },
        {
          "output_type": "display_data",
          "data": {
            "image/png": "[encoded data removed]",
            "text/plain": [
              "<Figure size 720x360 with 2 Axes>"
            ]
          },
          "metadata": {
            "tags": [],
            "needs_background": "light"
          }
        },
        {
          "output_type": "stream",
          "text": [
            "time: 9.19 s\n"
          ],
          "name": "stdout"
        }
      ]
    },
    {
      "cell_type": "markdown",
      "metadata": {
        "id": "e9JEhe094oB8",
        "colab_type": "text"
      },
      "source": [
        "# **Construction des Modèles**"
      ]
    },
    {
      "cell_type": "markdown",
      "metadata": {
        "id": "1GPe9ZEm5ltK",
        "colab_type": "text"
      },
      "source": [
        "## 1- Naive Bayes"
      ]
    },
    {
      "cell_type": "code",
      "metadata": {
        "id": "sj8FUwhZ6BPd",
        "colab_type": "code",
        "colab": {
          "base_uri": "https://localhost:8080/",
          "height": 34
        },
        "outputId": "6e44b66e-d961-4aaa-abc9-6cc7c8e00ca0"
      },
      "source": [
        "from pyspark.ml.classification import NaiveBayes\n",
        "#Spécifie la colonne des \"features\" et de la sortie \"rating\" \n",
        "nb = NaiveBayes(smoothing=1).setLabelCol('Sentiment').setFeaturesCol('features') \n",
        "modelNB = nb.fit(trainingData)"
      ],
      "execution_count": null,
      "outputs": [
        {
          "output_type": "stream",
          "text": [
            "time: 8.08 s\n"
          ],
          "name": "stdout"
        }
      ]
    },
    {
      "cell_type": "markdown",
      "metadata": {
        "id": "DvucMaug5qMj",
        "colab_type": "text"
      },
      "source": [
        "## 2- SVM"
      ]
    },
    {
      "cell_type": "code",
      "metadata": {
        "id": "Y6ML7Ewr6Kp3",
        "colab_type": "code",
        "colab": {
          "base_uri": "https://localhost:8080/",
          "height": 34
        },
        "outputId": "54ba8e7a-ca7d-4b54-d33a-c9698691bb1a"
      },
      "source": [
        "from pyspark.ml.classification import LinearSVC\n",
        "\n",
        "lsvc = LinearSVC(maxIter=10, regParam=0.1).setLabelCol('Sentiment').setFeaturesCol('features')\n",
        "\n",
        "modelSVM = lsvc.fit(trainingData)"
      ],
      "execution_count": null,
      "outputs": [
        {
          "output_type": "stream",
          "text": [
            "time: 1min 27s\n"
          ],
          "name": "stdout"
        }
      ]
    },
    {
      "cell_type": "markdown",
      "metadata": {
        "id": "6ERJy_Lt5xdz",
        "colab_type": "text"
      },
      "source": [
        "## 3- RF"
      ]
    },
    {
      "cell_type": "code",
      "metadata": {
        "id": "QvVzhJ2D7XAt",
        "colab_type": "code",
        "colab": {
          "base_uri": "https://localhost:8080/",
          "height": 34
        },
        "outputId": "b464d678-82a5-4702-e420-08d7591aa02a"
      },
      "source": [
        "from pyspark.ml.classification import RandomForestClassifier\n",
        "\n",
        "rf = RandomForestClassifier(featuresCol=\"features\").setLabelCol('Sentiment')\n",
        "\n",
        "modelRF = rf.fit(trainingData)\n"
      ],
      "execution_count": null,
      "outputs": [
        {
          "output_type": "stream",
          "text": [
            "time: 34.2 s\n"
          ],
          "name": "stdout"
        }
      ]
    },
    {
      "cell_type": "markdown",
      "metadata": {
        "id": "rwLCILPmJUlz",
        "colab_type": "text"
      },
      "source": [
        "# **Evaluation des Modèles**"
      ]
    },
    {
      "cell_type": "code",
      "metadata": {
        "id": "iCsqDGiao8R6",
        "colab_type": "code",
        "colab": {
          "base_uri": "https://localhost:8080/",
          "height": 87
        },
        "outputId": "332417d4-4162-43ad-d976-8e588b469002"
      },
      "source": [
        "import seaborn as sns\n",
        "\n",
        "from pyspark.ml.evaluation import MulticlassClassificationEvaluator\n",
        "from pyspark.ml.evaluation import BinaryClassificationEvaluator\n",
        "from sklearn.metrics import classification_report, confusion_matrix"
      ],
      "execution_count": null,
      "outputs": [
        {
          "output_type": "stream",
          "text": [
            "time: 357 ms\n"
          ],
          "name": "stdout"
        },
        {
          "output_type": "stream",
          "text": [
            "/usr/local/lib/python3.6/dist-packages/statsmodels/tools/_testing.py:19: FutureWarning: pandas.util.testing is deprecated. Use the functions in the public API at pandas.testing instead.\n",
            "  import pandas.util.testing as tm\n"
          ],
          "name": "stderr"
        }
      ]
    },
    {
      "cell_type": "markdown",
      "metadata": {
        "id": "bTdB9ms5wf9U",
        "colab_type": "text"
      },
      "source": [
        "L'évaluation sera faite avec : \n",
        "\n",
        "> **Taux d'exactitude (accuracy score)**: La proportion d’instances qui ont été classées correctement .\n",
        "\n",
        "> **Matrice de confusion** :Une matrice de confusion fournit un résumé des résultats prédictifs d'un problème de classification. Les prédictions correctes et incorrectes sont résumées dans un tableau avec leurs valeurs et classifiées par classe.\n",
        "\n",
        "> **Rapport de classification** : Un rapport de classification montre une représentation des principales mesures de classification par classe. Cela donne une intuition plus profonde du comportement du classificateur par rapport à la précision globale, ce qui peut masquer les faiblesses fonctionnelles d'une classe d'un problème multiclasse . "
      ]
    },
    {
      "cell_type": "markdown",
      "metadata": {
        "id": "C4fMqutzKME6",
        "colab_type": "text"
      },
      "source": [
        "## 1-NaiveBayes"
      ]
    },
    {
      "cell_type": "markdown",
      "metadata": {
        "id": "hbhBqGFtLNpg",
        "colab_type": "text"
      },
      "source": [
        "### **Prédictions** "
      ]
    },
    {
      "cell_type": "code",
      "metadata": {
        "id": "j0RHHE0kJaLE",
        "colab_type": "code",
        "colab": {
          "base_uri": "https://localhost:8080/",
          "height": 34
        },
        "outputId": "c91ceca9-f003-4ca0-ad29-40e5459025d1"
      },
      "source": [
        "predNB = modelNB.transform(testData)"
      ],
      "execution_count": null,
      "outputs": [
        {
          "output_type": "stream",
          "text": [
            "time: 105 ms\n"
          ],
          "name": "stdout"
        }
      ]
    },
    {
      "cell_type": "code",
      "metadata": {
        "id": "kyLIL0L-KYeC",
        "colab_type": "code",
        "colab": {
          "base_uri": "https://localhost:8080/",
          "height": 470
        },
        "outputId": "13c6f1c9-150b-42b2-e314-9891cac15026"
      },
      "source": [
        "predNB.select(['reviews','Sentiment','prediction','probability']).show()"
      ],
      "execution_count": null,
      "outputs": [
        {
          "output_type": "stream",
          "text": [
            "+--------------------+---------+----------+--------------------+\n",
            "|             reviews|Sentiment|prediction|         probability|\n",
            "+--------------------+---------+----------+--------------------+\n",
            "|\"although this wa...|        1|       1.0|[2.50924744342443...|\n",
            "|\"as a bluetooth s...|        1|       1.0|      [2.5E-323,1.0]|\n",
            "|\"beautiful hd res...|        1|       1.0|[3.54822733751079...|\n",
            "|\"best buy was run...|        1|       1.0|[2.38768034584361...|\n",
            "|\"bought this for ...|        1|       1.0|[1.59346271111470...|\n",
            "|\"despite not bein...|        1|       1.0|[1.30190129574265...|\n",
            "|\"despite not bein...|        1|       1.0|[1.30190129574265...|\n",
            "|\"easy to hold, ac...|        1|       1.0|[1.05210808293828...|\n",
            "|\"fire kids editio...|        1|       1.0|[2.44787331789275...|\n",
            "|\"first bought the...|        1|       1.0|[2.79483044034436...|\n",
            "|\"for the price th...|        1|       1.0|[1.05242741619910...|\n",
            "|\"for under $100 t...|        1|       1.0|[4.40404957254763...|\n",
            "|\"gave as a gift.d...|        1|       1.0|[2.29596648160749...|\n",
            "|\"had to chose bet...|        1|       1.0|[4.09360018687600...|\n",
            "|\"having family me...|        1|       1.0|[3.22761092736420...|\n",
            "|\"i added to a \"\"d...|        1|       1.0|[9.20867244458114...|\n",
            "|\"i am an \"\"old\"\" ...|        1|       1.0|[3.89432066739103...|\n",
            "|\"i bought the 8\"\"...|        1|       1.0|[2.18290736577786...|\n",
            "|\"i bought this am...|        1|       1.0|[4.15056727902644...|\n",
            "|\"i bought this as...|        1|       1.0|[1.28768654034794...|\n",
            "+--------------------+---------+----------+--------------------+\n",
            "only showing top 20 rows\n",
            "\n",
            "time: 3.03 s\n"
          ],
          "name": "stdout"
        }
      ]
    },
    {
      "cell_type": "markdown",
      "metadata": {
        "id": "N3CHqNxjoo6N",
        "colab_type": "text"
      },
      "source": [
        "### **Accuracy score** "
      ]
    },
    {
      "cell_type": "code",
      "metadata": {
        "id": "dOY-ni8JoimI",
        "colab_type": "code",
        "colab": {
          "base_uri": "https://localhost:8080/",
          "height": 67
        },
        "outputId": "41570871-e147-41af-a8cd-fba5c5d201b2"
      },
      "source": [
        "evaluator = MulticlassClassificationEvaluator(labelCol=\"Sentiment\", predictionCol=\"prediction\", metricName=\"accuracy\")\n",
        "accuracyNB = evaluator.evaluate(predNB)\n",
        "print(\"Taux de d'exactitude = %g\" % (accuracyNB))\n",
        "print(\"Taux d'erreur = %g\" % (1.0 - accuracyNB))"
      ],
      "execution_count": null,
      "outputs": [
        {
          "output_type": "stream",
          "text": [
            "Taux de d'exactitude = 0.887737\n",
            "Taux d'erreur = 0.112263\n",
            "time: 8.32 s\n"
          ],
          "name": "stdout"
        }
      ]
    },
    {
      "cell_type": "markdown",
      "metadata": {
        "id": "jALp8gHV87hF",
        "colab_type": "text"
      },
      "source": [
        "> Avec NaiveBayes , on a un taux d'exactitude ( accuracy score )  de **88 %** , Il semble se révéler globalement peut performant ..  \n",
        "\n",
        "Essayons de voir plus de détails .... !"
      ]
    },
    {
      "cell_type": "markdown",
      "metadata": {
        "id": "AKhOz1hzu7hf",
        "colab_type": "text"
      },
      "source": [
        "### **Matrice de confusion** "
      ]
    },
    {
      "cell_type": "code",
      "metadata": {
        "id": "_vVjaFi2vMRe",
        "colab_type": "code",
        "colab": {
          "base_uri": "https://localhost:8080/",
          "height": 34
        },
        "outputId": "d8a65ac6-55a3-47ef-e25f-58a72cd29cec"
      },
      "source": [
        "sentiment = predNB.select(['Sentiment']).collect()\n",
        "predictionsNB = predNB.select(['prediction']).collect()\n",
        "naive_bayes_cm=confusion_matrix(sentiment, predictionsNB)"
      ],
      "execution_count": null,
      "outputs": [
        {
          "output_type": "stream",
          "text": [
            "time: 8.68 s\n"
          ],
          "name": "stdout"
        }
      ]
    },
    {
      "cell_type": "code",
      "metadata": {
        "id": "987o9S2RvZgN",
        "colab_type": "code",
        "colab": {
          "base_uri": "https://localhost:8080/",
          "height": 356
        },
        "outputId": "ea581f80-f882-4916-fd42-91d535111d21"
      },
      "source": [
        "sns.set(rc={'figure.figsize':(5,5)})\n",
        "p=sns.heatmap(naive_bayes_cm, annot = True, cmap=\"Reds\",cbar=False)\n",
        "p.axes.xaxis.label.set_text(\"Matrice de confusion\")"
      ],
      "execution_count": null,
      "outputs": [
        {
          "output_type": "display_data",
          "data": {
            "image/png": "[encoded data removed]",
            "text/plain": [
              "<Figure size 360x360 with 1 Axes>"
            ]
          },
          "metadata": {
            "tags": []
          }
        },
        {
          "output_type": "stream",
          "text": [
            "time: 153 ms\n"
          ],
          "name": "stdout"
        }
      ]
    },
    {
      "cell_type": "markdown",
      "metadata": {
        "id": "humu6yD59RSF",
        "colab_type": "text"
      },
      "source": [
        "**Interprétation** :\n",
        "\n",
        "* Vrai positif: 6900 résultats sont prédit positif et c'est vrai.\n",
        "\n",
        "* Vrai négatif: 600 résultats sont prédit négatif et c'est vrai.\n",
        "\n",
        "* Faux positif(erreur de type 1): 710  résultats sont prédit positif et c'est faux.\n",
        "\n",
        "* Faux négatif (erreur de type 2): 230 résultats sont prédit négatif et c'est faux.\n"
      ]
    },
    {
      "cell_type": "markdown",
      "metadata": {
        "id": "7K3JK3WXv3lk",
        "colab_type": "text"
      },
      "source": [
        "### **Classification Report** "
      ]
    },
    {
      "cell_type": "code",
      "metadata": {
        "id": "BCWDfbcwwK4C",
        "colab_type": "code",
        "colab": {
          "base_uri": "https://localhost:8080/",
          "height": 185
        },
        "outputId": "ed66e1a0-7bac-4b27-d8f7-5ee748a7baf0"
      },
      "source": [
        "print(classification_report(sentiment, predictionsNB))"
      ],
      "execution_count": null,
      "outputs": [
        {
          "output_type": "stream",
          "text": [
            "              precision    recall  f1-score   support\n",
            "\n",
            "           0       0.46      0.72      0.56       830\n",
            "           1       0.97      0.91      0.94      7561\n",
            "\n",
            "    accuracy                           0.89      8391\n",
            "   macro avg       0.71      0.81      0.75      8391\n",
            "weighted avg       0.92      0.89      0.90      8391\n",
            "\n",
            "time: 286 ms\n"
          ],
          "name": "stdout"
        }
      ]
    },
    {
      "cell_type": "markdown",
      "metadata": {
        "id": "25ScBrzKBwYN",
        "colab_type": "text"
      },
      "source": [
        "> On remarque qu'on a une faible précision :  VN/(VN+FN)  **(46%)** sur **la classe négative (0)** , donc les instances négatives (classe 0)  ne sont pas classées correctement, ce qui entraîne un grand nombre d'instances positives qui sont réellement négatives . "
      ]
    },
    {
      "cell_type": "markdown",
      "metadata": {
        "id": "tvZa4AxsKSSu",
        "colab_type": "text"
      },
      "source": [
        "## 2- SVM"
      ]
    },
    {
      "cell_type": "markdown",
      "metadata": {
        "id": "u-CE4OGhoYOI",
        "colab_type": "text"
      },
      "source": [
        "### **Prédictions** "
      ]
    },
    {
      "cell_type": "code",
      "metadata": {
        "id": "JL95Xb-zJ2KK",
        "colab_type": "code",
        "colab": {
          "base_uri": "https://localhost:8080/",
          "height": 34
        },
        "outputId": "a3854ef7-e137-4fe6-9006-cd335d8f170c"
      },
      "source": [
        "predSVM = modelSVM.transform(testData)"
      ],
      "execution_count": null,
      "outputs": [
        {
          "output_type": "stream",
          "text": [
            "time: 78.6 ms\n"
          ],
          "name": "stdout"
        }
      ]
    },
    {
      "cell_type": "code",
      "metadata": {
        "id": "mv7coR_aKiXU",
        "colab_type": "code",
        "colab": {
          "base_uri": "https://localhost:8080/",
          "height": 470
        },
        "outputId": "3d2bee5d-5419-4426-cec0-7361d50c224e"
      },
      "source": [
        "predSVM.select(['reviews','Sentiment','prediction']).show()"
      ],
      "execution_count": null,
      "outputs": [
        {
          "output_type": "stream",
          "text": [
            "+--------------------+---------+----------+\n",
            "|             reviews|Sentiment|prediction|\n",
            "+--------------------+---------+----------+\n",
            "|\"although this wa...|        1|       1.0|\n",
            "|\"as a bluetooth s...|        1|       1.0|\n",
            "|\"beautiful hd res...|        1|       1.0|\n",
            "|\"best buy was run...|        1|       1.0|\n",
            "|\"bought this for ...|        1|       1.0|\n",
            "|\"despite not bein...|        1|       1.0|\n",
            "|\"despite not bein...|        1|       1.0|\n",
            "|\"easy to hold, ac...|        1|       1.0|\n",
            "|\"fire kids editio...|        1|       1.0|\n",
            "|\"first bought the...|        1|       1.0|\n",
            "|\"for the price th...|        1|       1.0|\n",
            "|\"for under $100 t...|        1|       1.0|\n",
            "|\"gave as a gift.d...|        1|       1.0|\n",
            "|\"had to chose bet...|        1|       1.0|\n",
            "|\"having family me...|        1|       1.0|\n",
            "|\"i added to a \"\"d...|        1|       1.0|\n",
            "|\"i am an \"\"old\"\" ...|        1|       1.0|\n",
            "|\"i bought the 8\"\"...|        1|       1.0|\n",
            "|\"i bought this am...|        1|       1.0|\n",
            "|\"i bought this as...|        1|       1.0|\n",
            "+--------------------+---------+----------+\n",
            "only showing top 20 rows\n",
            "\n",
            "time: 3.14 s\n"
          ],
          "name": "stdout"
        }
      ]
    },
    {
      "cell_type": "markdown",
      "metadata": {
        "id": "0sww9YFIwktz",
        "colab_type": "text"
      },
      "source": [
        "### **Accuracy score**"
      ]
    },
    {
      "cell_type": "code",
      "metadata": {
        "id": "vcmBRiFKxXbJ",
        "colab_type": "code",
        "colab": {
          "base_uri": "https://localhost:8080/",
          "height": 67
        },
        "outputId": "31f833c8-5f43-4d4c-9f3c-321472045409"
      },
      "source": [
        "accuracySVM = evaluator.evaluate(predSVM)\n",
        "print(\"Taux d'exactitude  = %g\" % (accuracySVM))\n",
        "print(\"Taux d'erreur = %g\" % (1.0 - accuracySVM))"
      ],
      "execution_count": null,
      "outputs": [
        {
          "output_type": "stream",
          "text": [
            "Taux d'exactitude  = 0.936718\n",
            "Taux d'erreur = 0.0632821\n",
            "time: 7.51 s\n"
          ],
          "name": "stdout"
        }
      ]
    },
    {
      "cell_type": "markdown",
      "metadata": {
        "id": "xsxCLYlmEXNw",
        "colab_type": "text"
      },
      "source": [
        "> Avec SVM , on a un taux d'exactitude ( accuracy score ) de **93 %** , Il semble se révéler globalement efficace , mieux que celui de NaiveBayes ..\n",
        "\n",
        "Essayons de voir plus de détails .... !"
      ]
    },
    {
      "cell_type": "markdown",
      "metadata": {
        "id": "2HNqhm4swnhd",
        "colab_type": "text"
      },
      "source": [
        "### **Matrice de confusion**"
      ]
    },
    {
      "cell_type": "code",
      "metadata": {
        "id": "zFb44pcExkV-",
        "colab_type": "code",
        "colab": {
          "base_uri": "https://localhost:8080/",
          "height": 34
        },
        "outputId": "371cfefb-e46d-4188-a129-5397404a74bf"
      },
      "source": [
        "sentiment = predSVM.select(['Sentiment']).collect()\n",
        "predictionsSVM = predSVM.select(['prediction']).collect()\n",
        "SVM_cm=confusion_matrix(sentiment, predictionsSVM)"
      ],
      "execution_count": null,
      "outputs": [
        {
          "output_type": "stream",
          "text": [
            "time: 7.84 s\n"
          ],
          "name": "stdout"
        }
      ]
    },
    {
      "cell_type": "code",
      "metadata": {
        "id": "zYlW-1OlxrJO",
        "colab_type": "code",
        "colab": {
          "base_uri": "https://localhost:8080/",
          "height": 356
        },
        "outputId": "34102928-9842-48f4-f8e0-238a7d936632"
      },
      "source": [
        "sns.set(rc={'figure.figsize':(5,5)})\n",
        "p=sns.heatmap(SVM_cm, annot = True, cmap=\"Reds\",cbar=False)\n",
        "p.axes.xaxis.label.set_text(\"Confusion matrice\")"
      ],
      "execution_count": null,
      "outputs": [
        {
          "output_type": "display_data",
          "data": {
            "image/png": "[encoded data removed]",
            "text/plain": [
              "<Figure size 360x360 with 1 Axes>"
            ]
          },
          "metadata": {
            "tags": []
          }
        },
        {
          "output_type": "stream",
          "text": [
            "time: 147 ms\n"
          ],
          "name": "stdout"
        }
      ]
    },
    {
      "cell_type": "markdown",
      "metadata": {
        "id": "jVJHf0YL9WJt",
        "colab_type": "text"
      },
      "source": [
        "**Interprétation**: \n",
        "\n",
        "* Vrai positif: 7500 résultats sont prédit positif et c'est vrai.\n",
        "\n",
        "* Vrai négatif: 400 résultats sont prédit négatif et c'est vrai.\n",
        "\n",
        "* Faux positif(erreur de type 1): 100 résultats sont prédit positif et c'est faux.\n",
        "\n",
        "* Faux négatif (erreur de type 2): 430 résultats sont prédit négatif et c'est faux.\n"
      ]
    },
    {
      "cell_type": "markdown",
      "metadata": {
        "id": "MCwVY6Z6wtRW",
        "colab_type": "text"
      },
      "source": [
        "### **Classification Report**"
      ]
    },
    {
      "cell_type": "code",
      "metadata": {
        "id": "Pf4O9V-lxf25",
        "colab_type": "code",
        "colab": {
          "base_uri": "https://localhost:8080/",
          "height": 185
        },
        "outputId": "fae0acdc-b9c4-4434-caa6-f45704e64542"
      },
      "source": [
        "print(classification_report(sentiment, predictionsSVM))"
      ],
      "execution_count": null,
      "outputs": [
        {
          "output_type": "stream",
          "text": [
            "              precision    recall  f1-score   support\n",
            "\n",
            "           0       0.80      0.48      0.60       830\n",
            "           1       0.95      0.99      0.97      7561\n",
            "\n",
            "    accuracy                           0.94      8391\n",
            "   macro avg       0.87      0.73      0.78      8391\n",
            "weighted avg       0.93      0.94      0.93      8391\n",
            "\n",
            "time: 299 ms\n"
          ],
          "name": "stdout"
        }
      ]
    },
    {
      "cell_type": "markdown",
      "metadata": {
        "id": "LYnE8DLkE9BZ",
        "colab_type": "text"
      },
      "source": [
        "> On remarque qu'avec SVM , le problème de la faible précision sur la classe négative a été amélioré  , tandis que le rappel:VN/(VN+FP)  sur la meme classe a baissé  **(48%)** .\n",
        "\n",
        "En général , ce Modèle n'est pas du tout performant sur la classe négatif , moyenne harmonique ( f1-score ) est faible **60%** . "
      ]
    },
    {
      "cell_type": "markdown",
      "metadata": {
        "id": "ea4oWPR8KVUe",
        "colab_type": "text"
      },
      "source": [
        "## 3- RF"
      ]
    },
    {
      "cell_type": "markdown",
      "metadata": {
        "id": "QGOv29W4wyXz",
        "colab_type": "text"
      },
      "source": [
        "### **Prédictions**"
      ]
    },
    {
      "cell_type": "code",
      "metadata": {
        "id": "f0BTgqg1J7Zb",
        "colab_type": "code",
        "colab": {
          "base_uri": "https://localhost:8080/",
          "height": 34
        },
        "outputId": "23c0b8c0-99fa-4e3b-bd7d-fdb807c81e84"
      },
      "source": [
        "predRF = modelRF.transform(testData)"
      ],
      "execution_count": null,
      "outputs": [
        {
          "output_type": "stream",
          "text": [
            "time: 82.3 ms\n"
          ],
          "name": "stdout"
        }
      ]
    },
    {
      "cell_type": "code",
      "metadata": {
        "id": "3ebDVXW4KAx5",
        "colab_type": "code",
        "colab": {
          "base_uri": "https://localhost:8080/",
          "height": 470
        },
        "outputId": "fa849615-b2af-4dc1-d268-2cc2514d6fae"
      },
      "source": [
        "predRF.select(['reviews','Sentiment','prediction']).show()"
      ],
      "execution_count": null,
      "outputs": [
        {
          "output_type": "stream",
          "text": [
            "+--------------------+---------+----------+\n",
            "|             reviews|Sentiment|prediction|\n",
            "+--------------------+---------+----------+\n",
            "|\"although this wa...|        1|       1.0|\n",
            "|\"as a bluetooth s...|        1|       1.0|\n",
            "|\"beautiful hd res...|        1|       1.0|\n",
            "|\"best buy was run...|        1|       1.0|\n",
            "|\"bought this for ...|        1|       1.0|\n",
            "|\"despite not bein...|        1|       1.0|\n",
            "|\"despite not bein...|        1|       1.0|\n",
            "|\"easy to hold, ac...|        1|       1.0|\n",
            "|\"fire kids editio...|        1|       1.0|\n",
            "|\"first bought the...|        1|       1.0|\n",
            "|\"for the price th...|        1|       1.0|\n",
            "|\"for under $100 t...|        1|       1.0|\n",
            "|\"gave as a gift.d...|        1|       1.0|\n",
            "|\"had to chose bet...|        1|       1.0|\n",
            "|\"having family me...|        1|       1.0|\n",
            "|\"i added to a \"\"d...|        1|       1.0|\n",
            "|\"i am an \"\"old\"\" ...|        1|       1.0|\n",
            "|\"i bought the 8\"\"...|        1|       1.0|\n",
            "|\"i bought this am...|        1|       1.0|\n",
            "|\"i bought this as...|        1|       1.0|\n",
            "+--------------------+---------+----------+\n",
            "only showing top 20 rows\n",
            "\n",
            "time: 2.78 s\n"
          ],
          "name": "stdout"
        }
      ]
    },
    {
      "cell_type": "code",
      "metadata": {
        "id": "GVwOS4PdHHVo",
        "colab_type": "code",
        "colab": {
          "base_uri": "https://localhost:8080/",
          "height": 134
        },
        "outputId": "bb174bf0-44bd-4a20-88eb-f5745befb893"
      },
      "source": [
        "predRF.groupBy('prediction').count().show()"
      ],
      "execution_count": null,
      "outputs": [
        {
          "output_type": "stream",
          "text": [
            "+----------+-----+\n",
            "|prediction|count|\n",
            "+----------+-----+\n",
            "|       1.0| 8391|\n",
            "+----------+-----+\n",
            "\n",
            "time: 6.92 s\n"
          ],
          "name": "stdout"
        }
      ]
    },
    {
      "cell_type": "markdown",
      "metadata": {
        "id": "ZzU8s2UTw2Lv",
        "colab_type": "text"
      },
      "source": [
        "### **Accuracy score**"
      ]
    },
    {
      "cell_type": "code",
      "metadata": {
        "id": "cxe0cOjew4A7",
        "colab_type": "code",
        "colab": {
          "base_uri": "https://localhost:8080/",
          "height": 67
        },
        "outputId": "f32307ec-1a05-4758-c7d7-ee652c989e23"
      },
      "source": [
        "accuracyRF = evaluator.evaluate(predRF)\n",
        "print(\"Taux d'exactitude  = %g\" % (accuracyRF))\n",
        "print(\"Taux d'erreur = %g\" % (1.0 - accuracyRF))"
      ],
      "execution_count": null,
      "outputs": [
        {
          "output_type": "stream",
          "text": [
            "Taux d'exactitude  = 0.901084\n",
            "Taux d'erreur = 0.0989155\n",
            "time: 7.53 s\n"
          ],
          "name": "stdout"
        }
      ]
    },
    {
      "cell_type": "markdown",
      "metadata": {
        "id": "rioE6-nsGeOn",
        "colab_type": "text"
      },
      "source": [
        "> Avec RF , on a un taux d'exactitude ( accuracy score ) de **90 %** , mieux que Naive Bayes mais moins performant que celui de SVM ..\n",
        "\n",
        "Essayons de voir plus de détails .... !"
      ]
    },
    {
      "cell_type": "markdown",
      "metadata": {
        "id": "xkHl-84Bw4-o",
        "colab_type": "text"
      },
      "source": [
        "### **Matrice de confusion**"
      ]
    },
    {
      "cell_type": "code",
      "metadata": {
        "id": "ZpVL1Hjvw8ll",
        "colab_type": "code",
        "colab": {
          "base_uri": "https://localhost:8080/",
          "height": 34
        },
        "outputId": "be27761c-ca39-409c-fcc7-2675a219e8f9"
      },
      "source": [
        "sentiment = predRF.select(['Sentiment']).collect()\n",
        "predictionsRF = predRF.select(['prediction']).collect()\n",
        "RF_cm=confusion_matrix(sentiment, predictionsRF)"
      ],
      "execution_count": null,
      "outputs": [
        {
          "output_type": "stream",
          "text": [
            "time: 7.86 s\n"
          ],
          "name": "stdout"
        }
      ]
    },
    {
      "cell_type": "code",
      "metadata": {
        "id": "AIGIW_B7xmVi",
        "colab_type": "code",
        "colab": {
          "base_uri": "https://localhost:8080/",
          "height": 356
        },
        "outputId": "b8e47f1a-e3cd-4806-cc92-1f368e635d31"
      },
      "source": [
        "sns.set(rc={'figure.figsize':(5,5)})\n",
        "p=sns.heatmap(RF_cm, annot = True, cmap=\"Reds\",cbar=False)\n",
        "p.axes.xaxis.label.set_text(\"Confusion matrice\")"
      ],
      "execution_count": null,
      "outputs": [
        {
          "output_type": "display_data",
          "data": {
            "image/png": "[encoded data removed]",
            "text/plain": [
              "<Figure size 360x360 with 1 Axes>"
            ]
          },
          "metadata": {
            "tags": []
          }
        },
        {
          "output_type": "stream",
          "text": [
            "time: 154 ms\n"
          ],
          "name": "stdout"
        }
      ]
    },
    {
      "cell_type": "markdown",
      "metadata": {
        "id": "nSWBZuc-9YLD",
        "colab_type": "text"
      },
      "source": [
        "**Interprétation** :\n",
        "\n",
        "* Vrai positif: 7600 résultats sont prédit positif et c'est vrai.\n",
        "\n",
        "* Faux négatif (erreur de type 2): 830 résultats sont prédit négatif et c'est faux.\n",
        "\n",
        "> Le modele ne prédit pas les 0 : classe négative !!, car le dataset était trop désiquilibré \n",
        "\n",
        "\n",
        "\n",
        "\n",
        "\n",
        "\n"
      ]
    },
    {
      "cell_type": "markdown",
      "metadata": {
        "id": "N6ODrfsFw9JH",
        "colab_type": "text"
      },
      "source": [
        "### **Classification Report**"
      ]
    },
    {
      "cell_type": "code",
      "metadata": {
        "id": "9Wv3CriFw_Y9",
        "colab_type": "code",
        "colab": {
          "base_uri": "https://localhost:8080/",
          "height": 238
        },
        "outputId": "3f7fd1bb-63df-470e-b9c9-83fbf1ae8315"
      },
      "source": [
        "print(classification_report(sentiment, predictionsRF))"
      ],
      "execution_count": null,
      "outputs": [
        {
          "output_type": "stream",
          "text": [
            "              precision    recall  f1-score   support\n",
            "\n",
            "           0       0.00      0.00      0.00       830\n",
            "           1       0.90      1.00      0.95      7561\n",
            "\n",
            "    accuracy                           0.90      8391\n",
            "   macro avg       0.45      0.50      0.47      8391\n",
            "weighted avg       0.81      0.90      0.85      8391\n",
            "\n",
            "time: 287 ms\n"
          ],
          "name": "stdout"
        },
        {
          "output_type": "stream",
          "text": [
            "/usr/local/lib/python3.6/dist-packages/sklearn/metrics/_classification.py:1272: UndefinedMetricWarning: Precision and F-score are ill-defined and being set to 0.0 in labels with no predicted samples. Use `zero_division` parameter to control this behavior.\n",
            "  _warn_prf(average, modifier, msg_start, len(result))\n"
          ],
          "name": "stderr"
        }
      ]
    },
    {
      "cell_type": "markdown",
      "metadata": {
        "id": "5Pxn79ZsxEPa",
        "colab_type": "text"
      },
      "source": [
        "#Conlusion générale "
      ]
    },
    {
      "cell_type": "markdown",
      "metadata": {
        "id": "1EgUHzl7Zrim",
        "colab_type": "text"
      },
      "source": [
        "- On remarque que SVM a des meilleures performances que NaiveBayes et Random Forest sur l'analyse des sentiments de ce dataset . \n",
        "- Les classes désiquilibrées ont affecté les performances des modeles , surtout en ce qui concerne RF qui prédit uniquement une seule classe . Pour cela , toujours il faut faire en sorte d'avoir le minimum de classes désiquilibrées ."
      ]
    }
  ]
}
