{
 "cells": [
  {
   "cell_type": "markdown",
   "metadata": {},
   "source": [
    "# My first auto Correct system \n",
    "\n",
    "In this notebook , we  will implement an auto-correct system !! To correct words that are 1 and 2 edit distances away , we will see later what does it mean ...\n"
   ]
  },
  {
   "cell_type": "markdown",
   "metadata": {},
   "source": [
    "## Outline\n",
    "- [0. Overview](#0)\n",
    "   \n",
    "- [1. Data Preprocessing](#1)\n",
    "    \n",
    "- [2. String Manipulation](#2)\n",
    "    \n",
    "- [3. Combining the edits](#3)\n",
    "    \n",
    "- [4. Minimum Edit Distance](#4)\n",
    "    \n",
    "- [5. Backtrace ](#5)"
   ]
  },
  {
   "cell_type": "markdown",
   "metadata": {},
   "source": [
    "<a name='0'></a>\n",
    "## 0. Overview\n",
    "\n",
    "We use autocorrect every day on our cell phone and computer. \n",
    "Through this program , we will explore what really goes on behind the scenes. Of course, the model we are about to implement is not identical to the one used in your phone, but it is still quite good. \n",
    "\n",
    "Auto Correct systems are used everywhere. \n",
    "- For example, if you type in the word **\"I am hapy\"**, chances are very high that you meant to write **\"I am happy\"**. "
   ]
  },
  {
   "cell_type": "markdown",
   "metadata": {},
   "source": [
    "<a name='0-1'></a>\n",
    "#### 0.1 Edit Distance\n",
    "\n",
    "As i said before , we will implement models that correct words that are 1 and 2 edit distances away. \n",
    "- We say two words are n edit distance away from each other when we need n edits to change one word into another. \n",
    "\n",
    "An edit could consist of one of the following options: \n",
    "\n",
    "- Delete (remove a letter): ‘hat’ => ‘at, ha, ht’\n",
    "- Switch (swap 2 adjacent letters): ‘eta’ => ‘eat, tea,...’\n",
    "- Replace (change 1 letter to another): ‘jat’ => ‘hat, rat, cat, mat, ...’\n",
    "- Insert (add a letter): ‘te’ => ‘the, ten, ate, ...’\n",
    "\n",
    "\n",
    "This auto-correct  was first created by [Peter Norvig](https://en.wikipedia.org/wiki/Peter_Norvig) in 2007. \n",
    "\n",
    "\n",
    "The goal is to compute the following probability:\n",
    "\n",
    "$$P(c|w) = \\frac{P(w|c)\\times P(c)}{P(w)} $$\n",
    "\n",
    "This equation is known as  [Bayes Rule](https://en.wikipedia.org/wiki/Bayes%27_theorem). \n",
    "- It's says that the probability of a word being correct $P(c|w) $is equal to the probability of having a certain word $w$, given that it is correct $P(w|c)$, multiplied by the probability of being correct in general $P(c)$ divided by the probability of that word $w$ appearing $P(w)$ in general.\n"
   ]
  },
  {
   "cell_type": "markdown",
   "metadata": {},
   "source": [
    "<a name='1'></a>\n",
    "# Part 1: Data Preprocessing "
   ]
  },
  {
   "cell_type": "code",
   "execution_count": 1,
   "metadata": {
    "ExecuteTime": {
     "end_time": "2020-07-20T14:32:43.812830Z",
     "start_time": "2020-07-20T14:32:41.782998Z"
    }
   },
   "outputs": [],
   "source": [
    "import re\n",
    "from collections import Counter\n",
    "import numpy as np\n",
    "import pandas as pd"
   ]
  },
  {
   "cell_type": "markdown",
   "metadata": {},
   "source": [
    "Given a file X whcih contains our vocabulary , we will read it then transform it's content to lowercase"
   ]
  },
  {
   "cell_type": "code",
   "execution_count": 2,
   "metadata": {
    "ExecuteTime": {
     "end_time": "2020-07-20T14:35:21.138878Z",
     "start_time": "2020-07-20T14:35:21.131958Z"
    }
   },
   "outputs": [],
   "source": [
    "# return a list of words from a file \n",
    "def process_data(file_name):\n",
    "    \n",
    "    words = [] \n",
    "    str_total=''\n",
    "\n",
    "    with open(file_name, 'r') as current:\n",
    "        if len(current.read()) == 0:\n",
    "            print('FILE IS EMPTY')\n",
    "        else:\n",
    "            current.seek(0)\n",
    "            for line in current.readlines():\n",
    "                str_total+= line.lower()\n",
    "    words=re.findall('\\w+', str_total)\n",
    "    \n",
    "    return words"
   ]
  },
  {
   "cell_type": "code",
   "execution_count": 4,
   "metadata": {
    "ExecuteTime": {
     "end_time": "2020-07-20T14:37:37.483514Z",
     "start_time": "2020-07-20T14:37:37.365068Z"
    },
    "scrolled": false
   },
   "outputs": [
    {
     "name": "stdout",
     "output_type": "stream",
     "text": [
      "There are 6116 unique words in the vocabulary.\n",
      "The first five words in the text are: \n",
      "['o', 'for', 'a', 'muse', 'of']\n"
     ]
    }
   ],
   "source": [
    "word_l = process_data('shakespeare.txt')\n",
    "vocab = set(word_l) #To eliminate duplicates words \n",
    "print(f\"There are {len(vocab)} unique words in the vocabulary.\")\n",
    "print(f\"The first five words in the text are: \\n{word_l[0:5]}\")"
   ]
  },
  {
   "cell_type": "markdown",
   "metadata": {},
   "source": [
    "Now , we eill Implement a `get_count` function that returns a dictionary\n",
    "- The dictionary's keys are words\n",
    "- The value for each word is the number of times that word appears in the corpus. \n",
    "\n",
    "For example, given the following sentence: **\"I am happy because I am learning\"**, your dictionary should return the following: \n",
    "<table style=\"width:20%\">\n",
    "\n",
    "  <tr>\n",
    "    <td> <b>Key </b>  </td>\n",
    "    <td> <b>Value </b> </td> \n",
    "\n",
    "\n",
    "  </tr>\n",
    "  <tr>\n",
    "    <td> I  </td>\n",
    "    <td> 2</td> \n",
    " \n",
    "  </tr>\n",
    "   \n",
    "  <tr>\n",
    "    <td>am</td>\n",
    "    <td>2</td> \n",
    "  </tr>\n",
    "\n",
    "  <tr>\n",
    "    <td>happy</td>\n",
    "    <td>1</td> \n",
    "  </tr>\n",
    "  \n",
    "   <tr>\n",
    "    <td>because</td>\n",
    "    <td>1</td> \n",
    "  </tr>\n",
    "  \n",
    "   <tr>\n",
    "    <td>learning</td>\n",
    "    <td>1</td> \n",
    "  </tr>\n",
    "</table>\n"
   ]
  },
  {
   "cell_type": "code",
   "execution_count": 5,
   "metadata": {
    "ExecuteTime": {
     "end_time": "2020-07-20T14:39:24.290436Z",
     "start_time": "2020-07-20T14:39:24.284583Z"
    }
   },
   "outputs": [],
   "source": [
    "def get_count(word_l):\n",
    "    \n",
    "    word_count_dict = {}  \n",
    "    word_count_dict = Counter(word_l)\n",
    "           \n",
    "    return word_count_dict"
   ]
  },
  {
   "cell_type": "code",
   "execution_count": 6,
   "metadata": {
    "ExecuteTime": {
     "end_time": "2020-07-20T14:39:43.425736Z",
     "start_time": "2020-07-20T14:39:43.401749Z"
    }
   },
   "outputs": [
    {
     "name": "stdout",
     "output_type": "stream",
     "text": [
      "There are 6116 key values pairs\n",
      "The count for the word 'world' is 240\n"
     ]
    }
   ],
   "source": [
    "word_count_dict = get_count(word_l)\n",
    "print(f\"There are {len(word_count_dict)} key values pairs\")\n",
    "print(f\"The count for the word 'world' is {word_count_dict.get('thee',0)}\")"
   ]
  },
  {
   "cell_type": "markdown",
   "metadata": {},
   "source": [
    "Given the dictionary of word counts, we will compute the probability that each word will appear if randomly selected from the corpus of words.\n",
    "\n",
    "$$P(w_i) = \\frac{C(w_i)}{M} $$\n",
    "where \n",
    "\n",
    "$C(w_i)$ is the total number of times $w_i$ appears in the corpus.\n",
    "\n",
    "$M$ is the total number of words in the corpus.\n",
    "\n",
    "For example, the probability of the word 'am' in the sentence **'I am happy because I am learning'** is:\n",
    "\n",
    "$$P(am) = \\frac{C(w_i)}{M} = \\frac {2}{7} $$\n"
   ]
  },
  {
   "cell_type": "code",
   "execution_count": 7,
   "metadata": {
    "ExecuteTime": {
     "end_time": "2020-07-20T14:40:53.902588Z",
     "start_time": "2020-07-20T14:40:53.895736Z"
    }
   },
   "outputs": [],
   "source": [
    "def get_probs(word_count_dict):\n",
    "   \n",
    "    probs = {}  # return this variable correctly\n",
    "    \n",
    "\n",
    "    for word in word_count_dict.keys():\n",
    "        probs[word]=word_count_dict[word]/sum(word_count_dict.values())\n",
    "    \n",
    "    return probs"
   ]
  },
  {
   "cell_type": "code",
   "execution_count": 8,
   "metadata": {
    "ExecuteTime": {
     "end_time": "2020-07-20T14:41:07.995674Z",
     "start_time": "2020-07-20T14:41:07.022036Z"
    },
    "scrolled": false
   },
   "outputs": [
    {
     "name": "stdout",
     "output_type": "stream",
     "text": [
      "Length of probs is 6116\n",
      "P('world') is 0.0045\n"
     ]
    }
   ],
   "source": [
    "probs = get_probs(word_count_dict)\n",
    "print(f\"Length of probs is {len(probs)}\")\n",
    "print(f\"P('world') is {probs['thee']:.4f}\")"
   ]
  },
  {
   "cell_type": "markdown",
   "metadata": {},
   "source": [
    "<a name='2'></a>\n",
    "# Part 2: String Manipulations\n",
    "\n",
    "Now, that we have computed $P(w_i)$ for all the words in the corpus, we will write a few functions to manipulate strings with  four functions: \n",
    "\n",
    "* `delete_letter`: given a word, it returns all the possible strings that have **one character removed**. \n",
    "* `switch_letter`: given a word, it returns all the possible strings that have **two adjacent letters switched**.\n",
    "* `replace_letter`: given a word, it returns all the possible strings that have **one character replaced by another different letter**.\n",
    "* `insert_letter`: given a word, it returns all the possible strings that have an **additional character inserted**. \n"
   ]
  },
  {
   "cell_type": "code",
   "execution_count": 9,
   "metadata": {
    "ExecuteTime": {
     "end_time": "2020-07-20T14:44:09.816664Z",
     "start_time": "2020-07-20T14:44:09.809013Z"
    }
   },
   "outputs": [],
   "source": [
    "def delete_letter(word, verbose=False):\n",
    "    \n",
    "    delete_l = []\n",
    "    split_l = []\n",
    "    \n",
    "    split_l=[(word[:i],word[i:]) for i in range (len(word))]\n",
    "    #delete_l=[word.replace(word[i],'') for i in range (len(word))] # Without comprehensive List\n",
    "    delete_l=[L+R[1:] for L,R in split_l if R] #With comprehensive List \n",
    "            \n",
    "\n",
    "    if verbose: print(f\"input word {word}, \\nsplit_l = {split_l}, \\ndelete_l = {delete_l}\")\n",
    "\n",
    "    return delete_l"
   ]
  },
  {
   "cell_type": "code",
   "execution_count": 10,
   "metadata": {
    "ExecuteTime": {
     "end_time": "2020-07-20T14:44:17.318823Z",
     "start_time": "2020-07-20T14:44:17.306915Z"
    }
   },
   "outputs": [
    {
     "name": "stdout",
     "output_type": "stream",
     "text": [
      "input word world, \n",
      "split_l = [('', 'world'), ('w', 'orld'), ('wo', 'rld'), ('wor', 'ld'), ('worl', 'd')], \n",
      "delete_l = ['orld', 'wrld', 'wold', 'word', 'worl']\n"
     ]
    }
   ],
   "source": [
    "delete_word_l = delete_letter(word=\"world\",\n",
    "                        verbose=True)"
   ]
  },
  {
   "cell_type": "code",
   "execution_count": 11,
   "metadata": {
    "ExecuteTime": {
     "end_time": "2020-07-20T14:45:13.334012Z",
     "start_time": "2020-07-20T14:45:13.317889Z"
    }
   },
   "outputs": [],
   "source": [
    "def switch_letter(word, verbose=False):\n",
    "        \n",
    "    switch_l = []\n",
    "    split_l = []\n",
    "      \n",
    "    split_l=[(word[:i],word[i:]) for i in range (len(word))]\n",
    "    switch_l=[ L+R[1]+R[0]+R[2:] for L,R in split_l if len(R)>=2]\n",
    "   \n",
    "    if verbose: print(f\"Input word = {word} \\nsplit_l = {split_l} \\nswitch_l = {switch_l}\") \n",
    "\n",
    "    return switch_l"
   ]
  },
  {
   "cell_type": "code",
   "execution_count": 13,
   "metadata": {
    "ExecuteTime": {
     "end_time": "2020-07-20T14:45:49.109291Z",
     "start_time": "2020-07-20T14:45:49.097863Z"
    }
   },
   "outputs": [
    {
     "name": "stdout",
     "output_type": "stream",
     "text": [
      "Input word = sad \n",
      "split_l = [('', 'sad'), ('s', 'ad'), ('sa', 'd')] \n",
      "switch_l = ['asd', 'sda']\n"
     ]
    }
   ],
   "source": [
    "switch_word_l = switch_letter(word=\"sad\",\n",
    "                         verbose=True)"
   ]
  },
  {
   "cell_type": "code",
   "execution_count": 14,
   "metadata": {
    "ExecuteTime": {
     "end_time": "2020-07-20T14:46:30.745175Z",
     "start_time": "2020-07-20T14:46:30.733279Z"
    }
   },
   "outputs": [],
   "source": [
    "def replace_letter(word, verbose=False):\n",
    "    \n",
    "    \n",
    "    letters = 'abcdefghijklmnopqrstuvwxyz'\n",
    "    replace_l = []\n",
    "    split_l = []\n",
    "    \n",
    "    \n",
    "    split_l=[(word[:i],word[i:]) for i in range (len(word))]\n",
    "    for L,R in  split_l:\n",
    "        for c in letters:\n",
    "            if c!=R[0]:\n",
    "                replace_l.append(L+c+R[1:])\n",
    "                \n",
    "    replace_set=set(replace_l)\n",
    "  \n",
    "    # turn the set back into a list and sort it, for easier viewing\n",
    "    replace_l = sorted(list(replace_set))\n",
    "    \n",
    "    if verbose: print(f\"Input word = {word} \\nsplit_l = {split_l} \\nreplace_l {replace_l}\")   \n",
    "    \n",
    "    return replace_l"
   ]
  },
  {
   "cell_type": "code",
   "execution_count": 15,
   "metadata": {
    "ExecuteTime": {
     "end_time": "2020-07-20T14:46:39.477228Z",
     "start_time": "2020-07-20T14:46:39.464654Z"
    }
   },
   "outputs": [
    {
     "name": "stdout",
     "output_type": "stream",
     "text": [
      "Input word = tea \n",
      "split_l = [('', 'tea'), ('t', 'ea'), ('te', 'a')] \n",
      "replace_l ['aea', 'bea', 'cea', 'dea', 'eea', 'fea', 'gea', 'hea', 'iea', 'jea', 'kea', 'lea', 'mea', 'nea', 'oea', 'pea', 'qea', 'rea', 'sea', 'taa', 'tba', 'tca', 'tda', 'teb', 'tec', 'ted', 'tee', 'tef', 'teg', 'teh', 'tei', 'tej', 'tek', 'tel', 'tem', 'ten', 'teo', 'tep', 'teq', 'ter', 'tes', 'tet', 'teu', 'tev', 'tew', 'tex', 'tey', 'tez', 'tfa', 'tga', 'tha', 'tia', 'tja', 'tka', 'tla', 'tma', 'tna', 'toa', 'tpa', 'tqa', 'tra', 'tsa', 'tta', 'tua', 'tva', 'twa', 'txa', 'tya', 'tza', 'uea', 'vea', 'wea', 'xea', 'yea', 'zea']\n"
     ]
    }
   ],
   "source": [
    "replace_l = replace_letter(word='tea',\n",
    "                              verbose=True)\n"
   ]
  },
  {
   "cell_type": "code",
   "execution_count": 16,
   "metadata": {
    "ExecuteTime": {
     "end_time": "2020-07-20T14:47:19.349022Z",
     "start_time": "2020-07-20T14:47:19.332108Z"
    }
   },
   "outputs": [],
   "source": [
    "def insert_letter(word, verbose=False):\n",
    "\n",
    "    \n",
    "    letters = 'abcdefghijklmnopqrstuvwxyz'\n",
    "    insert_l = []\n",
    "    split_l = []\n",
    "    \n",
    "    split_l=[(word[:i],word[i:]) for i in range (len(word)+1)]\n",
    "    insert_l=[L+c+R for L,R in  split_l for c in letters]\n",
    "\n",
    "    if verbose: print(f\"Input word {word} \\nsplit_l = {split_l} \\ninsert_l = {insert_l}\")\n",
    "    \n",
    "    return insert_l"
   ]
  },
  {
   "cell_type": "code",
   "execution_count": 18,
   "metadata": {
    "ExecuteTime": {
     "end_time": "2020-07-20T14:47:35.362908Z",
     "start_time": "2020-07-20T14:47:35.350039Z"
    }
   },
   "outputs": [
    {
     "name": "stdout",
     "output_type": "stream",
     "text": [
      "Input word in \n",
      "split_l = [('', 'in'), ('i', 'n'), ('in', '')] \n",
      "insert_l = ['ain', 'bin', 'cin', 'din', 'ein', 'fin', 'gin', 'hin', 'iin', 'jin', 'kin', 'lin', 'min', 'nin', 'oin', 'pin', 'qin', 'rin', 'sin', 'tin', 'uin', 'vin', 'win', 'xin', 'yin', 'zin', 'ian', 'ibn', 'icn', 'idn', 'ien', 'ifn', 'ign', 'ihn', 'iin', 'ijn', 'ikn', 'iln', 'imn', 'inn', 'ion', 'ipn', 'iqn', 'irn', 'isn', 'itn', 'iun', 'ivn', 'iwn', 'ixn', 'iyn', 'izn', 'ina', 'inb', 'inc', 'ind', 'ine', 'inf', 'ing', 'inh', 'ini', 'inj', 'ink', 'inl', 'inm', 'inn', 'ino', 'inp', 'inq', 'inr', 'ins', 'int', 'inu', 'inv', 'inw', 'inx', 'iny', 'inz']\n",
      "Number of strings output by insert_letter('at') is 78\n"
     ]
    }
   ],
   "source": [
    "insert_l = insert_letter('in', True)\n",
    "print(f\"Number of strings output by insert_letter('at') is {len(insert_l)}\")"
   ]
  },
  {
   "cell_type": "markdown",
   "metadata": {},
   "source": [
    "<a name='3'></a>\n",
    "\n",
    "# Part 3: Combining the edits\n",
    "\n",
    "Now that we have implemented the string manipulations, we will create two functions that, given a string, will return all the possible single and double edits on that string. These will be `edit_one_letter()` and `edit_two_letters()`."
   ]
  },
  {
   "cell_type": "markdown",
   "metadata": {},
   "source": [
    "<a name='3-1'></a>\n",
    "## 3.1 Edit one letter\n",
    "\n",
    "`edit_one_letter` : To get all the possible edits that are one edit away from a word. The edits  consist of the replace, insert, delete, and optionally the switch operation. "
   ]
  },
  {
   "cell_type": "code",
   "execution_count": 19,
   "metadata": {
    "ExecuteTime": {
     "end_time": "2020-07-20T14:49:27.889562Z",
     "start_time": "2020-07-20T14:49:27.876767Z"
    }
   },
   "outputs": [],
   "source": [
    "def edit_one_letter(word, allow_switches = True):\n",
    "    \n",
    "    edit_one_set = set()\n",
    "    \n",
    "    edit_one_set=set(delete_letter(word, verbose=False)+\n",
    "                     switch_letter(word, verbose=False)+\n",
    "                     replace_letter(word, verbose=False)+\n",
    "                     insert_letter(word, verbose=False)                     \n",
    "                    )\n",
    "\n",
    "    return edit_one_set"
   ]
  },
  {
   "cell_type": "code",
   "execution_count": 20,
   "metadata": {
    "ExecuteTime": {
     "end_time": "2020-07-20T14:50:01.779342Z",
     "start_time": "2020-07-20T14:50:01.758497Z"
    }
   },
   "outputs": [
    {
     "name": "stdout",
     "output_type": "stream",
     "text": [
      "input word on \n",
      "edit_one_l \n",
      "['an', 'aon', 'bn', 'bon', 'cn', 'con', 'dn', 'don', 'en', 'eon', 'fn', 'fon', 'gn', 'gon', 'hn', 'hon', 'in', 'ion', 'jn', 'jon', 'kn', 'kon', 'ln', 'lon', 'mn', 'mon', 'n', 'nn', 'no', 'non', 'o', 'oa', 'oan', 'ob', 'obn', 'oc', 'ocn', 'od', 'odn', 'oe', 'oen', 'of', 'ofn', 'og', 'ogn', 'oh', 'ohn', 'oi', 'oin', 'oj', 'ojn', 'ok', 'okn', 'ol', 'oln', 'om', 'omn', 'ona', 'onb', 'onc', 'ond', 'one', 'onf', 'ong', 'onh', 'oni', 'onj', 'onk', 'onl', 'onm', 'onn', 'ono', 'onp', 'onq', 'onr', 'ons', 'ont', 'onu', 'onv', 'onw', 'onx', 'ony', 'onz', 'oo', 'oon', 'op', 'opn', 'oq', 'oqn', 'or', 'orn', 'os', 'osn', 'ot', 'otn', 'ou', 'oun', 'ov', 'ovn', 'ow', 'own', 'ox', 'oxn', 'oy', 'oyn', 'oz', 'ozn', 'pn', 'pon', 'qn', 'qon', 'rn', 'ron', 'sn', 'son', 'tn', 'ton', 'un', 'uon', 'vn', 'von', 'wn', 'won', 'xn', 'xon', 'yn', 'yon', 'zn', 'zon']\n",
      "\n",
      "Number of outputs from edit_one_letter('at') is 129\n"
     ]
    }
   ],
   "source": [
    "tmp_word = \"on\"\n",
    "tmp_edit_one_set = edit_one_letter(tmp_word)\n",
    "# turn this into a list to sort it, in order to view it\n",
    "tmp_edit_one_l = sorted(list(tmp_edit_one_set))\n",
    "\n",
    "print(f\"input word {tmp_word} \\nedit_one_l \\n{tmp_edit_one_l}\\n\")\n",
    "print(f\"Number of outputs from edit_one_letter('at') is {len(edit_one_letter('at'))}\")"
   ]
  },
  {
   "cell_type": "markdown",
   "metadata": {},
   "source": [
    "<a name='3-2'></a>\n",
    "## Part 3.2 Edit two letters\n",
    "\n",
    "`edit_two_letters` : To return a set of words that are two edits away. \n",
    "Note that creating additional edits based on the `edit_one_letter` function may 'restore' some one_edits to zero or one edits. That is allowed here."
   ]
  },
  {
   "cell_type": "code",
   "execution_count": 21,
   "metadata": {
    "ExecuteTime": {
     "end_time": "2020-07-20T14:51:46.239376Z",
     "start_time": "2020-07-20T14:51:46.224829Z"
    }
   },
   "outputs": [],
   "source": [
    "def edit_two_letters(word, allow_switches = True):\n",
    "       \n",
    "    edit_two_set = set()\n",
    "    \n",
    "\n",
    "    tmp_edit_one_set=edit_one_letter(word, allow_switches = True)\n",
    "    edit_one_set=sorted(list(tmp_edit_one_set))\n",
    "    for word_i in edit_one_set:\n",
    "        l1=edit_one_letter(word_i, allow_switches = True)\n",
    "        for i in l1:\n",
    "            edit_two_set.add(i)\n",
    "            \n",
    "    \n",
    "    return edit_two_set"
   ]
  },
  {
   "cell_type": "code",
   "execution_count": 22,
   "metadata": {
    "ExecuteTime": {
     "end_time": "2020-07-20T14:52:08.704695Z",
     "start_time": "2020-07-20T14:52:08.647899Z"
    }
   },
   "outputs": [
    {
     "name": "stdout",
     "output_type": "stream",
     "text": [
      "Number of strings with edit distance of two: 2654\n",
      "First 10 strings ['', 'a', 'aa', 'aaa', 'aab', 'aac', 'aad', 'aae', 'aaf', 'aag']\n",
      "Last 10 strings ['zv', 'zva', 'zw', 'zwa', 'zx', 'zxa', 'zy', 'zya', 'zz', 'zza']\n",
      "Number of strings that are 2 edit distances from 'at' is 7154\n"
     ]
    }
   ],
   "source": [
    "tmp_edit_two_set = edit_two_letters(\"a\")\n",
    "tmp_edit_two_l = sorted(list(tmp_edit_two_set))\n",
    "print(f\"Number of strings with edit distance of two: {len(tmp_edit_two_l)}\")\n",
    "print(f\"First 10 strings {tmp_edit_two_l[:10]}\")\n",
    "print(f\"Last 10 strings {tmp_edit_two_l[-10:]}\")\n",
    "print(f\"Number of strings that are 2 edit distances from 'at' is {len(edit_two_letters('at'))}\")"
   ]
  },
  {
   "cell_type": "markdown",
   "metadata": {},
   "source": [
    "<a name='3-3'></a>\n",
    "## Part 3-3: suggest spelling suggestions\n",
    "\n",
    "Now you will use our  `edit_two_letters` function to get a set of all the possible 2 edits on your word. We will then use those strings to get the most probable word we meant to type aka your typing suggestion.\n",
    "\n",
    "\n",
    "`get_corrections`:  returns a list of zero to n possible suggestion tuples of the form (word, probability_of_word). \n",
    "\n",
    "\n",
    "Note: \n",
    "- Edits of one or two letters may 'restore' strings to either zero or one edit. This algorithm accounts for this by preferentially selecting lower distance edits first."
   ]
  },
  {
   "cell_type": "code",
   "execution_count": 23,
   "metadata": {
    "ExecuteTime": {
     "end_time": "2020-07-20T14:54:40.055303Z",
     "start_time": "2020-07-20T14:54:40.043738Z"
    }
   },
   "outputs": [],
   "source": [
    "\n",
    "def get_corrections(word, probs, vocab, n=2, verbose = False):\n",
    "    '''\n",
    "    Input: \n",
    "        word: a user entered string to check for suggestions\n",
    "        probs: a dictionary that maps each word to its probability in the corpus\n",
    "        vocab: a set containing all the vocabulary\n",
    "        n: number of possible word corrections you want returned in the dictionary\n",
    "    Output: \n",
    "        n_best: a list of tuples with the most probable n corrected words and their probabilities.\n",
    "    '''\n",
    "    \n",
    "    suggestions = []\n",
    "    n_best = []\n",
    "    best_words={}\n",
    "    \n",
    "    if word in vocab :\n",
    "        suggestions.append(word)\n",
    "    else:\n",
    "        l1=edit_one_letter(word, allow_switches = True)\n",
    "        l2=edit_two_letters(word, allow_switches = True)\n",
    "        suggestions=(l1.intersection(vocab)) or (l2.intersection(vocab)) or word\n",
    "   \n",
    "    for k in suggestions:\n",
    "        if k in vocab :\n",
    "            best_words[k]=probs[k] \n",
    "        else :\n",
    "            best_words[k]=0\n",
    "            \n",
    "    n_best= Counter(best_words).most_common(n)  \n",
    "           \n",
    "    if verbose: print(\"suggestions = \", suggestions)\n",
    "\n",
    "    return n_best"
   ]
  },
  {
   "cell_type": "code",
   "execution_count": 26,
   "metadata": {
    "ExecuteTime": {
     "end_time": "2020-07-20T14:55:15.261224Z",
     "start_time": "2020-07-20T14:55:15.186435Z"
    }
   },
   "outputs": [
    {
     "name": "stdout",
     "output_type": "stream",
     "text": [
      "suggestions =  {'happy', 'hap', 'haply'}\n",
      "word 0: happy, probability 0.000317\n",
      "word 1: haply, probability 0.000131\n"
     ]
    }
   ],
   "source": [
    "my_word = 'hapy' \n",
    "tmp_corrections = get_corrections(my_word, probs, vocab, 2, verbose=True)\n",
    "for i, word_prob in enumerate(tmp_corrections):\n",
    "    print(f\"word {i}: {word_prob[0]}, probability {word_prob[1]:.6f}\")\n"
   ]
  },
  {
   "cell_type": "code",
   "execution_count": 28,
   "metadata": {
    "ExecuteTime": {
     "end_time": "2020-07-20T14:55:45.421340Z",
     "start_time": "2020-07-20T14:55:45.366432Z"
    }
   },
   "outputs": [
    {
     "name": "stdout",
     "output_type": "stream",
     "text": [
      "suggestions =  {'has', 'his', 'rs', 'hers'}\n",
      "word 0: his, probability 0.008095\n",
      "word 1: has, probability 0.000578\n"
     ]
    }
   ],
   "source": [
    "my_word = 'hrs' \n",
    "tmp_corrections = get_corrections(my_word, probs, vocab, 2, verbose=True)\n",
    "for i, word_prob in enumerate(tmp_corrections):\n",
    "    print(f\"word {i}: {word_prob[0]}, probability {word_prob[1]:.6f}\")\n"
   ]
  },
  {
   "cell_type": "code",
   "execution_count": 32,
   "metadata": {
    "ExecuteTime": {
     "end_time": "2020-07-20T14:56:28.027676Z",
     "start_time": "2020-07-20T14:56:27.859373Z"
    }
   },
   "outputs": [
    {
     "name": "stdout",
     "output_type": "stream",
     "text": [
      "suggestions =  {'cannot'}\n",
      "word 0: cannot, probability 0.000951\n"
     ]
    }
   ],
   "source": [
    "my_word = 'kannot' \n",
    "tmp_corrections = get_corrections(my_word, probs, vocab, 2, verbose=True)\n",
    "for i, word_prob in enumerate(tmp_corrections):\n",
    "    print(f\"word {i}: {word_prob[0]}, probability {word_prob[1]:.6f}\")\n"
   ]
  },
  {
   "cell_type": "markdown",
   "metadata": {},
   "source": [
    "<a name='4'></a>\n",
    "# Part 4: Minimum Edit distance\n",
    "\n",
    "Now that we have implemented our auto-correct sys , how we can evaluate the similarity between two strings? For example: 'waht' and 'what'\n",
    "\n",
    "Also how do we efficiently find the shortest path to go from the word, 'waht' to the word 'what'?\n",
    "\n",
    "In this part , We will implement a dynamic programming system that will tell us the minimum number of edits required to convert a string into another string."
   ]
  },
  {
   "cell_type": "markdown",
   "metadata": {},
   "source": [
    "<a name='4-1'></a>\n",
    "### Part 4.1 Dynamic Programming\n",
    "\n",
    "Dynamic Programming breaks a problem down into subproblems which can be combined to form the final solution. Here, given a string source[0..i] and a string target[0..j], we will compute all the combinations of substrings[i, j] and calculate their edit distance. To do this efficiently, we will use a table to maintain the previously computed substrings and use those to calculate larger substrings.\n",
    "\n",
    "We have to create a matrix and update each element in the matrix as follows:  "
   ]
  },
  {
   "cell_type": "markdown",
   "metadata": {},
   "source": [
    "$$\\text{Initialization}$$\n",
    "\n",
    "\\begin{align}\n",
    "D[0,0] &= 0 \\\\\n",
    "D[i,0] &= D[i-1,0] + del\\_cost(source[i]) \\\\\n",
    "D[0,j] &= D[0,j-1] + ins\\_cost(target[j]) \\\\\n",
    "\\end{align}"
   ]
  },
  {
   "cell_type": "markdown",
   "metadata": {},
   "source": [
    "\n",
    "$$\\text{Per Cell Operations}$$\n",
    "\\begin{align}\n",
    " \\\\\n",
    "D[i,j] =min\n",
    "\\begin{cases}\n",
    "D[i-1,j] + del\\_cost\\\\\n",
    "D[i,j-1] + ins\\_cost\\\\\n",
    "D[i-1,j-1] + \\left\\{\\begin{matrix}\n",
    "rep\\_cost; & if src[i]\\neq tar[j]\\\\\n",
    "0 ; & if src[i]=tar[j]\n",
    "\\end{matrix}\\right.\n",
    "\\end{cases}\n",
    "\\\n",
    "\\end{align}"
   ]
  },
  {
   "cell_type": "markdown",
   "metadata": {},
   "source": [
    "So converting the source word **play** to the target word **stay**, using an input cost of 1, a delete cost of 1, and replace cost of 2 would give you the following table:\n",
    "<table style=\"width:20%\">\n",
    "\n",
    "  <tr>\n",
    "    <td> <b> </b>  </td>\n",
    "    <td> <b># </b>  </td>\n",
    "    <td> <b>s </b>  </td>\n",
    "    <td> <b>t </b> </td> \n",
    "    <td> <b>a </b> </td> \n",
    "    <td> <b>y </b> </td> \n",
    "  </tr>\n",
    "   <tr>\n",
    "    <td> <b>  #  </b></td>\n",
    "    <td> 0</td> \n",
    "    <td> 1</td> \n",
    "    <td> 2</td> \n",
    "    <td> 3</td> \n",
    "    <td> 4</td> \n",
    " \n",
    "  </tr>\n",
    "  <tr>\n",
    "    <td> <b>  p  </b></td>\n",
    "    <td> 1</td> \n",
    " <td> 2</td> \n",
    "    <td> 3</td> \n",
    "    <td> 4</td> \n",
    "   <td> 5</td>\n",
    "  </tr>\n",
    "   \n",
    "  <tr>\n",
    "    <td> <b> l </b></td>\n",
    "    <td>2</td> \n",
    "    <td>3</td> \n",
    "    <td>4</td> \n",
    "    <td>5</td> \n",
    "    <td>6</td>\n",
    "  </tr>\n",
    "\n",
    "  <tr>\n",
    "    <td> <b> a </b></td>\n",
    "    <td>3</td> \n",
    "     <td>4</td> \n",
    "     <td>5</td> \n",
    "     <td>4</td>\n",
    "     <td>5</td> \n",
    "  </tr>\n",
    "  \n",
    "   <tr>\n",
    "    <td> <b> y </b></td>\n",
    "    <td>4</td> \n",
    "      <td>5</td> \n",
    "     <td>6</td> \n",
    "     <td>5</td>\n",
    "     <td>4</td> \n",
    "  </tr>\n",
    "  \n",
    "\n",
    "</table>\n",
    "\n"
   ]
  },
  {
   "cell_type": "markdown",
   "metadata": {},
   "source": [
    "The operations used in this algorithm are 'insert', 'delete', and 'replace', 'switch'is not used here."
   ]
  },
  {
   "cell_type": "code",
   "execution_count": 33,
   "metadata": {
    "ExecuteTime": {
     "end_time": "2020-07-20T17:56:52.488923Z",
     "start_time": "2020-07-20T17:56:52.380467Z"
    }
   },
   "outputs": [],
   "source": [
    "def min_edit_distance(source, target, ins_cost = 1, del_cost = 1, rep_cost = 2):\n",
    "    '''\n",
    "    Input: \n",
    "        source: a string corresponding to the string you are starting with\n",
    "        target: a string corresponding to the string you want to end with\n",
    "        ins_cost: an integer setting the insert cost\n",
    "        del_cost: an integer setting the delete cost\n",
    "        rep_cost: an integer setting the replace cost\n",
    "    Output:\n",
    "        D: a matrix of len(source)+1 by len(target)+1 containing minimum edit distances\n",
    "        med: the minimum edit distance (med) required to convert the source string to the target\n",
    "    '''\n",
    "    # use deletion and insert cost as  1\n",
    "    m = len(source) \n",
    "    n = len(target) \n",
    "    #initialize cost matrix with zeros and dimensions (m+1,n+1) \n",
    "    D = np.zeros((m+1, n+1), dtype=int) \n",
    "\n",
    "    # Fill in column 0, from row 1 to row m, both inclusive\n",
    "    for row in range(1,m+1): # Replace None with the proper range\n",
    "        D[row,0] = D[row-1,0]+del_cost\n",
    "        \n",
    "    # Fill in row 0, for all columns from 1 to n, both inclusive\n",
    "    for col in range(1,n+1): # Replace None with the proper range\n",
    "        D[0,col] = D[0,col-1]+ins_cost \n",
    "    # Loop through row 1 to row m, both inclusive\n",
    "    for row in range(1,m+1): \n",
    "        \n",
    "        # Loop through column 1 to column n, both inclusive\n",
    "        for col in range(1,n+1):\n",
    "            \n",
    "            # Intialize r_cost to the 'replace' cost that is passed into this function\n",
    "            r_cost = rep_cost\n",
    "            # Check to see if source character at the previous row\n",
    "            # matches the target character at the previous column, \n",
    "            if source[row-1]==target[col-1]:\n",
    "                # Update the replacement cost to 0 if source and target are the same\n",
    "                r_cost = 0\n",
    "                \n",
    "            # Update the cost at row, col based on previous entries in the cost matrix\n",
    "            # Refer to the equation calculate for D[i,j] (the minimum of three calculated costs)\n",
    "            D[row,col] = min(D[row-1,col-1]+r_cost,D[row,col-1]+ins_cost,D[row-1,col]+del_cost)\n",
    "\n",
    "    # Set the minimum edit distance with the cost found at row m, column n\n",
    "    med = D[m,n]\n",
    "    \n",
    "    return D, med"
   ]
  },
  {
   "cell_type": "code",
   "execution_count": 34,
   "metadata": {
    "ExecuteTime": {
     "end_time": "2020-07-20T17:57:01.041500Z",
     "start_time": "2020-07-20T17:57:00.970962Z"
    }
   },
   "outputs": [
    {
     "name": "stdout",
     "output_type": "stream",
     "text": [
      "minimum edits:  4 \n",
      "\n",
      "   #  s  t  a  y\n",
      "#  0  1  2  3  4\n",
      "p  1  2  3  4  5\n",
      "l  2  3  4  5  6\n",
      "a  3  4  5  4  5\n",
      "y  4  5  6  5  4\n"
     ]
    }
   ],
   "source": [
    "# testing implementation \n",
    "source =  'play'\n",
    "target = 'stay'\n",
    "matrix, min_edits = min_edit_distance(source, target)\n",
    "print(\"minimum edits: \",min_edits, \"\\n\")\n",
    "idx = list('#' + source)\n",
    "cols = list('#' + target)\n",
    "df = pd.DataFrame(matrix, index=idx, columns= cols)\n",
    "print(df)"
   ]
  },
  {
   "cell_type": "code",
   "execution_count": 35,
   "metadata": {
    "ExecuteTime": {
     "end_time": "2020-07-20T17:57:32.972839Z",
     "start_time": "2020-07-20T17:57:32.950055Z"
    }
   },
   "outputs": [
    {
     "name": "stdout",
     "output_type": "stream",
     "text": [
      "minimum edits:  3 \n",
      "\n",
      "   #  n  e  a  r\n",
      "#  0  1  2  3  4\n",
      "e  1  2  1  2  3\n",
      "e  2  3  2  3  4\n",
      "r  3  4  3  4  3\n"
     ]
    }
   ],
   "source": [
    "# testing your implementation \n",
    "source =  'eer'\n",
    "target = 'near'\n",
    "matrix, min_edits = min_edit_distance(source, target)\n",
    "print(\"minimum edits: \",min_edits, \"\\n\")\n",
    "idx = list(source)\n",
    "idx.insert(0, '#')\n",
    "cols = list(target)\n",
    "cols.insert(0, '#')\n",
    "df = pd.DataFrame(matrix, index=idx, columns= cols)\n",
    "print(df)"
   ]
  },
  {
   "cell_type": "markdown",
   "metadata": {},
   "source": [
    "We can now test several of our routines at once:"
   ]
  },
  {
   "cell_type": "code",
   "execution_count": 37,
   "metadata": {
    "ExecuteTime": {
     "end_time": "2020-07-20T18:02:07.735201Z",
     "start_time": "2020-07-20T18:02:07.717736Z"
    }
   },
   "outputs": [
    {
     "name": "stdout",
     "output_type": "stream",
     "text": [
      "in ni 2\n"
     ]
    }
   ],
   "source": [
    "source = \"in\"\n",
    "targets = edit_one_letter(source,allow_switches = False)  #disable switches since min_edit_distance does not include them\n",
    "for t in targets:\n",
    "    _, min_edits = min_edit_distance(source, t,1,1,1)  # set ins, del, sub costs all to one\n",
    "    if min_edits != 1: print(source, t, min_edits)"
   ]
  },
  {
   "cell_type": "markdown",
   "metadata": {},
   "source": [
    "The 'replace()' routine utilizes all letters a-z one of which returns the original word."
   ]
  },
  {
   "cell_type": "code",
   "execution_count": 38,
   "metadata": {
    "ExecuteTime": {
     "end_time": "2020-07-20T18:02:19.993830Z",
     "start_time": "2020-07-20T18:02:19.662870Z"
    }
   },
   "outputs": [
    {
     "name": "stdout",
     "output_type": "stream",
     "text": [
      "in nei 3\n",
      "in npi 3\n",
      "in nmi 3\n",
      "in nvi 3\n",
      "in nhi 3\n",
      "in nqi 3\n",
      "in nai 3\n",
      "in nwi 3\n",
      "in nki 3\n",
      "in nji 3\n",
      "in nci 3\n",
      "in nui 3\n",
      "in nri 3\n",
      "in ngi 3\n",
      "in nzi 3\n",
      "in nyi 3\n",
      "in noi 3\n",
      "in nbi 3\n",
      "in nti 3\n",
      "in nli 3\n",
      "in nxi 3\n",
      "in nfi 3\n",
      "in in 0\n",
      "in ndi 3\n",
      "in nsi 3\n"
     ]
    }
   ],
   "source": [
    "source = \"in\"\n",
    "targets = edit_two_letters(source,allow_switches = False) #disable switches since min_edit_distance does not include them\n",
    "for t in targets:\n",
    "    _, min_edits = min_edit_distance(source, t,1,1,1)  # set ins, del, sub costs all to one\n",
    "    if min_edits != 2 and min_edits != 1: print(source, t, min_edits)"
   ]
  },
  {
   "cell_type": "markdown",
   "metadata": {},
   "source": [
    "<a name='5'></a>\n",
    "\n",
    "# Part 5:  Backtrace\n",
    "\n",
    "\n",
    "To be added later"
   ]
  },
  {
   "cell_type": "code",
   "execution_count": 32,
   "metadata": {},
   "outputs": [],
   "source": [
    "\n",
    "\n"
   ]
  }
 ],
 "metadata": {
  "coursera": {
   "schema_names": [
    "NLPC2-1"
   ]
  },
  "kernelspec": {
   "display_name": "Python 3",
   "language": "python",
   "name": "python3"
  },
  "language_info": {
   "codemirror_mode": {
    "name": "ipython",
    "version": 3
   },
   "file_extension": ".py",
   "mimetype": "text/x-python",
   "name": "python",
   "nbconvert_exporter": "python",
   "pygments_lexer": "ipython3",
   "version": "3.7.7"
  }
 },
 "nbformat": 4,
 "nbformat_minor": 4
}
