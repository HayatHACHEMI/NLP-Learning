{
 "cells": [
  {
   "cell_type": "markdown",
   "metadata": {},
   "source": [
    "# TP BDM : APPLICATIONS SUR NAIVE BAYES \n",
    "\n",
    "**Réalisé par : Hayat HACHEMI - SIT 1** \n",
    "<br></br>\n",
    "**Mai 2020**\n",
    "\n",
    "Durant ce TP , on va exploiter Naive Bayes Algorithm dans deux de ses domains d'applications :\n",
    "- Analyse des sentiments , \n",
    "- Classification de documents .\n"
   ]
  },
  {
   "cell_type": "markdown",
   "metadata": {},
   "source": [
    "On utilisera Naïve Bayes Classification qui n'est rien d'autre que l'application des règles de Bayes pour former des probabilités de classification . Dans ce TP on utilisera **MultinomialNB** . Plus de détails sur les types de NB Algorithms sous **scikit-learn**: \n",
    "https://scikit-learn.org/stable/modules/naive_bayes.html"
   ]
  },
  {
   "cell_type": "markdown",
   "metadata": {},
   "source": [
    "## Importing Libraries "
   ]
  },
  {
   "cell_type": "code",
   "execution_count": 1,
   "metadata": {
    "ExecuteTime": {
     "end_time": "2020-05-02T13:51:38.045670Z",
     "start_time": "2020-05-02T13:51:33.785976Z"
    }
   },
   "outputs": [],
   "source": [
    "import pandas as pd\n",
    "import numpy as np \n",
    "import matplotlib.pyplot as plt \n",
    "import seaborn as sns\n",
    "\n",
    "from sklearn.feature_extraction.text import CountVectorizer\n",
    "\n",
    "from wordcloud import WordCloud\n",
    "\n",
    "from sklearn.model_selection import train_test_split\n",
    "\n",
    "from sklearn.naive_bayes import MultinomialNB\n",
    "\n",
    "from sklearn.metrics import confusion_matrix\n",
    "from sklearn.metrics import accuracy_score\n",
    "from sklearn.metrics import classification_report\n",
    "\n",
    "%matplotlib inline "
   ]
  },
  {
   "cell_type": "markdown",
   "metadata": {},
   "source": [
    "# Partie 01 : Prédiction des sentiments à partir des avis sur les vêtements"
   ]
  },
  {
   "cell_type": "markdown",
   "metadata": {},
   "source": [
    "L'analyse des sentiments est un sujet vital dans le domaine de la PNL ,elle entre dans la grande catégorie des tâches de classification de texte . Le but est de fournir une phrase ou une liste de phrases et un classificateur est censé dire si le sentiment derrière cela est positif, négatif ou neutre. "
   ]
  },
  {
   "cell_type": "markdown",
   "metadata": {},
   "source": [
    "**Objectif : Utiliser Naïve Bayes Classification pour prédire les sentiments des clients sur des vêtements d'une société privée à partir de leurs avis**\n",
    "<br></br>\n",
    "Dans cette partie de Tp , on va essayer de prédire les sentiments des clients à partir de leurs avis , le dataset utilisée est **« Women's E-Commerce Clothing Reviews »** téléchargeable depuis Kaggle via : https://www.kaggle.com/nicapotato/womens-ecommerce-clothing-reviews ."
   ]
  },
  {
   "cell_type": "markdown",
   "metadata": {},
   "source": [
    "**Credit** : \n",
    "Une grande partie de cette partie inspirée de : https://www.kaggle.com/burhanykiyakoglu/predicting-sentiment-from-clothing-reviews"
   ]
  },
  {
   "cell_type": "markdown",
   "metadata": {},
   "source": [
    "## Getting Data "
   ]
  },
  {
   "cell_type": "code",
   "execution_count": 2,
   "metadata": {
    "ExecuteTime": {
     "end_time": "2020-05-02T13:51:38.331505Z",
     "start_time": "2020-05-02T13:51:38.049335Z"
    }
   },
   "outputs": [],
   "source": [
    "df_c=pd.read_csv(\"Womens_Clothing_ECommerce_Reviews.csv\")"
   ]
  },
  {
   "cell_type": "code",
   "execution_count": 3,
   "metadata": {
    "ExecuteTime": {
     "end_time": "2020-05-02T13:51:38.350681Z",
     "start_time": "2020-05-02T13:51:38.334933Z"
    }
   },
   "outputs": [
    {
     "data": {
      "text/plain": [
       "(23486, 10)"
      ]
     },
     "execution_count": 3,
     "metadata": {},
     "output_type": "execute_result"
    }
   ],
   "source": [
    "df_c.shape"
   ]
  },
  {
   "cell_type": "markdown",
   "metadata": {},
   "source": [
    "Ce dataset comprend 23486 lignes et 10 feature variables. Chaque ligne correspond à un avis client et comprend les variables:\n",
    "<br></br>\n",
    "**Clothing ID**: Integer Categorical variable that refers to the specific piece being reviewed.\n",
    "<br></br>\n",
    "**Age**: Positive Integer variable of the reviewers age.\n",
    "<br></br>\n",
    "**Title**: String variable for the title of the review.\n",
    "<br></br>\n",
    "**Review Text**: String variable for the review body.\n",
    "<br></br>\n",
    "**Rating**: Positive Ordinal Integer variable for the product score granted by the customer from 1 Worst, to 5 Best.\n",
    "<br></br>\n",
    "**Recommended IND**: Binary variable stating where the customer recommends the product where 1 is recommended, 0 is not recommended.\n",
    "<br></br>\n",
    "**Positive Feedback Count**: Positive Integer documenting the number of other customers who found this review positive.\n",
    "<br></br>\n",
    "**Division Name**: Categorical name of the product high level division.\n",
    "<br></br>\n",
    "**Department Name**: Categorical name of the product department name.\n",
    "<br></br>\n",
    "**Class Name**: Categorical name of the product class name."
   ]
  },
  {
   "cell_type": "code",
   "execution_count": 4,
   "metadata": {
    "ExecuteTime": {
     "end_time": "2020-05-02T13:51:38.440614Z",
     "start_time": "2020-05-02T13:51:38.354884Z"
    }
   },
   "outputs": [
    {
     "data": {
      "text/html": [
       "<div>\n",
       "<style scoped>\n",
       "    .dataframe tbody tr th:only-of-type {\n",
       "        vertical-align: middle;\n",
       "    }\n",
       "\n",
       "    .dataframe tbody tr th {\n",
       "        vertical-align: top;\n",
       "    }\n",
       "\n",
       "    .dataframe thead th {\n",
       "        text-align: right;\n",
       "    }\n",
       "</style>\n",
       "<table border=\"1\" class=\"dataframe\">\n",
       "  <thead>\n",
       "    <tr style=\"text-align: right;\">\n",
       "      <th></th>\n",
       "      <th>Clothing ID</th>\n",
       "      <th>Age</th>\n",
       "      <th>Title</th>\n",
       "      <th>Review Text</th>\n",
       "      <th>Rating</th>\n",
       "      <th>Recommended IND</th>\n",
       "      <th>Positive Feedback Count</th>\n",
       "      <th>Division Name</th>\n",
       "      <th>Department Name</th>\n",
       "      <th>Class Name</th>\n",
       "    </tr>\n",
       "  </thead>\n",
       "  <tbody>\n",
       "    <tr>\n",
       "      <th>0</th>\n",
       "      <td>767</td>\n",
       "      <td>33</td>\n",
       "      <td>NaN</td>\n",
       "      <td>Absolutely wonderful - silky and sexy and comf...</td>\n",
       "      <td>4</td>\n",
       "      <td>1</td>\n",
       "      <td>0</td>\n",
       "      <td>Initmates</td>\n",
       "      <td>Intimate</td>\n",
       "      <td>Intimates</td>\n",
       "    </tr>\n",
       "    <tr>\n",
       "      <th>1</th>\n",
       "      <td>1080</td>\n",
       "      <td>34</td>\n",
       "      <td>NaN</td>\n",
       "      <td>Love this dress!  it's sooo pretty.  i happene...</td>\n",
       "      <td>5</td>\n",
       "      <td>1</td>\n",
       "      <td>4</td>\n",
       "      <td>General</td>\n",
       "      <td>Dresses</td>\n",
       "      <td>Dresses</td>\n",
       "    </tr>\n",
       "    <tr>\n",
       "      <th>2</th>\n",
       "      <td>1077</td>\n",
       "      <td>60</td>\n",
       "      <td>Some major design flaws</td>\n",
       "      <td>I had such high hopes for this dress and reall...</td>\n",
       "      <td>3</td>\n",
       "      <td>0</td>\n",
       "      <td>0</td>\n",
       "      <td>General</td>\n",
       "      <td>Dresses</td>\n",
       "      <td>Dresses</td>\n",
       "    </tr>\n",
       "    <tr>\n",
       "      <th>3</th>\n",
       "      <td>1049</td>\n",
       "      <td>50</td>\n",
       "      <td>My favorite buy!</td>\n",
       "      <td>I love, love, love this jumpsuit. it's fun, fl...</td>\n",
       "      <td>5</td>\n",
       "      <td>1</td>\n",
       "      <td>0</td>\n",
       "      <td>General Petite</td>\n",
       "      <td>Bottoms</td>\n",
       "      <td>Pants</td>\n",
       "    </tr>\n",
       "    <tr>\n",
       "      <th>4</th>\n",
       "      <td>847</td>\n",
       "      <td>47</td>\n",
       "      <td>Flattering shirt</td>\n",
       "      <td>This shirt is very flattering to all due to th...</td>\n",
       "      <td>5</td>\n",
       "      <td>1</td>\n",
       "      <td>6</td>\n",
       "      <td>General</td>\n",
       "      <td>Tops</td>\n",
       "      <td>Blouses</td>\n",
       "    </tr>\n",
       "  </tbody>\n",
       "</table>\n",
       "</div>"
      ],
      "text/plain": [
       "   Clothing ID  Age                    Title  \\\n",
       "0          767   33                      NaN   \n",
       "1         1080   34                      NaN   \n",
       "2         1077   60  Some major design flaws   \n",
       "3         1049   50         My favorite buy!   \n",
       "4          847   47         Flattering shirt   \n",
       "\n",
       "                                         Review Text  Rating  Recommended IND  \\\n",
       "0  Absolutely wonderful - silky and sexy and comf...       4                1   \n",
       "1  Love this dress!  it's sooo pretty.  i happene...       5                1   \n",
       "2  I had such high hopes for this dress and reall...       3                0   \n",
       "3  I love, love, love this jumpsuit. it's fun, fl...       5                1   \n",
       "4  This shirt is very flattering to all due to th...       5                1   \n",
       "\n",
       "   Positive Feedback Count   Division Name Department Name Class Name  \n",
       "0                        0       Initmates        Intimate  Intimates  \n",
       "1                        4         General         Dresses    Dresses  \n",
       "2                        0         General         Dresses    Dresses  \n",
       "3                        0  General Petite         Bottoms      Pants  \n",
       "4                        6         General            Tops    Blouses  "
      ]
     },
     "execution_count": 4,
     "metadata": {},
     "output_type": "execute_result"
    }
   ],
   "source": [
    "df_c.head(5)"
   ]
  },
  {
   "cell_type": "code",
   "execution_count": 5,
   "metadata": {
    "ExecuteTime": {
     "end_time": "2020-05-02T13:51:38.473998Z",
     "start_time": "2020-05-02T13:51:38.446961Z"
    }
   },
   "outputs": [
    {
     "data": {
      "text/plain": [
       "Clothing ID                 int64\n",
       "Age                         int64\n",
       "Title                      object\n",
       "Review Text                object\n",
       "Rating                      int64\n",
       "Recommended IND             int64\n",
       "Positive Feedback Count     int64\n",
       "Division Name              object\n",
       "Department Name            object\n",
       "Class Name                 object\n",
       "dtype: object"
      ]
     },
     "execution_count": 5,
     "metadata": {},
     "output_type": "execute_result"
    }
   ],
   "source": [
    "df_c.dtypes"
   ]
  },
  {
   "cell_type": "markdown",
   "metadata": {},
   "source": [
    "## Preparing Data "
   ]
  },
  {
   "cell_type": "markdown",
   "metadata": {},
   "source": [
    "### Cleaning Data "
   ]
  },
  {
   "cell_type": "markdown",
   "metadata": {},
   "source": [
    "Avant d'entamner les analyses , il est nécessaire  de préparer nos donnés afin de les avoir bien rangées . "
   ]
  },
  {
   "cell_type": "markdown",
   "metadata": {},
   "source": [
    "Pour les besoins de ce TP , on gardera que les variables : Review Text,Rating,Class Name et Age"
   ]
  },
  {
   "cell_type": "code",
   "execution_count": 6,
   "metadata": {
    "ExecuteTime": {
     "end_time": "2020-05-02T13:51:38.504658Z",
     "start_time": "2020-05-02T13:51:38.476873Z"
    }
   },
   "outputs": [],
   "source": [
    "df_ct = df_c[['Review Text','Rating','Class Name','Age']]"
   ]
  },
  {
   "cell_type": "code",
   "execution_count": 7,
   "metadata": {
    "ExecuteTime": {
     "end_time": "2020-05-02T13:51:38.544868Z",
     "start_time": "2020-05-02T13:51:38.509185Z"
    }
   },
   "outputs": [
    {
     "data": {
      "text/html": [
       "<div>\n",
       "<style scoped>\n",
       "    .dataframe tbody tr th:only-of-type {\n",
       "        vertical-align: middle;\n",
       "    }\n",
       "\n",
       "    .dataframe tbody tr th {\n",
       "        vertical-align: top;\n",
       "    }\n",
       "\n",
       "    .dataframe thead th {\n",
       "        text-align: right;\n",
       "    }\n",
       "</style>\n",
       "<table border=\"1\" class=\"dataframe\">\n",
       "  <thead>\n",
       "    <tr style=\"text-align: right;\">\n",
       "      <th></th>\n",
       "      <th>Review Text</th>\n",
       "      <th>Rating</th>\n",
       "      <th>Class Name</th>\n",
       "      <th>Age</th>\n",
       "    </tr>\n",
       "  </thead>\n",
       "  <tbody>\n",
       "    <tr>\n",
       "      <th>0</th>\n",
       "      <td>Absolutely wonderful - silky and sexy and comf...</td>\n",
       "      <td>4</td>\n",
       "      <td>Intimates</td>\n",
       "      <td>33</td>\n",
       "    </tr>\n",
       "    <tr>\n",
       "      <th>1</th>\n",
       "      <td>Love this dress!  it's sooo pretty.  i happene...</td>\n",
       "      <td>5</td>\n",
       "      <td>Dresses</td>\n",
       "      <td>34</td>\n",
       "    </tr>\n",
       "    <tr>\n",
       "      <th>2</th>\n",
       "      <td>I had such high hopes for this dress and reall...</td>\n",
       "      <td>3</td>\n",
       "      <td>Dresses</td>\n",
       "      <td>60</td>\n",
       "    </tr>\n",
       "    <tr>\n",
       "      <th>3</th>\n",
       "      <td>I love, love, love this jumpsuit. it's fun, fl...</td>\n",
       "      <td>5</td>\n",
       "      <td>Pants</td>\n",
       "      <td>50</td>\n",
       "    </tr>\n",
       "    <tr>\n",
       "      <th>4</th>\n",
       "      <td>This shirt is very flattering to all due to th...</td>\n",
       "      <td>5</td>\n",
       "      <td>Blouses</td>\n",
       "      <td>47</td>\n",
       "    </tr>\n",
       "  </tbody>\n",
       "</table>\n",
       "</div>"
      ],
      "text/plain": [
       "                                         Review Text  Rating Class Name  Age\n",
       "0  Absolutely wonderful - silky and sexy and comf...       4  Intimates   33\n",
       "1  Love this dress!  it's sooo pretty.  i happene...       5    Dresses   34\n",
       "2  I had such high hopes for this dress and reall...       3    Dresses   60\n",
       "3  I love, love, love this jumpsuit. it's fun, fl...       5      Pants   50\n",
       "4  This shirt is very flattering to all due to th...       5    Blouses   47"
      ]
     },
     "execution_count": 7,
     "metadata": {},
     "output_type": "execute_result"
    }
   ],
   "source": [
    "df_ct.head(5)"
   ]
  },
  {
   "cell_type": "code",
   "execution_count": 8,
   "metadata": {
    "ExecuteTime": {
     "end_time": "2020-05-02T13:51:38.602739Z",
     "start_time": "2020-05-02T13:51:38.544868Z"
    }
   },
   "outputs": [
    {
     "name": "stdout",
     "output_type": "stream",
     "text": [
      "<class 'pandas.core.frame.DataFrame'>\n",
      "RangeIndex: 23486 entries, 0 to 23485\n",
      "Data columns (total 4 columns):\n",
      " #   Column       Non-Null Count  Dtype \n",
      "---  ------       --------------  ----- \n",
      " 0   Review Text  22641 non-null  object\n",
      " 1   Rating       23486 non-null  int64 \n",
      " 2   Class Name   23472 non-null  object\n",
      " 3   Age          23486 non-null  int64 \n",
      "dtypes: int64(2), object(2)\n",
      "memory usage: 734.1+ KB\n"
     ]
    }
   ],
   "source": [
    "df_ct.info()"
   ]
  },
  {
   "cell_type": "code",
   "execution_count": 9,
   "metadata": {
    "ExecuteTime": {
     "end_time": "2020-05-02T13:51:38.645886Z",
     "start_time": "2020-05-02T13:51:38.607710Z"
    }
   },
   "outputs": [
    {
     "data": {
      "text/plain": [
       "Review Text    845\n",
       "Rating           0\n",
       "Class Name      14\n",
       "Age              0\n",
       "dtype: int64"
      ]
     },
     "execution_count": 9,
     "metadata": {},
     "output_type": "execute_result"
    }
   ],
   "source": [
    "df_ct.isnull().sum()"
   ]
  },
  {
   "cell_type": "code",
   "execution_count": 10,
   "metadata": {
    "ExecuteTime": {
     "end_time": "2020-05-02T13:51:38.698985Z",
     "start_time": "2020-05-02T13:51:38.649831Z"
    }
   },
   "outputs": [
    {
     "data": {
      "text/html": [
       "<div>\n",
       "<style scoped>\n",
       "    .dataframe tbody tr th:only-of-type {\n",
       "        vertical-align: middle;\n",
       "    }\n",
       "\n",
       "    .dataframe tbody tr th {\n",
       "        vertical-align: top;\n",
       "    }\n",
       "\n",
       "    .dataframe thead th {\n",
       "        text-align: right;\n",
       "    }\n",
       "</style>\n",
       "<table border=\"1\" class=\"dataframe\">\n",
       "  <thead>\n",
       "    <tr style=\"text-align: right;\">\n",
       "      <th></th>\n",
       "      <th>Rating</th>\n",
       "      <th>Age</th>\n",
       "    </tr>\n",
       "  </thead>\n",
       "  <tbody>\n",
       "    <tr>\n",
       "      <th>count</th>\n",
       "      <td>23486.000000</td>\n",
       "      <td>23486.000000</td>\n",
       "    </tr>\n",
       "    <tr>\n",
       "      <th>mean</th>\n",
       "      <td>4.196032</td>\n",
       "      <td>43.198544</td>\n",
       "    </tr>\n",
       "    <tr>\n",
       "      <th>std</th>\n",
       "      <td>1.110031</td>\n",
       "      <td>12.279544</td>\n",
       "    </tr>\n",
       "    <tr>\n",
       "      <th>min</th>\n",
       "      <td>1.000000</td>\n",
       "      <td>18.000000</td>\n",
       "    </tr>\n",
       "    <tr>\n",
       "      <th>25%</th>\n",
       "      <td>4.000000</td>\n",
       "      <td>34.000000</td>\n",
       "    </tr>\n",
       "    <tr>\n",
       "      <th>50%</th>\n",
       "      <td>5.000000</td>\n",
       "      <td>41.000000</td>\n",
       "    </tr>\n",
       "    <tr>\n",
       "      <th>75%</th>\n",
       "      <td>5.000000</td>\n",
       "      <td>52.000000</td>\n",
       "    </tr>\n",
       "    <tr>\n",
       "      <th>max</th>\n",
       "      <td>5.000000</td>\n",
       "      <td>99.000000</td>\n",
       "    </tr>\n",
       "  </tbody>\n",
       "</table>\n",
       "</div>"
      ],
      "text/plain": [
       "             Rating           Age\n",
       "count  23486.000000  23486.000000\n",
       "mean       4.196032     43.198544\n",
       "std        1.110031     12.279544\n",
       "min        1.000000     18.000000\n",
       "25%        4.000000     34.000000\n",
       "50%        5.000000     41.000000\n",
       "75%        5.000000     52.000000\n",
       "max        5.000000     99.000000"
      ]
     },
     "execution_count": 10,
     "metadata": {},
     "output_type": "execute_result"
    }
   ],
   "source": [
    "df_ct.describe()"
   ]
  },
  {
   "cell_type": "markdown",
   "metadata": {},
   "source": [
    "Afin de travailler avec des donnés complètes , on supprimera les lignes ayant des donnés manquantes , cette suppression n'aura pas une grande influence sur nos analyses ."
   ]
  },
  {
   "cell_type": "code",
   "execution_count": 11,
   "metadata": {
    "ExecuteTime": {
     "end_time": "2020-05-02T13:51:38.734046Z",
     "start_time": "2020-05-02T13:51:38.700980Z"
    }
   },
   "outputs": [],
   "source": [
    "df_ct=df_ct.dropna()"
   ]
  },
  {
   "cell_type": "code",
   "execution_count": 12,
   "metadata": {
    "ExecuteTime": {
     "end_time": "2020-05-02T13:51:38.766302Z",
     "start_time": "2020-05-02T13:51:38.737457Z"
    }
   },
   "outputs": [
    {
     "data": {
      "text/plain": [
       "Review Text    0\n",
       "Rating         0\n",
       "Class Name     0\n",
       "Age            0\n",
       "dtype: int64"
      ]
     },
     "execution_count": 12,
     "metadata": {},
     "output_type": "execute_result"
    }
   ],
   "source": [
    "df_ct.isnull().sum()"
   ]
  },
  {
   "cell_type": "code",
   "execution_count": 13,
   "metadata": {
    "ExecuteTime": {
     "end_time": "2020-05-02T13:51:38.781943Z",
     "start_time": "2020-05-02T13:51:38.770313Z"
    }
   },
   "outputs": [
    {
     "data": {
      "text/plain": [
       "(22628, 4)"
      ]
     },
     "execution_count": 13,
     "metadata": {},
     "output_type": "execute_result"
    }
   ],
   "source": [
    "df_ct.shape"
   ]
  },
  {
   "cell_type": "markdown",
   "metadata": {},
   "source": [
    "### Eploring Data \n"
   ]
  },
  {
   "cell_type": "markdown",
   "metadata": {},
   "source": [
    "#### Analyzing values counts"
   ]
  },
  {
   "cell_type": "code",
   "execution_count": 14,
   "metadata": {
    "ExecuteTime": {
     "end_time": "2020-05-02T13:51:38.814882Z",
     "start_time": "2020-05-02T13:51:38.786120Z"
    }
   },
   "outputs": [
    {
     "data": {
      "text/plain": [
       "Dresses           6145\n",
       "Knits             4626\n",
       "Blouses           2983\n",
       "Sweaters          1380\n",
       "Pants             1350\n",
       "Jeans             1104\n",
       "Fine gauge        1059\n",
       "Skirts             903\n",
       "Jackets            683\n",
       "Lounge             669\n",
       "Swim               332\n",
       "Outerwear          319\n",
       "Shorts             304\n",
       "Sleep              214\n",
       "Legwear            158\n",
       "Intimates          147\n",
       "Layering           132\n",
       "Trend              118\n",
       "Casual bottoms       1\n",
       "Chemises             1\n",
       "Name: Class Name, dtype: int64"
      ]
     },
     "execution_count": 14,
     "metadata": {},
     "output_type": "execute_result"
    }
   ],
   "source": [
    "df_ct['Class Name'].value_counts()"
   ]
  },
  {
   "cell_type": "code",
   "execution_count": 15,
   "metadata": {
    "ExecuteTime": {
     "end_time": "2020-05-02T13:51:39.885887Z",
     "start_time": "2020-05-02T13:51:38.816943Z"
    }
   },
   "outputs": [
    {
     "data": {
      "image/png": "[encoded data removed]",
      "text/plain": [
       "<Figure size 1800x720 with 1 Axes>"
      ]
     },
     "metadata": {},
     "output_type": "display_data"
    }
   ],
   "source": [
    "sns.set(rc={'figure.figsize':(25,10)})\n",
    "p=sns.countplot(x='Class Name', data=df_ct)\n",
    "p.axes.xaxis.label.set_text(\"Frequency of cloth classes  \")"
   ]
  },
  {
   "cell_type": "code",
   "execution_count": 16,
   "metadata": {
    "ExecuteTime": {
     "end_time": "2020-05-02T13:51:39.917381Z",
     "start_time": "2020-05-02T13:51:39.893384Z"
    }
   },
   "outputs": [
    {
     "data": {
      "text/plain": [
       "5    12527\n",
       "4     4908\n",
       "3     2823\n",
       "2     1549\n",
       "1      821\n",
       "Name: Rating, dtype: int64"
      ]
     },
     "execution_count": 16,
     "metadata": {},
     "output_type": "execute_result"
    }
   ],
   "source": [
    "df_ct['Rating'].value_counts()"
   ]
  },
  {
   "cell_type": "code",
   "execution_count": 17,
   "metadata": {
    "ExecuteTime": {
     "end_time": "2020-05-02T13:51:40.704180Z",
     "start_time": "2020-05-02T13:51:39.923539Z"
    }
   },
   "outputs": [
    {
     "data": {
      "image/png": "[encoded data removed]",
      "text/plain": [
       "<Figure size 1800x720 with 1 Axes>"
      ]
     },
     "metadata": {},
     "output_type": "display_data"
    }
   ],
   "source": [
    "sns.set(rc={'figure.figsize':(25,10)})\n",
    "p=sns.countplot(x='Rating', data=df_ct)\n",
    "p.axes.xaxis.label.set_text(\"Frequency of Rating  \")"
   ]
  },
  {
   "cell_type": "code",
   "execution_count": 18,
   "metadata": {
    "ExecuteTime": {
     "end_time": "2020-05-02T13:51:40.753322Z",
     "start_time": "2020-05-02T13:51:40.708161Z"
    }
   },
   "outputs": [
    {
     "data": {
      "text/plain": [
       "Age\n",
       "(0, 10]         0\n",
       "(10, 20]      149\n",
       "(20, 30]     3070\n",
       "(30, 40]     7542\n",
       "(40, 50]     5700\n",
       "(50, 60]     3783\n",
       "(60, 70]     2009\n",
       "(70, 80]      277\n",
       "(80, 90]       86\n",
       "(90, 100]      12\n",
       "Name: Age, dtype: int64"
      ]
     },
     "execution_count": 18,
     "metadata": {},
     "output_type": "execute_result"
    }
   ],
   "source": [
    "ranges = [0,10,20,30,40,50,60,70,80,90,100]\n",
    "cl=df_ct['Age'].groupby(pd.cut(df_ct['Age'], ranges)).count()\n",
    "cl"
   ]
  },
  {
   "cell_type": "code",
   "execution_count": 19,
   "metadata": {
    "ExecuteTime": {
     "end_time": "2020-05-02T13:51:44.925527Z",
     "start_time": "2020-05-02T13:51:40.756764Z"
    }
   },
   "outputs": [
    {
     "data": {
      "image/png": "[encoded data removed]",
      "text/plain": [
       "<Figure size 1800x720 with 1 Axes>"
      ]
     },
     "metadata": {},
     "output_type": "display_data"
    }
   ],
   "source": [
    "sns.set(rc={'figure.figsize':(25,10)})\n",
    "p=sns.countplot(x='Age', data=df_ct)\n",
    "p.axes.xaxis.label.set_text(\"Frequency of Reviews per Age\")"
   ]
  },
  {
   "cell_type": "code",
   "execution_count": 20,
   "metadata": {
    "ExecuteTime": {
     "end_time": "2020-05-02T13:51:45.551062Z",
     "start_time": "2020-05-02T13:51:44.928990Z"
    }
   },
   "outputs": [
    {
     "data": {
      "text/plain": [
       "<matplotlib.axes._subplots.AxesSubplot at 0x16baccbf408>"
      ]
     },
     "execution_count": 20,
     "metadata": {},
     "output_type": "execute_result"
    },
    {
     "data": {
      "image/png": "[encoded data removed]",
      "text/plain": [
       "<Figure size 216x216 with 2 Axes>"
      ]
     },
     "metadata": {},
     "output_type": "display_data"
    }
   ],
   "source": [
    "corr=df_ct.corr()\n",
    "fix,ax =plt.subplots(figsize=(3,3))\n",
    "sns.heatmap(corr,annot=True)"
   ]
  },
  {
   "cell_type": "markdown",
   "metadata": {},
   "source": [
    "#### Adding the Word Counts \n",
    "<br></br> \n",
    "Ajouter le nombre de mots au datset est une très bonne pratique , nous pourrons les utiliser pour accéder à des informations utiles ultérieurement ( pas dans ce TP )."
   ]
  },
  {
   "cell_type": "code",
   "execution_count": 21,
   "metadata": {
    "ExecuteTime": {
     "end_time": "2020-05-02T13:52:07.916711Z",
     "start_time": "2020-05-02T13:51:45.554501Z"
    }
   },
   "outputs": [
    {
     "data": {
      "text/html": [
       "<div>\n",
       "<style scoped>\n",
       "    .dataframe tbody tr th:only-of-type {\n",
       "        vertical-align: middle;\n",
       "    }\n",
       "\n",
       "    .dataframe tbody tr th {\n",
       "        vertical-align: top;\n",
       "    }\n",
       "\n",
       "    .dataframe thead th {\n",
       "        text-align: right;\n",
       "    }\n",
       "</style>\n",
       "<table border=\"1\" class=\"dataframe\">\n",
       "  <thead>\n",
       "    <tr style=\"text-align: right;\">\n",
       "      <th></th>\n",
       "      <th>Review Text</th>\n",
       "      <th>Rating</th>\n",
       "      <th>Class Name</th>\n",
       "      <th>Age</th>\n",
       "      <th>Word Counts</th>\n",
       "    </tr>\n",
       "  </thead>\n",
       "  <tbody>\n",
       "    <tr>\n",
       "      <th>0</th>\n",
       "      <td>Absolutely wonderful - silky and sexy and comf...</td>\n",
       "      <td>4</td>\n",
       "      <td>Intimates</td>\n",
       "      <td>33</td>\n",
       "      <td>{'absolutely': 1, 'and': 2, 'comfortable': 1, ...</td>\n",
       "    </tr>\n",
       "    <tr>\n",
       "      <th>1</th>\n",
       "      <td>Love this dress!  it's sooo pretty.  i happene...</td>\n",
       "      <td>5</td>\n",
       "      <td>Dresses</td>\n",
       "      <td>34</td>\n",
       "      <td>{'am': 1, 'and': 2, 'bc': 2, 'be': 1, 'below':...</td>\n",
       "    </tr>\n",
       "    <tr>\n",
       "      <th>2</th>\n",
       "      <td>I had such high hopes for this dress and reall...</td>\n",
       "      <td>3</td>\n",
       "      <td>Dresses</td>\n",
       "      <td>60</td>\n",
       "      <td>{'and': 3, 'be': 1, 'bottom': 1, 'but': 2, 'ch...</td>\n",
       "    </tr>\n",
       "    <tr>\n",
       "      <th>3</th>\n",
       "      <td>I love, love, love this jumpsuit. it's fun, fl...</td>\n",
       "      <td>5</td>\n",
       "      <td>Pants</td>\n",
       "      <td>50</td>\n",
       "      <td>{'and': 1, 'but': 1, 'compliments': 1, 'every'...</td>\n",
       "    </tr>\n",
       "    <tr>\n",
       "      <th>4</th>\n",
       "      <td>This shirt is very flattering to all due to th...</td>\n",
       "      <td>5</td>\n",
       "      <td>Blouses</td>\n",
       "      <td>47</td>\n",
       "      <td>{'adjustable': 1, 'all': 1, 'and': 1, 'any': 1...</td>\n",
       "    </tr>\n",
       "  </tbody>\n",
       "</table>\n",
       "</div>"
      ],
      "text/plain": [
       "                                         Review Text  Rating Class Name  Age  \\\n",
       "0  Absolutely wonderful - silky and sexy and comf...       4  Intimates   33   \n",
       "1  Love this dress!  it's sooo pretty.  i happene...       5    Dresses   34   \n",
       "2  I had such high hopes for this dress and reall...       3    Dresses   60   \n",
       "3  I love, love, love this jumpsuit. it's fun, fl...       5      Pants   50   \n",
       "4  This shirt is very flattering to all due to th...       5    Blouses   47   \n",
       "\n",
       "                                         Word Counts  \n",
       "0  {'absolutely': 1, 'and': 2, 'comfortable': 1, ...  \n",
       "1  {'am': 1, 'and': 2, 'bc': 2, 'be': 1, 'below':...  \n",
       "2  {'and': 3, 'be': 1, 'bottom': 1, 'but': 2, 'ch...  \n",
       "3  {'and': 1, 'but': 1, 'compliments': 1, 'every'...  \n",
       "4  {'adjustable': 1, 'all': 1, 'and': 1, 'any': 1...  "
      ]
     },
     "execution_count": 21,
     "metadata": {},
     "output_type": "execute_result"
    }
   ],
   "source": [
    "# CountVectorizer() : converting  a collection of text documents to a matrix of token counts\n",
    "vectorizer = CountVectorizer()\n",
    "# assigning a shorter name for the analyze which tokenizes the string\n",
    "analyzer = vectorizer.build_analyzer()\n",
    "\n",
    "def wordcounts(s):\n",
    "    c = {}\n",
    "    # tokenize the string and continue, if it is not empty\n",
    "    if analyzer(s):\n",
    "        d = {}\n",
    "        # find counts of the vocabularies and transform to array \n",
    "        w = vectorizer.fit_transform([s]).toarray()\n",
    "        # vocabulary and index (index of w)\n",
    "        vc = vectorizer.vocabulary_\n",
    "        # items() transforms the dictionary's (word, index) tuple pairs\n",
    "        for k,v in vc.items():\n",
    "            d[v]=k # d -> index:word \n",
    "        for index,i in enumerate(w[0]):\n",
    "            c[d[index]] = i # c -> word:count\n",
    "    return  c\n",
    "\n",
    "# adding new column to the dataframe\n",
    "df_ct['Word Counts'] = df_ct['Review Text'].apply(wordcounts)\n",
    "df_ct.head(5)\n"
   ]
  },
  {
   "cell_type": "markdown",
   "metadata": {},
   "source": [
    "#### Demonstrating words Densities "
   ]
  },
  {
   "cell_type": "code",
   "execution_count": 22,
   "metadata": {
    "ExecuteTime": {
     "end_time": "2020-05-02T13:52:18.821714Z",
     "start_time": "2020-05-02T13:52:07.921708Z"
    }
   },
   "outputs": [
    {
     "data": {
      "image/png": "[encoded data removed]",
      "text/plain": [
       "<Figure size 1296x432 with 1 Axes>"
      ]
     },
     "metadata": {},
     "output_type": "display_data"
    }
   ],
   "source": [
    "rvw = df_ct['Review Text']\n",
    "plt.subplots(figsize=(18,6))\n",
    "wordcloud = WordCloud(background_color='white',\n",
    "                      width=900,\n",
    "                      height=300\n",
    "                     ).generate(\" \".join(rvw))\n",
    "plt.imshow(wordcloud)\n",
    "plt.title('All Words in the Reviews\\n',size=25)\n",
    "plt.axis('off')\n",
    "plt.show()"
   ]
  },
  {
   "cell_type": "markdown",
   "metadata": {},
   "source": [
    "#### Building a Sentiment Classifier\n",
    "<br></br>\n",
    "Comme nous n'avons pas de colonne qui montre le sentiment : positif ou négatif , j'ai défini une nouvelle colonne de sentiment. Pour ce faire, j'ai supposé que les avis qui avaient une note de 4 ou plus étaient positifs et 2 ou moins étaient négatifs . De plus, je n'ai pas inclus les lignes dont les notes neutres sont égales à 3. "
   ]
  },
  {
   "cell_type": "code",
   "execution_count": 23,
   "metadata": {
    "ExecuteTime": {
     "end_time": "2020-05-02T13:52:18.886202Z",
     "start_time": "2020-05-02T13:52:18.830922Z"
    }
   },
   "outputs": [
    {
     "name": "stderr",
     "output_type": "stream",
     "text": [
      "C:\\Anaconda\\lib\\site-packages\\ipykernel_launcher.py:5: SettingWithCopyWarning: \n",
      "A value is trying to be set on a copy of a slice from a DataFrame.\n",
      "Try using .loc[row_indexer,col_indexer] = value instead\n",
      "\n",
      "See the caveats in the documentation: https://pandas.pydata.org/pandas-docs/stable/user_guide/indexing.html#returning-a-view-versus-a-copy\n",
      "  \"\"\"\n"
     ]
    },
    {
     "data": {
      "text/html": [
       "<div>\n",
       "<style scoped>\n",
       "    .dataframe tbody tr th:only-of-type {\n",
       "        vertical-align: middle;\n",
       "    }\n",
       "\n",
       "    .dataframe tbody tr th {\n",
       "        vertical-align: top;\n",
       "    }\n",
       "\n",
       "    .dataframe thead th {\n",
       "        text-align: right;\n",
       "    }\n",
       "</style>\n",
       "<table border=\"1\" class=\"dataframe\">\n",
       "  <thead>\n",
       "    <tr style=\"text-align: right;\">\n",
       "      <th></th>\n",
       "      <th>Review Text</th>\n",
       "      <th>Rating</th>\n",
       "      <th>Class Name</th>\n",
       "      <th>Age</th>\n",
       "      <th>Word Counts</th>\n",
       "      <th>Sentiment</th>\n",
       "    </tr>\n",
       "  </thead>\n",
       "  <tbody>\n",
       "    <tr>\n",
       "      <th>0</th>\n",
       "      <td>Absolutely wonderful - silky and sexy and comf...</td>\n",
       "      <td>4</td>\n",
       "      <td>Intimates</td>\n",
       "      <td>33</td>\n",
       "      <td>{'absolutely': 1, 'and': 2, 'comfortable': 1, ...</td>\n",
       "      <td>True</td>\n",
       "    </tr>\n",
       "    <tr>\n",
       "      <th>1</th>\n",
       "      <td>Love this dress!  it's sooo pretty.  i happene...</td>\n",
       "      <td>5</td>\n",
       "      <td>Dresses</td>\n",
       "      <td>34</td>\n",
       "      <td>{'am': 1, 'and': 2, 'bc': 2, 'be': 1, 'below':...</td>\n",
       "      <td>True</td>\n",
       "    </tr>\n",
       "    <tr>\n",
       "      <th>3</th>\n",
       "      <td>I love, love, love this jumpsuit. it's fun, fl...</td>\n",
       "      <td>5</td>\n",
       "      <td>Pants</td>\n",
       "      <td>50</td>\n",
       "      <td>{'and': 1, 'but': 1, 'compliments': 1, 'every'...</td>\n",
       "      <td>True</td>\n",
       "    </tr>\n",
       "    <tr>\n",
       "      <th>4</th>\n",
       "      <td>This shirt is very flattering to all due to th...</td>\n",
       "      <td>5</td>\n",
       "      <td>Blouses</td>\n",
       "      <td>47</td>\n",
       "      <td>{'adjustable': 1, 'all': 1, 'and': 1, 'any': 1...</td>\n",
       "      <td>True</td>\n",
       "    </tr>\n",
       "    <tr>\n",
       "      <th>5</th>\n",
       "      <td>I love tracy reese dresses, but this one is no...</td>\n",
       "      <td>2</td>\n",
       "      <td>Dresses</td>\n",
       "      <td>49</td>\n",
       "      <td>{'0p': 1, 'alterations': 1, 'am': 1, 'and': 4,...</td>\n",
       "      <td>False</td>\n",
       "    </tr>\n",
       "  </tbody>\n",
       "</table>\n",
       "</div>"
      ],
      "text/plain": [
       "                                         Review Text  Rating Class Name  Age  \\\n",
       "0  Absolutely wonderful - silky and sexy and comf...       4  Intimates   33   \n",
       "1  Love this dress!  it's sooo pretty.  i happene...       5    Dresses   34   \n",
       "3  I love, love, love this jumpsuit. it's fun, fl...       5      Pants   50   \n",
       "4  This shirt is very flattering to all due to th...       5    Blouses   47   \n",
       "5  I love tracy reese dresses, but this one is no...       2    Dresses   49   \n",
       "\n",
       "                                         Word Counts  Sentiment  \n",
       "0  {'absolutely': 1, 'and': 2, 'comfortable': 1, ...       True  \n",
       "1  {'am': 1, 'and': 2, 'bc': 2, 'be': 1, 'below':...       True  \n",
       "3  {'and': 1, 'but': 1, 'compliments': 1, 'every'...       True  \n",
       "4  {'adjustable': 1, 'all': 1, 'and': 1, 'any': 1...       True  \n",
       "5  {'0p': 1, 'alterations': 1, 'am': 1, 'and': 4,...      False  "
      ]
     },
     "execution_count": 23,
     "metadata": {},
     "output_type": "execute_result"
    }
   ],
   "source": [
    "# Rating of 4 or higher -> positive\n",
    "# Rating of 2 or lower -> negative \n",
    "# Rating of 3 -> neutral (not taken into account)\n",
    "df_ct_new = df_ct[df_ct['Rating'] != 3]\n",
    "df_ct_new['Sentiment'] = df_ct_new['Rating'] >=4\n",
    "df_ct_new.head()"
   ]
  },
  {
   "cell_type": "markdown",
   "metadata": {},
   "source": [
    "## Creating Model"
   ]
  },
  {
   "cell_type": "markdown",
   "metadata": {},
   "source": [
    "### Splitting Data"
   ]
  },
  {
   "cell_type": "code",
   "execution_count": 24,
   "metadata": {
    "ExecuteTime": {
     "end_time": "2020-05-02T13:52:21.240776Z",
     "start_time": "2020-05-02T13:52:18.888199Z"
    }
   },
   "outputs": [],
   "source": [
    "# split data\n",
    "train_data,test_data = train_test_split(df_ct_new,train_size=0.8,random_state=42)\n",
    "# select the columns and prepare data for the models \n",
    "X_train = vectorizer.fit_transform(train_data['Review Text'])\n",
    "y_train = train_data['Sentiment']\n",
    "X_test = vectorizer.transform(test_data['Review Text'])\n",
    "y_test = test_data['Sentiment']"
   ]
  },
  {
   "cell_type": "markdown",
   "metadata": {},
   "source": [
    "### Fitting Model"
   ]
  },
  {
   "cell_type": "code",
   "execution_count": 25,
   "metadata": {
    "ExecuteTime": {
     "end_time": "2020-05-02T13:52:21.309477Z",
     "start_time": "2020-05-02T13:52:21.243617Z"
    }
   },
   "outputs": [
    {
     "data": {
      "text/plain": [
       "MultinomialNB(alpha=1.0, class_prior=None, fit_prior=True)"
      ]
     },
     "execution_count": 25,
     "metadata": {},
     "output_type": "execute_result"
    }
   ],
   "source": [
    "# use Naive Bayes Algorithm \n",
    "naive_bayes = MultinomialNB()\n",
    "naive_bayes.fit(X_train,y_train)"
   ]
  },
  {
   "cell_type": "markdown",
   "metadata": {},
   "source": [
    "## Testing & Evaluating Model"
   ]
  },
  {
   "cell_type": "markdown",
   "metadata": {},
   "source": [
    "### Adding Results to the Dataframe"
   ]
  },
  {
   "cell_type": "code",
   "execution_count": 26,
   "metadata": {
    "ExecuteTime": {
     "end_time": "2020-05-02T13:52:21.338803Z",
     "start_time": "2020-05-02T13:52:21.312550Z"
    }
   },
   "outputs": [],
   "source": [
    "df_nb = train_data.copy()\n",
    "df_nb['Naive Bayes'] = naive_bayes.predict(X_train)\n"
   ]
  },
  {
   "cell_type": "code",
   "execution_count": 27,
   "metadata": {
    "ExecuteTime": {
     "end_time": "2020-05-02T13:52:21.397629Z",
     "start_time": "2020-05-02T13:52:21.342001Z"
    }
   },
   "outputs": [
    {
     "data": {
      "text/html": [
       "<div>\n",
       "<style scoped>\n",
       "    .dataframe tbody tr th:only-of-type {\n",
       "        vertical-align: middle;\n",
       "    }\n",
       "\n",
       "    .dataframe tbody tr th {\n",
       "        vertical-align: top;\n",
       "    }\n",
       "\n",
       "    .dataframe thead th {\n",
       "        text-align: right;\n",
       "    }\n",
       "</style>\n",
       "<table border=\"1\" class=\"dataframe\">\n",
       "  <thead>\n",
       "    <tr style=\"text-align: right;\">\n",
       "      <th></th>\n",
       "      <th>Review Text</th>\n",
       "      <th>Rating</th>\n",
       "      <th>Class Name</th>\n",
       "      <th>Age</th>\n",
       "      <th>Word Counts</th>\n",
       "      <th>Sentiment</th>\n",
       "      <th>Naive Bayes</th>\n",
       "    </tr>\n",
       "  </thead>\n",
       "  <tbody>\n",
       "    <tr>\n",
       "      <th>6162</th>\n",
       "      <td>This tank top is comfortable and very cute. it...</td>\n",
       "      <td>5</td>\n",
       "      <td>Knits</td>\n",
       "      <td>51</td>\n",
       "      <td>{'and': 1, 'another': 1, 'as': 1, 'bonus': 1, ...</td>\n",
       "      <td>True</td>\n",
       "      <td>True</td>\n",
       "    </tr>\n",
       "    <tr>\n",
       "      <th>3299</th>\n",
       "      <td>I wanted this dress so much, i ordered it twic...</td>\n",
       "      <td>1</td>\n",
       "      <td>Dresses</td>\n",
       "      <td>49</td>\n",
       "      <td>{'about': 1, 'an': 1, 'and': 2, 'area': 1, 'as...</td>\n",
       "      <td>False</td>\n",
       "      <td>False</td>\n",
       "    </tr>\n",
       "    <tr>\n",
       "      <th>12774</th>\n",
       "      <td>Nice quality, but enough material for two sets...</td>\n",
       "      <td>4</td>\n",
       "      <td>Legwear</td>\n",
       "      <td>42</td>\n",
       "      <td>{'at': 1, 'bottom': 1, 'but': 1, 'can': 1, 'di...</td>\n",
       "      <td>True</td>\n",
       "      <td>True</td>\n",
       "    </tr>\n",
       "    <tr>\n",
       "      <th>3459</th>\n",
       "      <td>This coat is a beauty. the embroidery is much ...</td>\n",
       "      <td>5</td>\n",
       "      <td>Sweaters</td>\n",
       "      <td>35</td>\n",
       "      <td>{'all': 3, 'am': 2, 'and': 3, 'as': 1, 'at': 1...</td>\n",
       "      <td>True</td>\n",
       "      <td>True</td>\n",
       "    </tr>\n",
       "    <tr>\n",
       "      <th>13689</th>\n",
       "      <td>This is going to be a favorite. the fabric is ...</td>\n",
       "      <td>5</td>\n",
       "      <td>Blouses</td>\n",
       "      <td>60</td>\n",
       "      <td>{'always': 1, 'am': 1, 'and': 1, 'are': 1, 'be...</td>\n",
       "      <td>True</td>\n",
       "      <td>True</td>\n",
       "    </tr>\n",
       "    <tr>\n",
       "      <th>17934</th>\n",
       "      <td>I loved the fit and vibrant color of this dres...</td>\n",
       "      <td>1</td>\n",
       "      <td>Dresses</td>\n",
       "      <td>31</td>\n",
       "      <td>{'100': 1, 'and': 5, 'as': 1, 'boo': 1, 'but':...</td>\n",
       "      <td>False</td>\n",
       "      <td>False</td>\n",
       "    </tr>\n",
       "    <tr>\n",
       "      <th>17714</th>\n",
       "      <td>I love this tee, the fabric is very comfortabl...</td>\n",
       "      <td>5</td>\n",
       "      <td>Knits</td>\n",
       "      <td>48</td>\n",
       "      <td>{'and': 1, 'comfortable': 1, 'deep': 1, 'fabri...</td>\n",
       "      <td>True</td>\n",
       "      <td>True</td>\n",
       "    </tr>\n",
       "    <tr>\n",
       "      <th>11160</th>\n",
       "      <td>This is much prettier online than on me. too m...</td>\n",
       "      <td>2</td>\n",
       "      <td>Dresses</td>\n",
       "      <td>62</td>\n",
       "      <td>{'down': 1, 'dress': 1, 'even': 1, 'is': 1, 'm...</td>\n",
       "      <td>False</td>\n",
       "      <td>True</td>\n",
       "    </tr>\n",
       "    <tr>\n",
       "      <th>15794</th>\n",
       "      <td>I love the photo of this and because the revie...</td>\n",
       "      <td>1</td>\n",
       "      <td>Jackets</td>\n",
       "      <td>67</td>\n",
       "      <td>{'all': 2, 'and': 2, 'arm': 1, 'at': 2, 'becau...</td>\n",
       "      <td>False</td>\n",
       "      <td>False</td>\n",
       "    </tr>\n",
       "    <tr>\n",
       "      <th>18457</th>\n",
       "      <td>This is a unique take on a denim shirt! i have...</td>\n",
       "      <td>5</td>\n",
       "      <td>Blouses</td>\n",
       "      <td>26</td>\n",
       "      <td>{'about': 1, 'but': 1, 'denim': 2, 'five': 1, ...</td>\n",
       "      <td>True</td>\n",
       "      <td>True</td>\n",
       "    </tr>\n",
       "  </tbody>\n",
       "</table>\n",
       "</div>"
      ],
      "text/plain": [
       "                                             Review Text  Rating Class Name  \\\n",
       "6162   This tank top is comfortable and very cute. it...       5      Knits   \n",
       "3299   I wanted this dress so much, i ordered it twic...       1    Dresses   \n",
       "12774  Nice quality, but enough material for two sets...       4    Legwear   \n",
       "3459   This coat is a beauty. the embroidery is much ...       5   Sweaters   \n",
       "13689  This is going to be a favorite. the fabric is ...       5    Blouses   \n",
       "17934  I loved the fit and vibrant color of this dres...       1    Dresses   \n",
       "17714  I love this tee, the fabric is very comfortabl...       5      Knits   \n",
       "11160  This is much prettier online than on me. too m...       2    Dresses   \n",
       "15794  I love the photo of this and because the revie...       1    Jackets   \n",
       "18457  This is a unique take on a denim shirt! i have...       5    Blouses   \n",
       "\n",
       "       Age                                        Word Counts  Sentiment  \\\n",
       "6162    51  {'and': 1, 'another': 1, 'as': 1, 'bonus': 1, ...       True   \n",
       "3299    49  {'about': 1, 'an': 1, 'and': 2, 'area': 1, 'as...      False   \n",
       "12774   42  {'at': 1, 'bottom': 1, 'but': 1, 'can': 1, 'di...       True   \n",
       "3459    35  {'all': 3, 'am': 2, 'and': 3, 'as': 1, 'at': 1...       True   \n",
       "13689   60  {'always': 1, 'am': 1, 'and': 1, 'are': 1, 'be...       True   \n",
       "17934   31  {'100': 1, 'and': 5, 'as': 1, 'boo': 1, 'but':...      False   \n",
       "17714   48  {'and': 1, 'comfortable': 1, 'deep': 1, 'fabri...       True   \n",
       "11160   62  {'down': 1, 'dress': 1, 'even': 1, 'is': 1, 'm...      False   \n",
       "15794   67  {'all': 2, 'and': 2, 'arm': 1, 'at': 2, 'becau...      False   \n",
       "18457   26  {'about': 1, 'but': 1, 'denim': 2, 'five': 1, ...       True   \n",
       "\n",
       "       Naive Bayes  \n",
       "6162          True  \n",
       "3299         False  \n",
       "12774         True  \n",
       "3459          True  \n",
       "13689         True  \n",
       "17934        False  \n",
       "17714         True  \n",
       "11160         True  \n",
       "15794        False  \n",
       "18457         True  "
      ]
     },
     "execution_count": 27,
     "metadata": {},
     "output_type": "execute_result"
    }
   ],
   "source": [
    "df_nb.sample(10)"
   ]
  },
  {
   "cell_type": "markdown",
   "metadata": {},
   "source": [
    "### Confusion Matrice"
   ]
  },
  {
   "cell_type": "markdown",
   "metadata": {},
   "source": [
    "Une matrice de confusion fournit un résumé  des résultats prédictifs d'un problème de classification. Les prédictions correctes et incorrectes sont résumées dans un tableau avec leurs valeurs et classifiées par classe.\n"
   ]
  },
  {
   "cell_type": "code",
   "execution_count": 28,
   "metadata": {
    "ExecuteTime": {
     "end_time": "2020-05-02T13:52:21.422781Z",
     "start_time": "2020-05-02T13:52:21.403084Z"
    }
   },
   "outputs": [],
   "source": [
    "naive_bayes_cm=confusion_matrix(y_test.values, naive_bayes.predict(X_test))"
   ]
  },
  {
   "cell_type": "code",
   "execution_count": 29,
   "metadata": {
    "ExecuteTime": {
     "end_time": "2020-05-02T13:52:21.647993Z",
     "start_time": "2020-05-02T13:52:21.423780Z"
    }
   },
   "outputs": [
    {
     "data": {
      "image/png": "[encoded data removed]",
      "text/plain": [
       "<Figure size 360x360 with 1 Axes>"
      ]
     },
     "metadata": {},
     "output_type": "display_data"
    }
   ],
   "source": [
    "sns.set(rc={'figure.figsize':(5,5)})\n",
    "p=sns.heatmap(naive_bayes_cm, annot = True, cmap=\"Reds\",cbar=False)\n",
    "p.axes.xaxis.label.set_text(\"Confusion matrice\")"
   ]
  },
  {
   "cell_type": "markdown",
   "metadata": {},
   "source": [
    "**Interprétation** :\n",
    "\n",
    "**On remarque** que test data est accés beacoup plus sur les commentaires positifs (C'est logique ) \n",
    "\n",
    "*Vrai positif*: 320 résultats sont prédit négatif et c'est vrai.\n",
    "\n",
    "*Vrai négatif*: 3400 résultats sont prédit positif et c'est vrai. \n",
    "\n",
    "*Faux positif*(erreur de type 1): 95 résultats sont prédit négatif et c'est faux.\n",
    "\n",
    "*Faux négatif* (erreur de type 2): 160 résultats sont prédit  positif et c'est faux. \n",
    " \n",
    "**-Une perte de 50 % (160/320) des résultats négatives**\n",
    "\n",
    "**-Une bonne prédiction pour les avis positifs** \n"
   ]
  },
  {
   "cell_type": "markdown",
   "metadata": {},
   "source": [
    "Comme on peut interpreter les prédiction avec **Crosstab** ayant le meme principe que la matrice de confusion !!!"
   ]
  },
  {
   "cell_type": "code",
   "execution_count": 30,
   "metadata": {
    "ExecuteTime": {
     "end_time": "2020-05-02T13:52:21.801794Z",
     "start_time": "2020-05-02T13:52:21.653858Z"
    }
   },
   "outputs": [
    {
     "data": {
      "text/html": [
       "<div>\n",
       "<style scoped>\n",
       "    .dataframe tbody tr th:only-of-type {\n",
       "        vertical-align: middle;\n",
       "    }\n",
       "\n",
       "    .dataframe tbody tr th {\n",
       "        vertical-align: top;\n",
       "    }\n",
       "\n",
       "    .dataframe thead th {\n",
       "        text-align: right;\n",
       "    }\n",
       "</style>\n",
       "<table border=\"1\" class=\"dataframe\">\n",
       "  <thead>\n",
       "    <tr style=\"text-align: right;\">\n",
       "      <th>Predicted Situation</th>\n",
       "      <th>False</th>\n",
       "      <th>True</th>\n",
       "      <th>All</th>\n",
       "    </tr>\n",
       "    <tr>\n",
       "      <th>True Situation</th>\n",
       "      <th></th>\n",
       "      <th></th>\n",
       "      <th></th>\n",
       "    </tr>\n",
       "  </thead>\n",
       "  <tbody>\n",
       "    <tr>\n",
       "      <th>False</th>\n",
       "      <td>321</td>\n",
       "      <td>165</td>\n",
       "      <td>486</td>\n",
       "    </tr>\n",
       "    <tr>\n",
       "      <th>True</th>\n",
       "      <td>95</td>\n",
       "      <td>3380</td>\n",
       "      <td>3475</td>\n",
       "    </tr>\n",
       "    <tr>\n",
       "      <th>All</th>\n",
       "      <td>416</td>\n",
       "      <td>3545</td>\n",
       "      <td>3961</td>\n",
       "    </tr>\n",
       "  </tbody>\n",
       "</table>\n",
       "</div>"
      ],
      "text/plain": [
       "Predicted Situation   False  True   All\n",
       "True Situation                         \n",
       "False                   321   165   486\n",
       "True                     95  3380  3475\n",
       "All                     416  3545  3961"
      ]
     },
     "execution_count": 30,
     "metadata": {},
     "output_type": "execute_result"
    }
   ],
   "source": [
    "pd.crosstab(y_test.values, naive_bayes.predict(X_test), rownames=['True Situation '], colnames=['Predicted Situation '], margins=True)"
   ]
  },
  {
   "cell_type": "markdown",
   "metadata": {},
   "source": [
    "### Accuracy Score"
   ]
  },
  {
   "cell_type": "code",
   "execution_count": 31,
   "metadata": {
    "ExecuteTime": {
     "end_time": "2020-05-02T13:52:21.832532Z",
     "start_time": "2020-05-02T13:52:21.803791Z"
    }
   },
   "outputs": [
    {
     "name": "stdout",
     "output_type": "stream",
     "text": [
      "0.93436001009846\n"
     ]
    }
   ],
   "source": [
    "print(accuracy_score(y_test, naive_bayes.predict(X_test)))"
   ]
  },
  {
   "cell_type": "markdown",
   "metadata": {},
   "source": [
    "**On a Accuracy Score= 93% , ce qui signifie que la prédiction de 1 par 10 avis est incorrect, et 9 sont corrects !**"
   ]
  },
  {
   "cell_type": "markdown",
   "metadata": {},
   "source": [
    "### Classification Report "
   ]
  },
  {
   "cell_type": "markdown",
   "metadata": {},
   "source": [
    "Un rapport de classification est utilisé pour mesurer la qualité des prédictions ."
   ]
  },
  {
   "cell_type": "code",
   "execution_count": 32,
   "metadata": {
    "ExecuteTime": {
     "end_time": "2020-05-02T13:52:21.880828Z",
     "start_time": "2020-05-02T13:52:21.838890Z"
    }
   },
   "outputs": [
    {
     "name": "stdout",
     "output_type": "stream",
     "text": [
      "              precision    recall  f1-score   support\n",
      "\n",
      "       False       0.77      0.66      0.71       486\n",
      "        True       0.95      0.97      0.96      3475\n",
      "\n",
      "    accuracy                           0.93      3961\n",
      "   macro avg       0.86      0.82      0.84      3961\n",
      "weighted avg       0.93      0.93      0.93      3961\n",
      "\n"
     ]
    }
   ],
   "source": [
    "print(classification_report(y_test, naive_bayes.predict(X_test)))"
   ]
  },
  {
   "cell_type": "markdown",
   "metadata": {},
   "source": [
    "**On remarque** que le recall et la précision  des avis positifs est parfaite , tandis que :\n",
    "\n",
    "- Le Recall de 'False' est inférieur a 70 % (66%) , ce qui signifie que le model ne prédit pas parfaitement les avis négatifs (Le Combien ?)  .Autrement dit , il signifie que 4 avis sur 10  sont manqués par le  modèle et 6 sont correctement identifiés .\n",
    "- La précision de 'False' est tolérable ( 77% > 70 % ) .\n",
    "\n",
    "*Pour ne pas oublier : Precision:  When it predicts yes, how often is it correct?.. Recall ( Recall = True Positive Rate ): When it's actually yes, how often does it predict yes?*"
   ]
  },
  {
   "cell_type": "markdown",
   "metadata": {},
   "source": [
    "# Partie 02 : Prédiction de la classification des documents "
   ]
  },
  {
   "cell_type": "markdown",
   "metadata": {},
   "source": [
    "Il existe de nombreuses applications de la classification de texte dans le monde commercial. Par exemple, comme on a vu dans la partie précédente avec l'analyse des sentiments .\n",
    "Dans la plupart des cas, nos problèmes du monde réel sont beaucoup plus compliqués que cela avec la classification binaire. Et  c'est ce que nous allons faire dans cette partie .\n",
    "\n",
    "\n",
    "**Objectif : Utiliser Naïve Bayes Classification pour classer les plaintes en matière de financement des consommateurs en 9 classes prédéfinies a partir « Consumer Complaint Database » , téléchargeable via : https://catalog.data.gov/dataset/consumer-complaint-database .**\n",
    "\n",
    "PS: une réduction de dataset a été faite pour des raisons techniques liées à la machine ( Garder que 30 000 lignes non null ) \n",
    "\n"
   ]
  },
  {
   "cell_type": "markdown",
   "metadata": {},
   "source": [
    "## Getting Data"
   ]
  },
  {
   "cell_type": "code",
   "execution_count": 33,
   "metadata": {
    "ExecuteTime": {
     "end_time": "2020-05-02T13:52:23.624150Z",
     "start_time": "2020-05-02T13:52:21.887169Z"
    }
   },
   "outputs": [],
   "source": [
    "df_cd = pd.read_csv('complaints.csv')"
   ]
  },
  {
   "cell_type": "code",
   "execution_count": 34,
   "metadata": {
    "ExecuteTime": {
     "end_time": "2020-05-02T13:52:23.639192Z",
     "start_time": "2020-05-02T13:52:23.626280Z"
    }
   },
   "outputs": [
    {
     "data": {
      "text/plain": [
       "(80789, 18)"
      ]
     },
     "execution_count": 34,
     "metadata": {},
     "output_type": "execute_result"
    }
   ],
   "source": [
    "df_cd.shape"
   ]
  },
  {
   "cell_type": "code",
   "execution_count": 35,
   "metadata": {
    "ExecuteTime": {
     "end_time": "2020-05-02T13:52:23.697632Z",
     "start_time": "2020-05-02T13:52:23.639192Z"
    }
   },
   "outputs": [
    {
     "data": {
      "text/html": [
       "<div>\n",
       "<style scoped>\n",
       "    .dataframe tbody tr th:only-of-type {\n",
       "        vertical-align: middle;\n",
       "    }\n",
       "\n",
       "    .dataframe tbody tr th {\n",
       "        vertical-align: top;\n",
       "    }\n",
       "\n",
       "    .dataframe thead th {\n",
       "        text-align: right;\n",
       "    }\n",
       "</style>\n",
       "<table border=\"1\" class=\"dataframe\">\n",
       "  <thead>\n",
       "    <tr style=\"text-align: right;\">\n",
       "      <th></th>\n",
       "      <th>Date received</th>\n",
       "      <th>Product</th>\n",
       "      <th>Sub-product</th>\n",
       "      <th>Issue</th>\n",
       "      <th>Sub-issue</th>\n",
       "      <th>Consumer complaint narrative</th>\n",
       "      <th>Company public response</th>\n",
       "      <th>Company</th>\n",
       "      <th>State</th>\n",
       "      <th>ZIP code</th>\n",
       "      <th>Tags</th>\n",
       "      <th>Consumer consent provided?</th>\n",
       "      <th>Submitted via</th>\n",
       "      <th>Date sent to company</th>\n",
       "      <th>Company response to consumer</th>\n",
       "      <th>Timely response?</th>\n",
       "      <th>Consumer disputed?</th>\n",
       "      <th>Complaint ID</th>\n",
       "    </tr>\n",
       "  </thead>\n",
       "  <tbody>\n",
       "    <tr>\n",
       "      <th>0</th>\n",
       "      <td>24/09/2019</td>\n",
       "      <td>Debt collection</td>\n",
       "      <td>I do not know</td>\n",
       "      <td>Attempts to collect debt not owed</td>\n",
       "      <td>Debt is not yours</td>\n",
       "      <td>transworld systems inc. \\nis trying to collect...</td>\n",
       "      <td>NaN</td>\n",
       "      <td>TRANSWORLD SYSTEMS INC</td>\n",
       "      <td>FL</td>\n",
       "      <td>335XX</td>\n",
       "      <td>NaN</td>\n",
       "      <td>Consent provided</td>\n",
       "      <td>Web</td>\n",
       "      <td>24/09/2019</td>\n",
       "      <td>Closed with explanation</td>\n",
       "      <td>Yes</td>\n",
       "      <td>NaN</td>\n",
       "      <td>3384392</td>\n",
       "    </tr>\n",
       "    <tr>\n",
       "      <th>1</th>\n",
       "      <td>19/09/2019</td>\n",
       "      <td>Credit reporting, credit repair services, or o...</td>\n",
       "      <td>Credit reporting</td>\n",
       "      <td>Incorrect information on your report</td>\n",
       "      <td>Information belongs to someone else</td>\n",
       "      <td>NaN</td>\n",
       "      <td>Company has responded to the consumer and the ...</td>\n",
       "      <td>Experian Information Solutions Inc.</td>\n",
       "      <td>PA</td>\n",
       "      <td>15206</td>\n",
       "      <td>NaN</td>\n",
       "      <td>Consent not provided</td>\n",
       "      <td>Web</td>\n",
       "      <td>20/09/2019</td>\n",
       "      <td>Closed with non-monetary relief</td>\n",
       "      <td>Yes</td>\n",
       "      <td>NaN</td>\n",
       "      <td>3379500</td>\n",
       "    </tr>\n",
       "    <tr>\n",
       "      <th>2</th>\n",
       "      <td>25/10/2019</td>\n",
       "      <td>Credit reporting, credit repair services, or o...</td>\n",
       "      <td>Credit reporting</td>\n",
       "      <td>Incorrect information on your report</td>\n",
       "      <td>Information belongs to someone else</td>\n",
       "      <td>I would like to request the suppression of the...</td>\n",
       "      <td>Company has responded to the consumer and the ...</td>\n",
       "      <td>TRANSUNION INTERMEDIATE HOLDINGS, INC.</td>\n",
       "      <td>CA</td>\n",
       "      <td>937XX</td>\n",
       "      <td>NaN</td>\n",
       "      <td>Consent provided</td>\n",
       "      <td>Web</td>\n",
       "      <td>25/10/2019</td>\n",
       "      <td>Closed with explanation</td>\n",
       "      <td>Yes</td>\n",
       "      <td>NaN</td>\n",
       "      <td>3417821</td>\n",
       "    </tr>\n",
       "    <tr>\n",
       "      <th>3</th>\n",
       "      <td>08/11/2019</td>\n",
       "      <td>Debt collection</td>\n",
       "      <td>I do not know</td>\n",
       "      <td>Communication tactics</td>\n",
       "      <td>Frequent or repeated calls</td>\n",
       "      <td>Over the past 2 weeks, I have been receiving e...</td>\n",
       "      <td>NaN</td>\n",
       "      <td>Diversified Consultants, Inc.</td>\n",
       "      <td>NC</td>\n",
       "      <td>275XX</td>\n",
       "      <td>NaN</td>\n",
       "      <td>Consent provided</td>\n",
       "      <td>Web</td>\n",
       "      <td>08/11/2019</td>\n",
       "      <td>Closed with explanation</td>\n",
       "      <td>Yes</td>\n",
       "      <td>NaN</td>\n",
       "      <td>3433198</td>\n",
       "    </tr>\n",
       "    <tr>\n",
       "      <th>4</th>\n",
       "      <td>08/02/2019</td>\n",
       "      <td>Vehicle loan or lease</td>\n",
       "      <td>Lease</td>\n",
       "      <td>Problem with a credit reporting company's inve...</td>\n",
       "      <td>Their investigation did not fix an error on yo...</td>\n",
       "      <td>NaN</td>\n",
       "      <td>NaN</td>\n",
       "      <td>HYUNDAI CAPITAL AMERICA</td>\n",
       "      <td>FL</td>\n",
       "      <td>33161</td>\n",
       "      <td>NaN</td>\n",
       "      <td>Consent not provided</td>\n",
       "      <td>Web</td>\n",
       "      <td>08/02/2019</td>\n",
       "      <td>Closed with non-monetary relief</td>\n",
       "      <td>Yes</td>\n",
       "      <td>NaN</td>\n",
       "      <td>3146310</td>\n",
       "    </tr>\n",
       "  </tbody>\n",
       "</table>\n",
       "</div>"
      ],
      "text/plain": [
       "  Date received                                            Product  \\\n",
       "0    24/09/2019                                    Debt collection   \n",
       "1    19/09/2019  Credit reporting, credit repair services, or o...   \n",
       "2    25/10/2019  Credit reporting, credit repair services, or o...   \n",
       "3    08/11/2019                                    Debt collection   \n",
       "4    08/02/2019                              Vehicle loan or lease   \n",
       "\n",
       "        Sub-product                                              Issue  \\\n",
       "0     I do not know                  Attempts to collect debt not owed   \n",
       "1  Credit reporting               Incorrect information on your report   \n",
       "2  Credit reporting               Incorrect information on your report   \n",
       "3     I do not know                              Communication tactics   \n",
       "4             Lease  Problem with a credit reporting company's inve...   \n",
       "\n",
       "                                           Sub-issue  \\\n",
       "0                                  Debt is not yours   \n",
       "1                Information belongs to someone else   \n",
       "2                Information belongs to someone else   \n",
       "3                         Frequent or repeated calls   \n",
       "4  Their investigation did not fix an error on yo...   \n",
       "\n",
       "                        Consumer complaint narrative  \\\n",
       "0  transworld systems inc. \\nis trying to collect...   \n",
       "1                                                NaN   \n",
       "2  I would like to request the suppression of the...   \n",
       "3  Over the past 2 weeks, I have been receiving e...   \n",
       "4                                                NaN   \n",
       "\n",
       "                             Company public response  \\\n",
       "0                                                NaN   \n",
       "1  Company has responded to the consumer and the ...   \n",
       "2  Company has responded to the consumer and the ...   \n",
       "3                                                NaN   \n",
       "4                                                NaN   \n",
       "\n",
       "                                  Company State ZIP code Tags  \\\n",
       "0                  TRANSWORLD SYSTEMS INC    FL    335XX  NaN   \n",
       "1     Experian Information Solutions Inc.    PA    15206  NaN   \n",
       "2  TRANSUNION INTERMEDIATE HOLDINGS, INC.    CA    937XX  NaN   \n",
       "3           Diversified Consultants, Inc.    NC    275XX  NaN   \n",
       "4                 HYUNDAI CAPITAL AMERICA    FL    33161  NaN   \n",
       "\n",
       "  Consumer consent provided? Submitted via Date sent to company  \\\n",
       "0           Consent provided           Web           24/09/2019   \n",
       "1       Consent not provided           Web           20/09/2019   \n",
       "2           Consent provided           Web           25/10/2019   \n",
       "3           Consent provided           Web           08/11/2019   \n",
       "4       Consent not provided           Web           08/02/2019   \n",
       "\n",
       "      Company response to consumer Timely response? Consumer disputed?  \\\n",
       "0          Closed with explanation              Yes                NaN   \n",
       "1  Closed with non-monetary relief              Yes                NaN   \n",
       "2          Closed with explanation              Yes                NaN   \n",
       "3          Closed with explanation              Yes                NaN   \n",
       "4  Closed with non-monetary relief              Yes                NaN   \n",
       "\n",
       "   Complaint ID  \n",
       "0       3384392  \n",
       "1       3379500  \n",
       "2       3417821  \n",
       "3       3433198  \n",
       "4       3146310  "
      ]
     },
     "execution_count": 35,
     "metadata": {},
     "output_type": "execute_result"
    }
   ],
   "source": [
    "df_cd.head(5)"
   ]
  },
  {
   "cell_type": "code",
   "execution_count": 36,
   "metadata": {
    "ExecuteTime": {
     "end_time": "2020-05-02T13:52:23.713107Z",
     "start_time": "2020-05-02T13:52:23.699626Z"
    }
   },
   "outputs": [
    {
     "data": {
      "text/plain": [
       "Date received                   object\n",
       "Product                         object\n",
       "Sub-product                     object\n",
       "Issue                           object\n",
       "Sub-issue                       object\n",
       "Consumer complaint narrative    object\n",
       "Company public response         object\n",
       "Company                         object\n",
       "State                           object\n",
       "ZIP code                        object\n",
       "Tags                            object\n",
       "Consumer consent provided?      object\n",
       "Submitted via                   object\n",
       "Date sent to company            object\n",
       "Company response to consumer    object\n",
       "Timely response?                object\n",
       "Consumer disputed?              object\n",
       "Complaint ID                     int64\n",
       "dtype: object"
      ]
     },
     "execution_count": 36,
     "metadata": {},
     "output_type": "execute_result"
    }
   ],
   "source": [
    "df_cd.dtypes"
   ]
  },
  {
   "cell_type": "markdown",
   "metadata": {},
   "source": [
    "## Preparing Data"
   ]
  },
  {
   "cell_type": "markdown",
   "metadata": {},
   "source": [
    "### Cleaning Data"
   ]
  },
  {
   "cell_type": "markdown",
   "metadata": {},
   "source": [
    "Dna ce TP , on abesoin que de “Product” et “Consumer complaint narrative”.Pour mieux comprendre l'objectif , voixi un exemple :  \n",
    "- **Input**: Consumer_complaint_narrative\n",
    "\n",
    "Exemple: “ I have outdated information on my credit report that I have previously disputed that has yet to be removed this information is more then seven years old and does not meet credit reporting requirements”\n",
    "\n",
    "- **Output**: product\n"
   ]
  },
  {
   "cell_type": "code",
   "execution_count": 37,
   "metadata": {
    "ExecuteTime": {
     "end_time": "2020-05-02T13:52:23.744849Z",
     "start_time": "2020-05-02T13:52:23.717402Z"
    }
   },
   "outputs": [],
   "source": [
    "col = ['Product', 'Consumer complaint narrative']\n",
    "df = df_cd[col]"
   ]
  },
  {
   "cell_type": "code",
   "execution_count": 38,
   "metadata": {
    "ExecuteTime": {
     "end_time": "2020-05-02T13:52:23.776504Z",
     "start_time": "2020-05-02T13:52:23.749826Z"
    }
   },
   "outputs": [
    {
     "data": {
      "text/html": [
       "<div>\n",
       "<style scoped>\n",
       "    .dataframe tbody tr th:only-of-type {\n",
       "        vertical-align: middle;\n",
       "    }\n",
       "\n",
       "    .dataframe tbody tr th {\n",
       "        vertical-align: top;\n",
       "    }\n",
       "\n",
       "    .dataframe thead th {\n",
       "        text-align: right;\n",
       "    }\n",
       "</style>\n",
       "<table border=\"1\" class=\"dataframe\">\n",
       "  <thead>\n",
       "    <tr style=\"text-align: right;\">\n",
       "      <th></th>\n",
       "      <th>Product</th>\n",
       "      <th>Consumer complaint narrative</th>\n",
       "    </tr>\n",
       "  </thead>\n",
       "  <tbody>\n",
       "    <tr>\n",
       "      <th>0</th>\n",
       "      <td>Debt collection</td>\n",
       "      <td>transworld systems inc. \\nis trying to collect...</td>\n",
       "    </tr>\n",
       "    <tr>\n",
       "      <th>1</th>\n",
       "      <td>Credit reporting, credit repair services, or o...</td>\n",
       "      <td>NaN</td>\n",
       "    </tr>\n",
       "    <tr>\n",
       "      <th>2</th>\n",
       "      <td>Credit reporting, credit repair services, or o...</td>\n",
       "      <td>I would like to request the suppression of the...</td>\n",
       "    </tr>\n",
       "    <tr>\n",
       "      <th>3</th>\n",
       "      <td>Debt collection</td>\n",
       "      <td>Over the past 2 weeks, I have been receiving e...</td>\n",
       "    </tr>\n",
       "    <tr>\n",
       "      <th>4</th>\n",
       "      <td>Vehicle loan or lease</td>\n",
       "      <td>NaN</td>\n",
       "    </tr>\n",
       "    <tr>\n",
       "      <th>5</th>\n",
       "      <td>Debt collection</td>\n",
       "      <td>NaN</td>\n",
       "    </tr>\n",
       "    <tr>\n",
       "      <th>6</th>\n",
       "      <td>Credit reporting, credit repair services, or o...</td>\n",
       "      <td>NaN</td>\n",
       "    </tr>\n",
       "    <tr>\n",
       "      <th>7</th>\n",
       "      <td>Checking or savings account</td>\n",
       "      <td>NaN</td>\n",
       "    </tr>\n",
       "    <tr>\n",
       "      <th>8</th>\n",
       "      <td>Credit reporting, credit repair services, or o...</td>\n",
       "      <td>NaN</td>\n",
       "    </tr>\n",
       "    <tr>\n",
       "      <th>9</th>\n",
       "      <td>Credit reporting, credit repair services, or o...</td>\n",
       "      <td>NaN</td>\n",
       "    </tr>\n",
       "  </tbody>\n",
       "</table>\n",
       "</div>"
      ],
      "text/plain": [
       "                                             Product  \\\n",
       "0                                    Debt collection   \n",
       "1  Credit reporting, credit repair services, or o...   \n",
       "2  Credit reporting, credit repair services, or o...   \n",
       "3                                    Debt collection   \n",
       "4                              Vehicle loan or lease   \n",
       "5                                    Debt collection   \n",
       "6  Credit reporting, credit repair services, or o...   \n",
       "7                        Checking or savings account   \n",
       "8  Credit reporting, credit repair services, or o...   \n",
       "9  Credit reporting, credit repair services, or o...   \n",
       "\n",
       "                        Consumer complaint narrative  \n",
       "0  transworld systems inc. \\nis trying to collect...  \n",
       "1                                                NaN  \n",
       "2  I would like to request the suppression of the...  \n",
       "3  Over the past 2 weeks, I have been receiving e...  \n",
       "4                                                NaN  \n",
       "5                                                NaN  \n",
       "6                                                NaN  \n",
       "7                                                NaN  \n",
       "8                                                NaN  \n",
       "9                                                NaN  "
      ]
     },
     "execution_count": 38,
     "metadata": {},
     "output_type": "execute_result"
    }
   ],
   "source": [
    "df.head(10)"
   ]
  },
  {
   "cell_type": "code",
   "execution_count": 39,
   "metadata": {
    "ExecuteTime": {
     "end_time": "2020-05-02T13:52:23.823627Z",
     "start_time": "2020-05-02T13:52:23.777502Z"
    }
   },
   "outputs": [
    {
     "data": {
      "text/plain": [
       "Product                             0\n",
       "Consumer complaint narrative    45998\n",
       "dtype: int64"
      ]
     },
     "execution_count": 39,
     "metadata": {},
     "output_type": "execute_result"
    }
   ],
   "source": [
    "df.isnull().sum()"
   ]
  },
  {
   "cell_type": "code",
   "execution_count": 40,
   "metadata": {
    "ExecuteTime": {
     "end_time": "2020-05-02T13:52:23.864451Z",
     "start_time": "2020-05-02T13:52:23.823627Z"
    }
   },
   "outputs": [],
   "source": [
    "df=df.dropna()"
   ]
  },
  {
   "cell_type": "code",
   "execution_count": 41,
   "metadata": {
    "ExecuteTime": {
     "end_time": "2020-05-02T13:52:23.891601Z",
     "start_time": "2020-05-02T13:52:23.867338Z"
    }
   },
   "outputs": [
    {
     "data": {
      "text/plain": [
       "(34791, 2)"
      ]
     },
     "execution_count": 41,
     "metadata": {},
     "output_type": "execute_result"
    }
   ],
   "source": [
    "df.shape"
   ]
  },
  {
   "cell_type": "markdown",
   "metadata": {
    "ExecuteTime": {
     "end_time": "2020-05-02T11:57:16.478302Z",
     "start_time": "2020-05-02T11:57:16.391718Z"
    }
   },
   "source": [
    "### Eploring Data"
   ]
  },
  {
   "cell_type": "markdown",
   "metadata": {
    "ExecuteTime": {
     "end_time": "2020-05-02T11:59:00.024007Z",
     "start_time": "2020-05-02T11:59:00.008378Z"
    }
   },
   "source": [
    "#### Analyzing categories of products "
   ]
  },
  {
   "cell_type": "code",
   "execution_count": 42,
   "metadata": {
    "ExecuteTime": {
     "end_time": "2020-05-02T13:52:23.922397Z",
     "start_time": "2020-05-02T13:52:23.894707Z"
    }
   },
   "outputs": [
    {
     "data": {
      "text/plain": [
       "Credit reporting, credit repair services, or other personal consumer reports    15448\n",
       "Debt collection                                                                  7364\n",
       "Credit card or prepaid card                                                      3490\n",
       "Mortgage                                                                         2767\n",
       "Checking or savings account                                                      2045\n",
       "Student loan                                                                     1292\n",
       "Vehicle loan or lease                                                             861\n",
       "Money transfer, virtual currency, or money service                                799\n",
       "Payday loan, title loan, or personal loan                                         708\n",
       "Consumer Loan                                                                       6\n",
       "Payday loan                                                                         5\n",
       "Credit card                                                                         3\n",
       "Credit reporting                                                                    2\n",
       "Bank account or service                                                             1\n",
       "Name: Product, dtype: int64"
      ]
     },
     "execution_count": 42,
     "metadata": {},
     "output_type": "execute_result"
    }
   ],
   "source": [
    "df['Product'].value_counts()"
   ]
  },
  {
   "cell_type": "code",
   "execution_count": 43,
   "metadata": {
    "ExecuteTime": {
     "end_time": "2020-05-02T13:52:24.861063Z",
     "start_time": "2020-05-02T13:52:23.922397Z"
    }
   },
   "outputs": [
    {
     "data": {
      "image/png": "[encoded data removed]",
      "text/plain": [
       "<Figure size 1800x720 with 1 Axes>"
      ]
     },
     "metadata": {},
     "output_type": "display_data"
    }
   ],
   "source": [
    "sns.set(rc={'figure.figsize':(25,10)})\n",
    "p=sns.countplot(x='Product', data=df)\n",
    "p.set_xticklabels(p.get_xticklabels(),rotation=90)\n",
    "p.axes.xaxis.label.set_text(\" Categories of product  \")"
   ]
  },
  {
   "cell_type": "markdown",
   "metadata": {},
   "source": [
    "On ajustera les catégories des produits afin de fusionner ceux qui conviennent !"
   ]
  },
  {
   "cell_type": "code",
   "execution_count": 44,
   "metadata": {
    "ExecuteTime": {
     "end_time": "2020-05-02T13:52:24.895160Z",
     "start_time": "2020-05-02T13:52:24.863164Z"
    }
   },
   "outputs": [
    {
     "data": {
      "text/html": [
       "<div>\n",
       "<style scoped>\n",
       "    .dataframe tbody tr th:only-of-type {\n",
       "        vertical-align: middle;\n",
       "    }\n",
       "\n",
       "    .dataframe tbody tr th {\n",
       "        vertical-align: top;\n",
       "    }\n",
       "\n",
       "    .dataframe thead th {\n",
       "        text-align: right;\n",
       "    }\n",
       "</style>\n",
       "<table border=\"1\" class=\"dataframe\">\n",
       "  <thead>\n",
       "    <tr style=\"text-align: right;\">\n",
       "      <th></th>\n",
       "      <th>Product</th>\n",
       "      <th>Consumer complaint narrative</th>\n",
       "    </tr>\n",
       "  </thead>\n",
       "  <tbody>\n",
       "    <tr>\n",
       "      <th>4924</th>\n",
       "      <td>Credit reporting, credit repair services, or o...</td>\n",
       "      <td>Unauthorized inquiries applied to my credit fi...</td>\n",
       "    </tr>\n",
       "    <tr>\n",
       "      <th>76689</th>\n",
       "      <td>Credit reporting, credit repair services, or o...</td>\n",
       "      <td>NATIONAL CREDIT ADJUSTERS can bring this issue...</td>\n",
       "    </tr>\n",
       "    <tr>\n",
       "      <th>42171</th>\n",
       "      <td>Credit card or prepaid card</td>\n",
       "      <td>On Wednesday, XX/XX/2019, at approximately XXX...</td>\n",
       "    </tr>\n",
       "    <tr>\n",
       "      <th>34725</th>\n",
       "      <td>Credit card or prepaid card</td>\n",
       "      <td>Wells Fargo Card services is reporting on a de...</td>\n",
       "    </tr>\n",
       "    <tr>\n",
       "      <th>19718</th>\n",
       "      <td>Credit reporting, credit repair services, or o...</td>\n",
       "      <td>This is the third time I have requested actual...</td>\n",
       "    </tr>\n",
       "    <tr>\n",
       "      <th>70934</th>\n",
       "      <td>Credit reporting, credit repair services, or o...</td>\n",
       "      <td>I have disputed the inaccurate reporting on my...</td>\n",
       "    </tr>\n",
       "    <tr>\n",
       "      <th>78465</th>\n",
       "      <td>Debt collection</td>\n",
       "      <td>I have not received any documentation validati...</td>\n",
       "    </tr>\n",
       "    <tr>\n",
       "      <th>38291</th>\n",
       "      <td>Debt collection</td>\n",
       "      <td>Hello Today I received a call from ( XXXX ) XX...</td>\n",
       "    </tr>\n",
       "    <tr>\n",
       "      <th>61825</th>\n",
       "      <td>Mortgage</td>\n",
       "      <td>I scheduled a mortgage payment through my bank...</td>\n",
       "    </tr>\n",
       "    <tr>\n",
       "      <th>74805</th>\n",
       "      <td>Credit card or prepaid card</td>\n",
       "      <td>1-I closed my account with Discover Credit Car...</td>\n",
       "    </tr>\n",
       "  </tbody>\n",
       "</table>\n",
       "</div>"
      ],
      "text/plain": [
       "                                                 Product  \\\n",
       "4924   Credit reporting, credit repair services, or o...   \n",
       "76689  Credit reporting, credit repair services, or o...   \n",
       "42171                        Credit card or prepaid card   \n",
       "34725                        Credit card or prepaid card   \n",
       "19718  Credit reporting, credit repair services, or o...   \n",
       "70934  Credit reporting, credit repair services, or o...   \n",
       "78465                                    Debt collection   \n",
       "38291                                    Debt collection   \n",
       "61825                                           Mortgage   \n",
       "74805                        Credit card or prepaid card   \n",
       "\n",
       "                            Consumer complaint narrative  \n",
       "4924   Unauthorized inquiries applied to my credit fi...  \n",
       "76689  NATIONAL CREDIT ADJUSTERS can bring this issue...  \n",
       "42171  On Wednesday, XX/XX/2019, at approximately XXX...  \n",
       "34725  Wells Fargo Card services is reporting on a de...  \n",
       "19718  This is the third time I have requested actual...  \n",
       "70934  I have disputed the inaccurate reporting on my...  \n",
       "78465  I have not received any documentation validati...  \n",
       "38291  Hello Today I received a call from ( XXXX ) XX...  \n",
       "61825  I scheduled a mortgage payment through my bank...  \n",
       "74805  1-I closed my account with Discover Credit Car...  "
      ]
     },
     "execution_count": 44,
     "metadata": {},
     "output_type": "execute_result"
    }
   ],
   "source": [
    "df.sample(10)"
   ]
  },
  {
   "cell_type": "code",
   "execution_count": 45,
   "metadata": {
    "ExecuteTime": {
     "end_time": "2020-05-02T13:52:24.994366Z",
     "start_time": "2020-05-02T13:52:24.898049Z"
    }
   },
   "outputs": [
    {
     "data": {
      "text/plain": [
       "Credit reporting, credit repair services, or other personal consumer reports    15448\n",
       "Debt collection                                                                  7364\n",
       "Credit card or prepaid card                                                      3490\n",
       "Mortgage                                                                         2767\n",
       "Checking or savings account                                                      2045\n",
       "Student loan                                                                     1292\n",
       "Vehicle loan or lease                                                             861\n",
       "Money transfer, virtual currency, or money service                                799\n",
       "Payday loan, title loan, or personal loan                                         708\n",
       "Consumer Loan                                                                       6\n",
       "Payday loan                                                                         5\n",
       "Credit card                                                                         3\n",
       "Credit reporting                                                                    2\n",
       "Name: Product, dtype: int64"
      ]
     },
     "execution_count": 45,
     "metadata": {},
     "output_type": "execute_result"
    }
   ],
   "source": [
    "df=df[~df.Product.str.contains(\"Bank account or service\")]\n",
    "df['Product'].value_counts()"
   ]
  },
  {
   "cell_type": "code",
   "execution_count": 46,
   "metadata": {
    "ExecuteTime": {
     "end_time": "2020-05-02T13:52:25.341017Z",
     "start_time": "2020-05-02T13:52:24.998011Z"
    }
   },
   "outputs": [
    {
     "data": {
      "text/plain": [
       "Credit Reporting               15450\n",
       "Debt collection                 7364\n",
       "Credit Card                     3493\n",
       "Mortgage                        2767\n",
       "Checking or savings account     2045\n",
       "Student loan                    1292\n",
       "Vehicle loan or lease            861\n",
       "Money Operations                 799\n",
       "Payday loan                      719\n",
       "Name: Product, dtype: int64"
      ]
     },
     "execution_count": 46,
     "metadata": {},
     "output_type": "execute_result"
    }
   ],
   "source": [
    "df['Product'][df.Product.str.contains(\"Credit reporting\")]='Credit Reporting'\n",
    "df['Product'][df.Product.str.contains(\"Credit card\")]='Credit Card'\n",
    "df['Product'][df.Product.str.contains(\"Payday loan\")]='Payday loan'\n",
    "df['Product'][df.Product.str.contains(\"Consumer Loan\")]='Payday loan'\n",
    "df['Product'][df.Product.str.contains(\"Money transfer, virtual currency, or money service\")]='Money Operations' #Rename\n",
    "\n",
    "df['Product'].value_counts()"
   ]
  },
  {
   "cell_type": "code",
   "execution_count": 47,
   "metadata": {
    "ExecuteTime": {
     "end_time": "2020-05-02T13:52:25.372950Z",
     "start_time": "2020-05-02T13:52:25.346001Z"
    }
   },
   "outputs": [
    {
     "data": {
      "text/html": [
       "<div>\n",
       "<style scoped>\n",
       "    .dataframe tbody tr th:only-of-type {\n",
       "        vertical-align: middle;\n",
       "    }\n",
       "\n",
       "    .dataframe tbody tr th {\n",
       "        vertical-align: top;\n",
       "    }\n",
       "\n",
       "    .dataframe thead th {\n",
       "        text-align: right;\n",
       "    }\n",
       "</style>\n",
       "<table border=\"1\" class=\"dataframe\">\n",
       "  <thead>\n",
       "    <tr style=\"text-align: right;\">\n",
       "      <th></th>\n",
       "      <th>Product</th>\n",
       "      <th>Consumer complaint narrative</th>\n",
       "    </tr>\n",
       "  </thead>\n",
       "  <tbody>\n",
       "    <tr>\n",
       "      <th>16608</th>\n",
       "      <td>Credit Reporting</td>\n",
       "      <td>I have tried to contact Transunion to regardin...</td>\n",
       "    </tr>\n",
       "    <tr>\n",
       "      <th>64940</th>\n",
       "      <td>Vehicle loan or lease</td>\n",
       "      <td>On XX/XX/XXXX Toyota Financial Services receiv...</td>\n",
       "    </tr>\n",
       "    <tr>\n",
       "      <th>28038</th>\n",
       "      <td>Money Operations</td>\n",
       "      <td>Somebody sent me XXXX dollars by XXXX in bank ...</td>\n",
       "    </tr>\n",
       "    <tr>\n",
       "      <th>36496</th>\n",
       "      <td>Student loan</td>\n",
       "      <td>I applied for all fixed interest loans and som...</td>\n",
       "    </tr>\n",
       "    <tr>\n",
       "      <th>77643</th>\n",
       "      <td>Mortgage</td>\n",
       "      <td>I own a home in XXXX Oklahoma I bought before ...</td>\n",
       "    </tr>\n",
       "    <tr>\n",
       "      <th>64042</th>\n",
       "      <td>Payday loan</td>\n",
       "      <td>I went to XXXX on XX/XX/2019 to see what perso...</td>\n",
       "    </tr>\n",
       "    <tr>\n",
       "      <th>68573</th>\n",
       "      <td>Debt collection</td>\n",
       "      <td>FCRA states information reporting has to be 10...</td>\n",
       "    </tr>\n",
       "    <tr>\n",
       "      <th>9955</th>\n",
       "      <td>Mortgage</td>\n",
       "      <td>Rushmore my mortgage servicer mailed me a Prop...</td>\n",
       "    </tr>\n",
       "    <tr>\n",
       "      <th>38008</th>\n",
       "      <td>Debt collection</td>\n",
       "      <td>XXXX XXXX 's office called XX/XX/XXXX and offe...</td>\n",
       "    </tr>\n",
       "    <tr>\n",
       "      <th>37129</th>\n",
       "      <td>Credit Card</td>\n",
       "      <td>In XX/XX/2010, my MC was charged {$2000.00} to...</td>\n",
       "    </tr>\n",
       "  </tbody>\n",
       "</table>\n",
       "</div>"
      ],
      "text/plain": [
       "                     Product  \\\n",
       "16608       Credit Reporting   \n",
       "64940  Vehicle loan or lease   \n",
       "28038       Money Operations   \n",
       "36496           Student loan   \n",
       "77643               Mortgage   \n",
       "64042            Payday loan   \n",
       "68573        Debt collection   \n",
       "9955                Mortgage   \n",
       "38008        Debt collection   \n",
       "37129            Credit Card   \n",
       "\n",
       "                            Consumer complaint narrative  \n",
       "16608  I have tried to contact Transunion to regardin...  \n",
       "64940  On XX/XX/XXXX Toyota Financial Services receiv...  \n",
       "28038  Somebody sent me XXXX dollars by XXXX in bank ...  \n",
       "36496  I applied for all fixed interest loans and som...  \n",
       "77643  I own a home in XXXX Oklahoma I bought before ...  \n",
       "64042  I went to XXXX on XX/XX/2019 to see what perso...  \n",
       "68573  FCRA states information reporting has to be 10...  \n",
       "9955   Rushmore my mortgage servicer mailed me a Prop...  \n",
       "38008  XXXX XXXX 's office called XX/XX/XXXX and offe...  \n",
       "37129  In XX/XX/2010, my MC was charged {$2000.00} to...  "
      ]
     },
     "execution_count": 47,
     "metadata": {},
     "output_type": "execute_result"
    }
   ],
   "source": [
    "df.sample(10)"
   ]
  },
  {
   "cell_type": "markdown",
   "metadata": {},
   "source": [
    "#### Coding Category"
   ]
  },
  {
   "cell_type": "markdown",
   "metadata": {},
   "source": [
    "On ajoutera une colonne qui codera les categories du produit sous forme d'entier pour pouvoir les exploiter "
   ]
  },
  {
   "cell_type": "code",
   "execution_count": 48,
   "metadata": {
    "ExecuteTime": {
     "end_time": "2020-05-02T13:52:25.445615Z",
     "start_time": "2020-05-02T13:52:25.377210Z"
    }
   },
   "outputs": [
    {
     "data": {
      "text/html": [
       "<div>\n",
       "<style scoped>\n",
       "    .dataframe tbody tr th:only-of-type {\n",
       "        vertical-align: middle;\n",
       "    }\n",
       "\n",
       "    .dataframe tbody tr th {\n",
       "        vertical-align: top;\n",
       "    }\n",
       "\n",
       "    .dataframe thead th {\n",
       "        text-align: right;\n",
       "    }\n",
       "</style>\n",
       "<table border=\"1\" class=\"dataframe\">\n",
       "  <thead>\n",
       "    <tr style=\"text-align: right;\">\n",
       "      <th></th>\n",
       "      <th>Product</th>\n",
       "      <th>Consumer complaint narrative</th>\n",
       "      <th>category_id</th>\n",
       "    </tr>\n",
       "  </thead>\n",
       "  <tbody>\n",
       "    <tr>\n",
       "      <th>58744</th>\n",
       "      <td>Credit Card</td>\n",
       "      <td>This week I received a letter from Bank of Ame...</td>\n",
       "      <td>5</td>\n",
       "    </tr>\n",
       "    <tr>\n",
       "      <th>59362</th>\n",
       "      <td>Debt collection</td>\n",
       "      <td>XXXX XXXX XXXX is such a liar and so stupid th...</td>\n",
       "      <td>0</td>\n",
       "    </tr>\n",
       "    <tr>\n",
       "      <th>80768</th>\n",
       "      <td>Credit Reporting</td>\n",
       "      <td>I recently conducted a review of my credit rep...</td>\n",
       "      <td>1</td>\n",
       "    </tr>\n",
       "    <tr>\n",
       "      <th>61529</th>\n",
       "      <td>Mortgage</td>\n",
       "      <td>I had a mortgage with JP Morgan Chase and was ...</td>\n",
       "      <td>3</td>\n",
       "    </tr>\n",
       "    <tr>\n",
       "      <th>33820</th>\n",
       "      <td>Credit Reporting</td>\n",
       "      <td>Notice to whom it be of concern, It is YOU I h...</td>\n",
       "      <td>1</td>\n",
       "    </tr>\n",
       "    <tr>\n",
       "      <th>79942</th>\n",
       "      <td>Money Operations</td>\n",
       "      <td>This involves a request to transfer an ira cd ...</td>\n",
       "      <td>2</td>\n",
       "    </tr>\n",
       "    <tr>\n",
       "      <th>63342</th>\n",
       "      <td>Debt collection</td>\n",
       "      <td>On Thursday, XX/XX/2019, I was repeatedly call...</td>\n",
       "      <td>0</td>\n",
       "    </tr>\n",
       "    <tr>\n",
       "      <th>9166</th>\n",
       "      <td>Debt collection</td>\n",
       "      <td>Portfolio Recovery collections agency keeps vi...</td>\n",
       "      <td>0</td>\n",
       "    </tr>\n",
       "    <tr>\n",
       "      <th>50895</th>\n",
       "      <td>Debt collection</td>\n",
       "      <td>XX/XX/2019 the agent called 4 times from 2 sim...</td>\n",
       "      <td>0</td>\n",
       "    </tr>\n",
       "    <tr>\n",
       "      <th>53218</th>\n",
       "      <td>Credit Card</td>\n",
       "      <td>Chase has allowed merchants using cards that w...</td>\n",
       "      <td>5</td>\n",
       "    </tr>\n",
       "  </tbody>\n",
       "</table>\n",
       "</div>"
      ],
      "text/plain": [
       "                Product                       Consumer complaint narrative  \\\n",
       "58744       Credit Card  This week I received a letter from Bank of Ame...   \n",
       "59362   Debt collection  XXXX XXXX XXXX is such a liar and so stupid th...   \n",
       "80768  Credit Reporting  I recently conducted a review of my credit rep...   \n",
       "61529          Mortgage  I had a mortgage with JP Morgan Chase and was ...   \n",
       "33820  Credit Reporting  Notice to whom it be of concern, It is YOU I h...   \n",
       "79942  Money Operations  This involves a request to transfer an ira cd ...   \n",
       "63342   Debt collection  On Thursday, XX/XX/2019, I was repeatedly call...   \n",
       "9166    Debt collection  Portfolio Recovery collections agency keeps vi...   \n",
       "50895   Debt collection  XX/XX/2019 the agent called 4 times from 2 sim...   \n",
       "53218       Credit Card  Chase has allowed merchants using cards that w...   \n",
       "\n",
       "       category_id  \n",
       "58744            5  \n",
       "59362            0  \n",
       "80768            1  \n",
       "61529            3  \n",
       "33820            1  \n",
       "79942            2  \n",
       "63342            0  \n",
       "9166             0  \n",
       "50895            0  \n",
       "53218            5  "
      ]
     },
     "execution_count": 48,
     "metadata": {},
     "output_type": "execute_result"
    }
   ],
   "source": [
    "df['category_id'] = df['Product'].factorize()[0]\n",
    "df.sample(10)"
   ]
  },
  {
   "cell_type": "markdown",
   "metadata": {},
   "source": [
    "## Creating Model\n"
   ]
  },
  {
   "cell_type": "markdown",
   "metadata": {},
   "source": [
    "### Splitting Data "
   ]
  },
  {
   "cell_type": "code",
   "execution_count": 49,
   "metadata": {
    "ExecuteTime": {
     "end_time": "2020-05-02T13:52:37.456760Z",
     "start_time": "2020-05-02T13:52:25.452092Z"
    }
   },
   "outputs": [],
   "source": [
    "# CountVectorizer() : converting  a collection of text documents to a matrix of token counts\n",
    "vectorizer = CountVectorizer()\n",
    "# split data\n",
    "train_data,test_data = train_test_split(df,train_size=0.8,random_state=42)\n",
    "# select the columns and prepare data for the models \n",
    "X_train = vectorizer.fit_transform(train_data['Consumer complaint narrative'])\n",
    "y_train = train_data['category_id']\n",
    "X_test = vectorizer.transform(test_data['Consumer complaint narrative'])\n",
    "y_test = test_data['category_id']"
   ]
  },
  {
   "cell_type": "markdown",
   "metadata": {},
   "source": [
    "### Fitting Model"
   ]
  },
  {
   "cell_type": "code",
   "execution_count": 50,
   "metadata": {
    "ExecuteTime": {
     "end_time": "2020-05-02T13:52:37.581453Z",
     "start_time": "2020-05-02T13:52:37.461325Z"
    }
   },
   "outputs": [
    {
     "data": {
      "text/plain": [
       "MultinomialNB(alpha=1.0, class_prior=None, fit_prior=True)"
      ]
     },
     "execution_count": 50,
     "metadata": {},
     "output_type": "execute_result"
    }
   ],
   "source": [
    "# use Naive Bayes Algorithm \n",
    "naive_bayes = MultinomialNB()\n",
    "naive_bayes.fit(X_train,y_train)"
   ]
  },
  {
   "cell_type": "markdown",
   "metadata": {
    "ExecuteTime": {
     "end_time": "2020-05-02T13:44:22.073158Z",
     "start_time": "2020-05-02T13:44:22.070163Z"
    }
   },
   "source": [
    "## Testing & evaluating Model"
   ]
  },
  {
   "cell_type": "markdown",
   "metadata": {},
   "source": [
    "### Adding Results to the Dataframe"
   ]
  },
  {
   "cell_type": "code",
   "execution_count": 51,
   "metadata": {
    "ExecuteTime": {
     "end_time": "2020-05-02T13:52:37.693440Z",
     "start_time": "2020-05-02T13:52:37.584388Z"
    }
   },
   "outputs": [
    {
     "data": {
      "text/html": [
       "<div>\n",
       "<style scoped>\n",
       "    .dataframe tbody tr th:only-of-type {\n",
       "        vertical-align: middle;\n",
       "    }\n",
       "\n",
       "    .dataframe tbody tr th {\n",
       "        vertical-align: top;\n",
       "    }\n",
       "\n",
       "    .dataframe thead th {\n",
       "        text-align: right;\n",
       "    }\n",
       "</style>\n",
       "<table border=\"1\" class=\"dataframe\">\n",
       "  <thead>\n",
       "    <tr style=\"text-align: right;\">\n",
       "      <th></th>\n",
       "      <th>Product</th>\n",
       "      <th>Consumer complaint narrative</th>\n",
       "      <th>category_id</th>\n",
       "      <th>Naive Bayes</th>\n",
       "    </tr>\n",
       "  </thead>\n",
       "  <tbody>\n",
       "    <tr>\n",
       "      <th>6131</th>\n",
       "      <td>Credit Reporting</td>\n",
       "      <td>i disputed, via certified mail, inaccurate inf...</td>\n",
       "      <td>1</td>\n",
       "      <td>1</td>\n",
       "    </tr>\n",
       "    <tr>\n",
       "      <th>69432</th>\n",
       "      <td>Vehicle loan or lease</td>\n",
       "      <td>I got a car from a company in XXXX of XXXX In ...</td>\n",
       "      <td>6</td>\n",
       "      <td>6</td>\n",
       "    </tr>\n",
       "    <tr>\n",
       "      <th>53175</th>\n",
       "      <td>Credit Reporting</td>\n",
       "      <td>According to the Fair Credit Reporting Act, Se...</td>\n",
       "      <td>1</td>\n",
       "      <td>1</td>\n",
       "    </tr>\n",
       "    <tr>\n",
       "      <th>24568</th>\n",
       "      <td>Credit Reporting</td>\n",
       "      <td>Unfortunately, I had an account that was sent ...</td>\n",
       "      <td>1</td>\n",
       "      <td>0</td>\n",
       "    </tr>\n",
       "    <tr>\n",
       "      <th>66776</th>\n",
       "      <td>Credit Card</td>\n",
       "      <td>To CFPB Re : Pentagon Federal Credit Union XX/...</td>\n",
       "      <td>5</td>\n",
       "      <td>5</td>\n",
       "    </tr>\n",
       "    <tr>\n",
       "      <th>56209</th>\n",
       "      <td>Credit Reporting</td>\n",
       "      <td>I DISCOVERED NUMEROUS ACCOUNTS REPORTING ON MY...</td>\n",
       "      <td>1</td>\n",
       "      <td>1</td>\n",
       "    </tr>\n",
       "    <tr>\n",
       "      <th>75522</th>\n",
       "      <td>Debt collection</td>\n",
       "      <td>Despite filing a previous CFPB complaint XXXX ...</td>\n",
       "      <td>0</td>\n",
       "      <td>0</td>\n",
       "    </tr>\n",
       "    <tr>\n",
       "      <th>71054</th>\n",
       "      <td>Credit Reporting</td>\n",
       "      <td>I have disputed an account with XXXX XXXX XXXX...</td>\n",
       "      <td>1</td>\n",
       "      <td>1</td>\n",
       "    </tr>\n",
       "    <tr>\n",
       "      <th>39719</th>\n",
       "      <td>Debt collection</td>\n",
       "      <td>This collection agencey is reporting debt with...</td>\n",
       "      <td>0</td>\n",
       "      <td>0</td>\n",
       "    </tr>\n",
       "    <tr>\n",
       "      <th>32697</th>\n",
       "      <td>Credit Reporting</td>\n",
       "      <td>THE CREDIT BUREAUS ARE REPORTING ERRONEOUS INF...</td>\n",
       "      <td>1</td>\n",
       "      <td>1</td>\n",
       "    </tr>\n",
       "  </tbody>\n",
       "</table>\n",
       "</div>"
      ],
      "text/plain": [
       "                     Product  \\\n",
       "6131        Credit Reporting   \n",
       "69432  Vehicle loan or lease   \n",
       "53175       Credit Reporting   \n",
       "24568       Credit Reporting   \n",
       "66776            Credit Card   \n",
       "56209       Credit Reporting   \n",
       "75522        Debt collection   \n",
       "71054       Credit Reporting   \n",
       "39719        Debt collection   \n",
       "32697       Credit Reporting   \n",
       "\n",
       "                            Consumer complaint narrative  category_id  \\\n",
       "6131   i disputed, via certified mail, inaccurate inf...            1   \n",
       "69432  I got a car from a company in XXXX of XXXX In ...            6   \n",
       "53175  According to the Fair Credit Reporting Act, Se...            1   \n",
       "24568  Unfortunately, I had an account that was sent ...            1   \n",
       "66776  To CFPB Re : Pentagon Federal Credit Union XX/...            5   \n",
       "56209  I DISCOVERED NUMEROUS ACCOUNTS REPORTING ON MY...            1   \n",
       "75522  Despite filing a previous CFPB complaint XXXX ...            0   \n",
       "71054  I have disputed an account with XXXX XXXX XXXX...            1   \n",
       "39719  This collection agencey is reporting debt with...            0   \n",
       "32697  THE CREDIT BUREAUS ARE REPORTING ERRONEOUS INF...            1   \n",
       "\n",
       "       Naive Bayes  \n",
       "6131             1  \n",
       "69432            6  \n",
       "53175            1  \n",
       "24568            0  \n",
       "66776            5  \n",
       "56209            1  \n",
       "75522            0  \n",
       "71054            1  \n",
       "39719            0  \n",
       "32697            1  "
      ]
     },
     "execution_count": 51,
     "metadata": {},
     "output_type": "execute_result"
    }
   ],
   "source": [
    "df_nb = train_data.copy()\n",
    "df_nb['Naive Bayes'] = naive_bayes.predict(X_train)\n",
    "df_nb.sample(10)"
   ]
  },
  {
   "cell_type": "markdown",
   "metadata": {},
   "source": [
    "### Confusion Matrice "
   ]
  },
  {
   "cell_type": "code",
   "execution_count": 52,
   "metadata": {
    "ExecuteTime": {
     "end_time": "2020-05-02T13:52:37.743836Z",
     "start_time": "2020-05-02T13:52:37.695435Z"
    }
   },
   "outputs": [],
   "source": [
    "naive_bayes_cm=confusion_matrix(y_test.values, naive_bayes.predict(X_test))"
   ]
  },
  {
   "cell_type": "code",
   "execution_count": 53,
   "metadata": {
    "ExecuteTime": {
     "end_time": "2020-05-02T13:52:38.721624Z",
     "start_time": "2020-05-02T13:52:37.745832Z"
    }
   },
   "outputs": [
    {
     "data": {
      "image/png": "[encoded data removed]",
      "text/plain": [
       "<Figure size 720x720 with 1 Axes>"
      ]
     },
     "metadata": {},
     "output_type": "display_data"
    }
   ],
   "source": [
    "sns.set(rc={'figure.figsize':(10,10)})\n",
    "p=sns.heatmap(naive_bayes_cm, annot = True, cmap=\"Reds\",cbar=False)\n",
    "p.axes.xaxis.label.set_text(\"Confusion matrice\")"
   ]
  },
  {
   "cell_type": "code",
   "execution_count": 54,
   "metadata": {
    "ExecuteTime": {
     "end_time": "2020-05-02T13:52:38.925097Z",
     "start_time": "2020-05-02T13:52:38.727017Z"
    }
   },
   "outputs": [
    {
     "data": {
      "text/html": [
       "<div>\n",
       "<style scoped>\n",
       "    .dataframe tbody tr th:only-of-type {\n",
       "        vertical-align: middle;\n",
       "    }\n",
       "\n",
       "    .dataframe tbody tr th {\n",
       "        vertical-align: top;\n",
       "    }\n",
       "\n",
       "    .dataframe thead th {\n",
       "        text-align: right;\n",
       "    }\n",
       "</style>\n",
       "<table border=\"1\" class=\"dataframe\">\n",
       "  <thead>\n",
       "    <tr style=\"text-align: right;\">\n",
       "      <th>Predicted Situation</th>\n",
       "      <th>0</th>\n",
       "      <th>1</th>\n",
       "      <th>2</th>\n",
       "      <th>3</th>\n",
       "      <th>4</th>\n",
       "      <th>5</th>\n",
       "      <th>6</th>\n",
       "      <th>7</th>\n",
       "      <th>8</th>\n",
       "      <th>All</th>\n",
       "    </tr>\n",
       "    <tr>\n",
       "      <th>True Situation</th>\n",
       "      <th></th>\n",
       "      <th></th>\n",
       "      <th></th>\n",
       "      <th></th>\n",
       "      <th></th>\n",
       "      <th></th>\n",
       "      <th></th>\n",
       "      <th></th>\n",
       "      <th></th>\n",
       "      <th></th>\n",
       "    </tr>\n",
       "  </thead>\n",
       "  <tbody>\n",
       "    <tr>\n",
       "      <th>0</th>\n",
       "      <td>1129</td>\n",
       "      <td>206</td>\n",
       "      <td>2</td>\n",
       "      <td>32</td>\n",
       "      <td>14</td>\n",
       "      <td>56</td>\n",
       "      <td>9</td>\n",
       "      <td>13</td>\n",
       "      <td>1</td>\n",
       "      <td>1462</td>\n",
       "    </tr>\n",
       "    <tr>\n",
       "      <th>1</th>\n",
       "      <td>248</td>\n",
       "      <td>2561</td>\n",
       "      <td>0</td>\n",
       "      <td>60</td>\n",
       "      <td>38</td>\n",
       "      <td>172</td>\n",
       "      <td>50</td>\n",
       "      <td>17</td>\n",
       "      <td>3</td>\n",
       "      <td>3149</td>\n",
       "    </tr>\n",
       "    <tr>\n",
       "      <th>2</th>\n",
       "      <td>4</td>\n",
       "      <td>3</td>\n",
       "      <td>83</td>\n",
       "      <td>6</td>\n",
       "      <td>0</td>\n",
       "      <td>12</td>\n",
       "      <td>0</td>\n",
       "      <td>51</td>\n",
       "      <td>0</td>\n",
       "      <td>159</td>\n",
       "    </tr>\n",
       "    <tr>\n",
       "      <th>3</th>\n",
       "      <td>6</td>\n",
       "      <td>9</td>\n",
       "      <td>2</td>\n",
       "      <td>550</td>\n",
       "      <td>1</td>\n",
       "      <td>10</td>\n",
       "      <td>1</td>\n",
       "      <td>4</td>\n",
       "      <td>0</td>\n",
       "      <td>583</td>\n",
       "    </tr>\n",
       "    <tr>\n",
       "      <th>4</th>\n",
       "      <td>15</td>\n",
       "      <td>6</td>\n",
       "      <td>0</td>\n",
       "      <td>9</td>\n",
       "      <td>190</td>\n",
       "      <td>10</td>\n",
       "      <td>0</td>\n",
       "      <td>1</td>\n",
       "      <td>0</td>\n",
       "      <td>231</td>\n",
       "    </tr>\n",
       "    <tr>\n",
       "      <th>5</th>\n",
       "      <td>21</td>\n",
       "      <td>42</td>\n",
       "      <td>1</td>\n",
       "      <td>0</td>\n",
       "      <td>4</td>\n",
       "      <td>559</td>\n",
       "      <td>1</td>\n",
       "      <td>27</td>\n",
       "      <td>0</td>\n",
       "      <td>655</td>\n",
       "    </tr>\n",
       "    <tr>\n",
       "      <th>6</th>\n",
       "      <td>12</td>\n",
       "      <td>16</td>\n",
       "      <td>0</td>\n",
       "      <td>17</td>\n",
       "      <td>3</td>\n",
       "      <td>22</td>\n",
       "      <td>101</td>\n",
       "      <td>2</td>\n",
       "      <td>0</td>\n",
       "      <td>173</td>\n",
       "    </tr>\n",
       "    <tr>\n",
       "      <th>7</th>\n",
       "      <td>5</td>\n",
       "      <td>7</td>\n",
       "      <td>9</td>\n",
       "      <td>7</td>\n",
       "      <td>0</td>\n",
       "      <td>40</td>\n",
       "      <td>0</td>\n",
       "      <td>338</td>\n",
       "      <td>1</td>\n",
       "      <td>407</td>\n",
       "    </tr>\n",
       "    <tr>\n",
       "      <th>8</th>\n",
       "      <td>27</td>\n",
       "      <td>11</td>\n",
       "      <td>0</td>\n",
       "      <td>24</td>\n",
       "      <td>21</td>\n",
       "      <td>22</td>\n",
       "      <td>8</td>\n",
       "      <td>9</td>\n",
       "      <td>17</td>\n",
       "      <td>139</td>\n",
       "    </tr>\n",
       "    <tr>\n",
       "      <th>All</th>\n",
       "      <td>1467</td>\n",
       "      <td>2861</td>\n",
       "      <td>97</td>\n",
       "      <td>705</td>\n",
       "      <td>271</td>\n",
       "      <td>903</td>\n",
       "      <td>170</td>\n",
       "      <td>462</td>\n",
       "      <td>22</td>\n",
       "      <td>6958</td>\n",
       "    </tr>\n",
       "  </tbody>\n",
       "</table>\n",
       "</div>"
      ],
      "text/plain": [
       "Predicted Situation      0     1   2    3    4    5    6    7   8   All\n",
       "True Situation                                                         \n",
       "0                     1129   206   2   32   14   56    9   13   1  1462\n",
       "1                      248  2561   0   60   38  172   50   17   3  3149\n",
       "2                        4     3  83    6    0   12    0   51   0   159\n",
       "3                        6     9   2  550    1   10    1    4   0   583\n",
       "4                       15     6   0    9  190   10    0    1   0   231\n",
       "5                       21    42   1    0    4  559    1   27   0   655\n",
       "6                       12    16   0   17    3   22  101    2   0   173\n",
       "7                        5     7   9    7    0   40    0  338   1   407\n",
       "8                       27    11   0   24   21   22    8    9  17   139\n",
       "All                   1467  2861  97  705  271  903  170  462  22  6958"
      ]
     },
     "execution_count": 54,
     "metadata": {},
     "output_type": "execute_result"
    }
   ],
   "source": [
    "pd.crosstab(y_test.values, naive_bayes.predict(X_test), rownames=['True Situation '], colnames=['Predicted Situation '], margins=True)"
   ]
  },
  {
   "cell_type": "markdown",
   "metadata": {
    "ExecuteTime": {
     "end_time": "2020-05-02T13:46:12.317273Z",
     "start_time": "2020-05-02T13:46:12.314251Z"
    }
   },
   "source": [
    "### Accuracy Score"
   ]
  },
  {
   "cell_type": "code",
   "execution_count": 55,
   "metadata": {
    "ExecuteTime": {
     "end_time": "2020-05-02T13:52:38.971885Z",
     "start_time": "2020-05-02T13:52:38.928878Z"
    }
   },
   "outputs": [
    {
     "name": "stdout",
     "output_type": "stream",
     "text": [
      "0.7944811727507904\n"
     ]
    }
   ],
   "source": [
    "print(accuracy_score(y_test, naive_bayes.predict(X_test)))"
   ]
  },
  {
   "cell_type": "markdown",
   "metadata": {},
   "source": [
    "### Classification Report"
   ]
  },
  {
   "cell_type": "code",
   "execution_count": 56,
   "metadata": {
    "ExecuteTime": {
     "end_time": "2020-05-02T13:52:39.051876Z",
     "start_time": "2020-05-02T13:52:38.976041Z"
    }
   },
   "outputs": [
    {
     "name": "stdout",
     "output_type": "stream",
     "text": [
      "              precision    recall  f1-score   support\n",
      "\n",
      "           0       0.77      0.77      0.77      1462\n",
      "           1       0.90      0.81      0.85      3149\n",
      "           2       0.86      0.52      0.65       159\n",
      "           3       0.78      0.94      0.85       583\n",
      "           4       0.70      0.82      0.76       231\n",
      "           5       0.62      0.85      0.72       655\n",
      "           6       0.59      0.58      0.59       173\n",
      "           7       0.73      0.83      0.78       407\n",
      "           8       0.77      0.12      0.21       139\n",
      "\n",
      "    accuracy                           0.79      6958\n",
      "   macro avg       0.75      0.70      0.69      6958\n",
      "weighted avg       0.81      0.79      0.79      6958\n",
      "\n"
     ]
    }
   ],
   "source": [
    "print(classification_report(y_test, naive_bayes.predict(X_test)))"
   ]
  },
  {
   "cell_type": "markdown",
   "metadata": {},
   "source": [
    "**On remarque** que :\n",
    "\n",
    "- Le Recall de la classe 8 est faible , ce qui signifie que le model n'arrive pas a prédire la catégorie -Payday loan - .Autrement dit , il signifie que 9 plaintes sur 10 sont manqués par le modèle et 1 uniqument qu'est correctement identifiée . \n",
    "\n",
    "\n"
   ]
  },
  {
   "cell_type": "markdown",
   "metadata": {
    "ExecuteTime": {
     "end_time": "2020-05-02T13:58:18.291941Z",
     "start_time": "2020-05-02T13:58:18.271679Z"
    }
   },
   "source": [
    "**Mais , en générale le model est bien fonctionnel avec des recall et accuracy > 70 %**"
   ]
  },
  {
   "cell_type": "code",
   "execution_count": null,
   "metadata": {},
   "outputs": [],
   "source": []
  }
 ],
 "metadata": {
  "kernelspec": {
   "display_name": "Python 3",
   "language": "python",
   "name": "python3"
  },
  "language_info": {
   "codemirror_mode": {
    "name": "ipython",
    "version": 3
   },
   "file_extension": ".py",
   "mimetype": "text/x-python",
   "name": "python",
   "nbconvert_exporter": "python",
   "pygments_lexer": "ipython3",
   "version": "3.7.7"
  }
 },
 "nbformat": 4,
 "nbformat_minor": 4
}
