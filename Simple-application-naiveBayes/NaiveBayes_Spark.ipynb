{
 "cells": [
  {
   "cell_type": "markdown",
   "metadata": {},
   "source": [
    "# TP BDM : APPLICATIONS SUR NAIVE BAYES \n",
    "\n",
    "**Réalisé par : Hayat HACHEMI - SIT 1** \n",
    "<br></br>\n",
    "**Mai 2020**\n",
    "\n",
    "Durant ce TP , on va exploiter Naive Bayes Algorithm dans deux de ses domains d'applications :\n",
    "- Analyse des sentiments , \n",
    "- Classification de texte .\n"
   ]
  },
  {
   "cell_type": "markdown",
   "metadata": {},
   "source": [
    "Naive Bayes classifiers sont une famille de classificateurs probabilistes simples et multiclasses basés sur l'application du théorème de Bayes avec de fortes hypothèses d'indépendance (naïves) entre chaque paire de caractéristiques.\n",
    "\n",
    "Naive Bayes peut être formé très efficacement. En un seul passage sur les données d'apprentissage, il calcule la distribution de probabilité conditionnelle de chaque caractéristique pour chaque étiquette. Pour la prédiction, il applique le théorème de Bayes pour calculer la distribution de probabilité conditionnelle de chaque étiquette étant donné une observation."
   ]
  },
  {
   "cell_type": "markdown",
   "metadata": {},
   "source": [
    "On utilisera Naive Bayes déja imlplémenté sous Spark.ml : https://spark.apache.org/docs/latest/ml-classification-regression.html#naive-bayes .  \n",
    "\n",
    "**Spark.ml** est un nouveau package introduit dans Spark 1.2, qui vise à fournir un ensemble uniforme d'API de haut niveau qui aident les utilisateurs à créer et à régler des pipelines d'apprentissage automatique pratiques ( practical machine learning pipelines)\n",
    "\n",
    "**PS: ML est différente de ML lib**"
   ]
  },
  {
   "cell_type": "markdown",
   "metadata": {},
   "source": [
    "Plus de détails sur machine learning pipelines :  \n",
    "https://medium.com/analytics-vidhya/what-is-a-pipeline-in-machine-learning-how-to-create-one-bda91d0ceaca  \n",
    "https://spark.apache.org/docs/2.2.0/ml-pipeline.html"
   ]
  },
  {
   "cell_type": "markdown",
   "metadata": {},
   "source": [
    "## Initializing Spark"
   ]
  },
  {
   "cell_type": "code",
   "execution_count": 1,
   "metadata": {
    "ExecuteTime": {
     "end_time": "2020-05-11T17:07:42.179769Z",
     "start_time": "2020-05-11T17:07:38.241113Z"
    }
   },
   "outputs": [],
   "source": [
    "from pyspark.sql import SQLContext\n",
    "from pyspark import SparkContext\n",
    "sc =SparkContext()\n",
    "sqlContext = SQLContext(sc)"
   ]
  },
  {
   "cell_type": "code",
   "execution_count": 2,
   "metadata": {
    "ExecuteTime": {
     "end_time": "2020-05-11T17:07:42.745074Z",
     "start_time": "2020-05-11T17:07:42.741067Z"
    }
   },
   "outputs": [],
   "source": [
    "from pyspark.sql import SparkSession\n",
    "spark = SparkSession.builder.getOrCreate()"
   ]
  },
  {
   "cell_type": "markdown",
   "metadata": {},
   "source": [
    "## Importing Libraries "
   ]
  },
  {
   "cell_type": "code",
   "execution_count": 37,
   "metadata": {
    "ExecuteTime": {
     "end_time": "2020-05-11T17:12:47.195890Z",
     "start_time": "2020-05-11T17:12:46.217132Z"
    }
   },
   "outputs": [],
   "source": [
    "import pandas as pd\n",
    "import seaborn as sns\n",
    "\n",
    "from pyspark.sql import functions as f\n",
    "from pyspark.sql.functions import col\n",
    "from pyspark.sql.functions import isnan, when, count, col\n",
    "\n",
    "from pyspark.ml.feature import RegexTokenizer, StopWordsRemover, CountVectorizer\n",
    "from pyspark.ml import Pipeline\n",
    "from pyspark.ml.feature import OneHotEncoder, StringIndexer, VectorAssembler\n",
    "\n",
    "from pyspark.ml.classification import NaiveBayes\n",
    "from pyspark.ml.evaluation import MulticlassClassificationEvaluator\n",
    "from pyspark.ml.evaluation import BinaryClassificationEvaluator\n",
    "\n",
    "from sklearn.metrics import classification_report, confusion_matrix"
   ]
  },
  {
   "cell_type": "markdown",
   "metadata": {},
   "source": [
    "# Partie 01 : Prédiction des sentiments à partir des avis sur les vêtements"
   ]
  },
  {
   "cell_type": "markdown",
   "metadata": {},
   "source": [
    "L'analyse des sentiments est un sujet vital dans le domaine de la PNL ,elle entre dans la grande catégorie des tâches de classification de texte . Le but est de fournir une phrase ou une liste de phrases et un classificateur est censé dire si le sentiment derrière cela est positif, négatif ou neutre. "
   ]
  },
  {
   "cell_type": "markdown",
   "metadata": {},
   "source": [
    "**Objectif : Utiliser Naïve Bayes Classification pour prédire les sentiments des clients sur des vêtements d'une société privée à partir de leurs avis**\n",
    "<br></br>\n",
    "Dans cette partie de Tp , on va essayer de prédire les sentiments des clients à partir de leurs avis , le dataset utilisée est **« Women's E-Commerce Clothing Reviews »** téléchargeable depuis Kaggle via : https://www.kaggle.com/nicapotato/womens-ecommerce-clothing-reviews ."
   ]
  },
  {
   "cell_type": "markdown",
   "metadata": {},
   "source": [
    "## Getting Data "
   ]
  },
  {
   "cell_type": "markdown",
   "metadata": {},
   "source": [
    "Ce dataset comprend 23486 lignes et 10 feature variables. Chaque ligne correspond à un avis client et comprend les variables:\n",
    "<br></br>\n",
    "**Clothing ID**: Integer Categorical variable that refers to the specific piece being reviewed.\n",
    "<br></br>\n",
    "**Age**: Positive Integer variable of the reviewers age.\n",
    "<br></br>\n",
    "**Title**: String variable for the title of the review.\n",
    "<br></br>\n",
    "**Review Text**: String variable for the review body.\n",
    "<br></br>\n",
    "**Rating**: Positive Ordinal Integer variable for the product score granted by the customer from 1 Worst, to 5 Best.\n",
    "<br></br>\n",
    "**Recommended IND**: Binary variable stating where the customer recommends the product where 1 is recommended, 0 is not recommended.\n",
    "<br></br>\n",
    "**Positive Feedback Count**: Positive Integer documenting the number of other customers who found this review positive.\n",
    "<br></br>\n",
    "**Division Name**: Categorical name of the product high level division.\n",
    "<br></br>\n",
    "**Department Name**: Categorical name of the product department name.\n",
    "<br></br>\n",
    "**Class Name**: Categorical name of the product class name."
   ]
  },
  {
   "cell_type": "code",
   "execution_count": 4,
   "metadata": {
    "ExecuteTime": {
     "end_time": "2020-05-11T17:08:33.134537Z",
     "start_time": "2020-05-11T17:08:28.788763Z"
    }
   },
   "outputs": [],
   "source": [
    "# Load  data\n",
    "data = sqlContext.read.format('csv').options(header='true', inferschema='true').load('Womens_Clothing_ECommerce_Reviews.csv')"
   ]
  },
  {
   "cell_type": "code",
   "execution_count": 5,
   "metadata": {
    "ExecuteTime": {
     "end_time": "2020-05-11T17:08:34.198166Z",
     "start_time": "2020-05-11T17:08:33.762181Z"
    }
   },
   "outputs": [
    {
     "name": "stdout",
     "output_type": "stream",
     "text": [
      "(26928, 10)\n"
     ]
    }
   ],
   "source": [
    "print((data.count(), len(data.columns)))"
   ]
  },
  {
   "cell_type": "code",
   "execution_count": 6,
   "metadata": {
    "ExecuteTime": {
     "end_time": "2020-05-11T17:08:35.828938Z",
     "start_time": "2020-05-11T17:08:35.823982Z"
    }
   },
   "outputs": [
    {
     "name": "stdout",
     "output_type": "stream",
     "text": [
      "root\n",
      " |-- Clothing ID: string (nullable = true)\n",
      " |-- Age: string (nullable = true)\n",
      " |-- Title: string (nullable = true)\n",
      " |-- Review Text: string (nullable = true)\n",
      " |-- Rating: string (nullable = true)\n",
      " |-- Recommended IND: string (nullable = true)\n",
      " |-- Positive Feedback Count: string (nullable = true)\n",
      " |-- Division Name: string (nullable = true)\n",
      " |-- Department Name: string (nullable = true)\n",
      " |-- Class Name: string (nullable = true)\n",
      "\n"
     ]
    }
   ],
   "source": [
    "data.printSchema()"
   ]
  },
  {
   "cell_type": "code",
   "execution_count": 7,
   "metadata": {
    "ExecuteTime": {
     "end_time": "2020-05-11T17:08:37.736132Z",
     "start_time": "2020-05-11T17:08:37.549538Z"
    }
   },
   "outputs": [
    {
     "name": "stdout",
     "output_type": "stream",
     "text": [
      "+-----------+---+--------------------+--------------------+------+---------------+-----------------------+--------------+---------------+----------+\n",
      "|Clothing ID|Age|               Title|         Review Text|Rating|Recommended IND|Positive Feedback Count| Division Name|Department Name|Class Name|\n",
      "+-----------+---+--------------------+--------------------+------+---------------+-----------------------+--------------+---------------+----------+\n",
      "|        767| 33|                null|Absolutely wonder...|     4|              1|                      0|     Initmates|       Intimate| Intimates|\n",
      "|       1080| 34|                null|\"Love this dress!...|     5|              1|                      4|       General|        Dresses|   Dresses|\n",
      "|       1077| 60|Some major design...|I had such high h...|     3|              0|                      0|       General|        Dresses|   Dresses|\n",
      "|       1049| 50|    My favorite buy!|I love, love, lov...|     5|              1|                      0|General Petite|        Bottoms|     Pants|\n",
      "|        847| 47|    Flattering shirt|This shirt is ver...|     5|              1|                      6|       General|           Tops|   Blouses|\n",
      "+-----------+---+--------------------+--------------------+------+---------------+-----------------------+--------------+---------------+----------+\n",
      "only showing top 5 rows\n",
      "\n"
     ]
    }
   ],
   "source": [
    "data.show(5)"
   ]
  },
  {
   "cell_type": "markdown",
   "metadata": {},
   "source": [
    "On remarque que la structuration du dataset n'est pas évidente , pour résoudre le problème j'ai pensé a le lire comme pandas DF puis le retransformer en spark DF"
   ]
  },
  {
   "cell_type": "code",
   "execution_count": 8,
   "metadata": {
    "ExecuteTime": {
     "end_time": "2020-05-11T17:08:46.148584Z",
     "start_time": "2020-05-11T17:08:46.016770Z"
    }
   },
   "outputs": [],
   "source": [
    "df_c=pd.read_csv(\"Womens_Clothing_ECommerce_Reviews.csv\")"
   ]
  },
  {
   "cell_type": "code",
   "execution_count": 9,
   "metadata": {
    "ExecuteTime": {
     "end_time": "2020-05-11T17:08:47.821607Z",
     "start_time": "2020-05-11T17:08:47.792211Z"
    }
   },
   "outputs": [
    {
     "data": {
      "text/html": [
       "<div>\n",
       "<style scoped>\n",
       "    .dataframe tbody tr th:only-of-type {\n",
       "        vertical-align: middle;\n",
       "    }\n",
       "\n",
       "    .dataframe tbody tr th {\n",
       "        vertical-align: top;\n",
       "    }\n",
       "\n",
       "    .dataframe thead th {\n",
       "        text-align: right;\n",
       "    }\n",
       "</style>\n",
       "<table border=\"1\" class=\"dataframe\">\n",
       "  <thead>\n",
       "    <tr style=\"text-align: right;\">\n",
       "      <th></th>\n",
       "      <th>Clothing ID</th>\n",
       "      <th>Age</th>\n",
       "      <th>Title</th>\n",
       "      <th>Review Text</th>\n",
       "      <th>Rating</th>\n",
       "      <th>Recommended IND</th>\n",
       "      <th>Positive Feedback Count</th>\n",
       "      <th>Division Name</th>\n",
       "      <th>Department Name</th>\n",
       "      <th>Class Name</th>\n",
       "    </tr>\n",
       "  </thead>\n",
       "  <tbody>\n",
       "    <tr>\n",
       "      <th>176</th>\n",
       "      <td>895</td>\n",
       "      <td>43</td>\n",
       "      <td>Perfect casual sweater</td>\n",
       "      <td>Love the fit of this sweater! it almost fits l...</td>\n",
       "      <td>5</td>\n",
       "      <td>1</td>\n",
       "      <td>9</td>\n",
       "      <td>General</td>\n",
       "      <td>Tops</td>\n",
       "      <td>Fine gauge</td>\n",
       "    </tr>\n",
       "    <tr>\n",
       "      <th>6475</th>\n",
       "      <td>862</td>\n",
       "      <td>51</td>\n",
       "      <td>Beautiful color</td>\n",
       "      <td>The color of this t is beautiful and the shimm...</td>\n",
       "      <td>4</td>\n",
       "      <td>1</td>\n",
       "      <td>0</td>\n",
       "      <td>General Petite</td>\n",
       "      <td>Tops</td>\n",
       "      <td>Knits</td>\n",
       "    </tr>\n",
       "    <tr>\n",
       "      <th>22502</th>\n",
       "      <td>867</td>\n",
       "      <td>34</td>\n",
       "      <td>So cute! though inside not soft</td>\n",
       "      <td>I got the cream color and absolutely love the ...</td>\n",
       "      <td>4</td>\n",
       "      <td>1</td>\n",
       "      <td>0</td>\n",
       "      <td>General</td>\n",
       "      <td>Tops</td>\n",
       "      <td>Knits</td>\n",
       "    </tr>\n",
       "    <tr>\n",
       "      <th>13757</th>\n",
       "      <td>1078</td>\n",
       "      <td>32</td>\n",
       "      <td>Fell apart before my eyes</td>\n",
       "      <td>Was excited to wear the dress for the first ti...</td>\n",
       "      <td>1</td>\n",
       "      <td>0</td>\n",
       "      <td>0</td>\n",
       "      <td>General</td>\n",
       "      <td>Dresses</td>\n",
       "      <td>Dresses</td>\n",
       "    </tr>\n",
       "    <tr>\n",
       "      <th>6403</th>\n",
       "      <td>862</td>\n",
       "      <td>44</td>\n",
       "      <td>NaN</td>\n",
       "      <td>I am so glad i found this tee. as usual i love...</td>\n",
       "      <td>4</td>\n",
       "      <td>1</td>\n",
       "      <td>2</td>\n",
       "      <td>General</td>\n",
       "      <td>Tops</td>\n",
       "      <td>Knits</td>\n",
       "    </tr>\n",
       "  </tbody>\n",
       "</table>\n",
       "</div>"
      ],
      "text/plain": [
       "       Clothing ID  Age                            Title  \\\n",
       "176            895   43           Perfect casual sweater   \n",
       "6475           862   51                  Beautiful color   \n",
       "22502          867   34  So cute! though inside not soft   \n",
       "13757         1078   32        Fell apart before my eyes   \n",
       "6403           862   44                              NaN   \n",
       "\n",
       "                                             Review Text  Rating  \\\n",
       "176    Love the fit of this sweater! it almost fits l...       5   \n",
       "6475   The color of this t is beautiful and the shimm...       4   \n",
       "22502  I got the cream color and absolutely love the ...       4   \n",
       "13757  Was excited to wear the dress for the first ti...       1   \n",
       "6403   I am so glad i found this tee. as usual i love...       4   \n",
       "\n",
       "       Recommended IND  Positive Feedback Count   Division Name  \\\n",
       "176                  1                        9         General   \n",
       "6475                 1                        0  General Petite   \n",
       "22502                1                        0         General   \n",
       "13757                0                        0         General   \n",
       "6403                 1                        2         General   \n",
       "\n",
       "      Department Name  Class Name  \n",
       "176              Tops  Fine gauge  \n",
       "6475             Tops       Knits  \n",
       "22502            Tops       Knits  \n",
       "13757         Dresses     Dresses  \n",
       "6403             Tops       Knits  "
      ]
     },
     "execution_count": 9,
     "metadata": {},
     "output_type": "execute_result"
    }
   ],
   "source": [
    "df_c.sample(5)"
   ]
  },
  {
   "cell_type": "markdown",
   "metadata": {},
   "source": [
    "## Preparing Data "
   ]
  },
  {
   "cell_type": "markdown",
   "metadata": {},
   "source": [
    "### Cleaning Data "
   ]
  },
  {
   "cell_type": "markdown",
   "metadata": {},
   "source": [
    "Avant d'entamner les analyses , il est nécessaire  de préparer nos donnés afin de les avoir bien rangées . "
   ]
  },
  {
   "cell_type": "markdown",
   "metadata": {},
   "source": [
    "Pour les besoins de ce TP , on gardera que les variables : Review Text et Rating"
   ]
  },
  {
   "cell_type": "code",
   "execution_count": null,
   "metadata": {
    "ExecuteTime": {
     "end_time": "2020-05-11T14:38:23.330677Z",
     "start_time": "2020-05-11T14:38:23.250888Z"
    }
   },
   "outputs": [],
   "source": [
    "#conv_list = ['Review Text','Rating']\n",
    "#data = data.select([column for column in data.columns if column in conv_list])\n",
    "#data.show(15)"
   ]
  },
  {
   "cell_type": "code",
   "execution_count": 10,
   "metadata": {
    "ExecuteTime": {
     "end_time": "2020-05-11T17:08:53.736378Z",
     "start_time": "2020-05-11T17:08:53.723273Z"
    }
   },
   "outputs": [],
   "source": [
    "df_ct = df_c[['Review Text','Rating']]"
   ]
  },
  {
   "cell_type": "code",
   "execution_count": null,
   "metadata": {
    "ExecuteTime": {
     "end_time": "2020-05-11T14:23:56.895369Z",
     "start_time": "2020-05-11T14:23:56.667980Z"
    }
   },
   "outputs": [],
   "source": [
    "#Count null values \n",
    "#data.select([count(when(col(c).isNull(), c)).alias(c) for c in data.columns]).show()"
   ]
  },
  {
   "cell_type": "code",
   "execution_count": 11,
   "metadata": {
    "ExecuteTime": {
     "end_time": "2020-05-11T17:08:55.861490Z",
     "start_time": "2020-05-11T17:08:55.851483Z"
    }
   },
   "outputs": [
    {
     "data": {
      "text/plain": [
       "Review Text    845\n",
       "Rating           0\n",
       "dtype: int64"
      ]
     },
     "execution_count": 11,
     "metadata": {},
     "output_type": "execute_result"
    }
   ],
   "source": [
    "df_ct.isnull().sum()"
   ]
  },
  {
   "cell_type": "markdown",
   "metadata": {},
   "source": [
    "Pour ce TP , on supprimera les valeurs manquantes . Mais dans les cas réels , ce n'est pas toujours le cas "
   ]
  },
  {
   "cell_type": "code",
   "execution_count": null,
   "metadata": {
    "ExecuteTime": {
     "end_time": "2020-05-11T14:27:16.387762Z",
     "start_time": "2020-05-11T14:27:16.379219Z"
    }
   },
   "outputs": [],
   "source": [
    "#omit null values \n",
    "#data_drop=data.dropna('any')"
   ]
  },
  {
   "cell_type": "code",
   "execution_count": 12,
   "metadata": {
    "ExecuteTime": {
     "end_time": "2020-05-11T17:09:00.891038Z",
     "start_time": "2020-05-11T17:09:00.881498Z"
    }
   },
   "outputs": [],
   "source": [
    "#Delete null values \n",
    "df_ct=df_ct.dropna()"
   ]
  },
  {
   "cell_type": "code",
   "execution_count": null,
   "metadata": {
    "ExecuteTime": {
     "end_time": "2020-05-11T14:27:18.605332Z",
     "start_time": "2020-05-11T14:27:18.391046Z"
    }
   },
   "outputs": [],
   "source": [
    "#Count null values \n",
    "#data_drop.select([count(when(col(c).isNull(), c)).alias(c) for c in data_drop.columns]).show()"
   ]
  },
  {
   "cell_type": "code",
   "execution_count": 13,
   "metadata": {
    "ExecuteTime": {
     "end_time": "2020-05-11T17:09:02.710003Z",
     "start_time": "2020-05-11T17:09:02.701986Z"
    }
   },
   "outputs": [
    {
     "data": {
      "text/plain": [
       "Review Text    0\n",
       "Rating         0\n",
       "dtype: int64"
      ]
     },
     "execution_count": 13,
     "metadata": {},
     "output_type": "execute_result"
    }
   ],
   "source": [
    "df_ct.isnull().sum()"
   ]
  },
  {
   "cell_type": "code",
   "execution_count": 14,
   "metadata": {
    "ExecuteTime": {
     "end_time": "2020-05-11T17:09:07.589271Z",
     "start_time": "2020-05-11T17:09:07.070025Z"
    }
   },
   "outputs": [],
   "source": [
    "#Convert into spark dataframe \n",
    "data = spark.createDataFrame(df_ct)"
   ]
  },
  {
   "cell_type": "code",
   "execution_count": 15,
   "metadata": {
    "ExecuteTime": {
     "end_time": "2020-05-11T17:09:12.852101Z",
     "start_time": "2020-05-11T17:09:08.967171Z"
    }
   },
   "outputs": [
    {
     "name": "stdout",
     "output_type": "stream",
     "text": [
      "(22641, 2)\n"
     ]
    }
   ],
   "source": [
    "print((data.count(), len(data.columns)))"
   ]
  },
  {
   "cell_type": "code",
   "execution_count": 16,
   "metadata": {
    "ExecuteTime": {
     "end_time": "2020-05-11T17:09:13.603317Z",
     "start_time": "2020-05-11T17:09:13.598334Z"
    }
   },
   "outputs": [
    {
     "name": "stdout",
     "output_type": "stream",
     "text": [
      "root\n",
      " |-- Review Text: string (nullable = true)\n",
      " |-- Rating: long (nullable = true)\n",
      "\n"
     ]
    }
   ],
   "source": [
    "data.printSchema()"
   ]
  },
  {
   "cell_type": "code",
   "execution_count": 17,
   "metadata": {
    "ExecuteTime": {
     "end_time": "2020-05-11T17:09:17.869339Z",
     "start_time": "2020-05-11T17:09:17.347042Z"
    }
   },
   "outputs": [
    {
     "name": "stdout",
     "output_type": "stream",
     "text": [
      "+--------------------+------+\n",
      "|         Review Text|Rating|\n",
      "+--------------------+------+\n",
      "|Absolutely wonder...|     4|\n",
      "|Love this dress! ...|     5|\n",
      "|I had such high h...|     3|\n",
      "|I love, love, lov...|     5|\n",
      "|This shirt is ver...|     5|\n",
      "|I love tracy rees...|     2|\n",
      "|I aded this in my...|     5|\n",
      "|I ordered this in...|     4|\n",
      "|I love this dress...|     5|\n",
      "|I'm 5\"5' and 125 ...|     5|\n",
      "|Dress runs small ...|     3|\n",
      "|This dress is per...|     5|\n",
      "|More and more i f...|     5|\n",
      "|Bought the black ...|     5|\n",
      "|This is a nice ch...|     3|\n",
      "+--------------------+------+\n",
      "only showing top 15 rows\n",
      "\n"
     ]
    }
   ],
   "source": [
    "data.show(15)"
   ]
  },
  {
   "cell_type": "markdown",
   "metadata": {},
   "source": [
    "### Eploring Data \n"
   ]
  },
  {
   "cell_type": "markdown",
   "metadata": {},
   "source": [
    "#### Analyzing Rating"
   ]
  },
  {
   "cell_type": "code",
   "execution_count": 18,
   "metadata": {
    "ExecuteTime": {
     "end_time": "2020-05-11T17:09:26.985683Z",
     "start_time": "2020-05-11T17:09:22.543155Z"
    }
   },
   "outputs": [
    {
     "name": "stdout",
     "output_type": "stream",
     "text": [
      "+------+-----+\n",
      "|Rating|count|\n",
      "+------+-----+\n",
      "|     5|12540|\n",
      "|     1|  821|\n",
      "|     3| 2823|\n",
      "|     2| 1549|\n",
      "|     4| 4908|\n",
      "+------+-----+\n",
      "\n"
     ]
    }
   ],
   "source": [
    "data.groupBy('Rating').count().show()"
   ]
  },
  {
   "cell_type": "markdown",
   "metadata": {},
   "source": [
    "#### Building a Sentiment Classifier\n",
    "<br></br>\n",
    "Comme nous n'avons pas de colonne qui montre le sentiment : positif ou négatif , j'ai défini une nouvelle colonne de sentiment. Pour ce faire, j'ai supposé que les avis qui avaient une note de 4 ou plus étaient positifs et 2 ou moins étaient négatifs . De plus, je n'ai pas inclus les lignes dont les notes neutres sont égales à 3. "
   ]
  },
  {
   "cell_type": "code",
   "execution_count": 19,
   "metadata": {
    "ExecuteTime": {
     "end_time": "2020-05-11T17:09:34.330799Z",
     "start_time": "2020-05-11T17:09:34.267849Z"
    }
   },
   "outputs": [],
   "source": [
    "# Rating of 3 -> neutral (not taken into account)\n",
    "data_new = data[data['Rating'] != 3]"
   ]
  },
  {
   "cell_type": "code",
   "execution_count": 20,
   "metadata": {
    "ExecuteTime": {
     "end_time": "2020-05-11T17:09:36.880457Z",
     "start_time": "2020-05-11T17:09:36.850564Z"
    }
   },
   "outputs": [],
   "source": [
    "# Rating of 4 or higher -> positive\n",
    "# Rating of 2 or lower -> negative \n",
    "\n",
    "data_new=data_new.withColumn('Sentiment', f.when(f.col('Rating') >=4, 'True').otherwise('False'))"
   ]
  },
  {
   "cell_type": "code",
   "execution_count": 21,
   "metadata": {
    "ExecuteTime": {
     "end_time": "2020-05-11T17:09:38.483118Z",
     "start_time": "2020-05-11T17:09:38.479119Z"
    }
   },
   "outputs": [
    {
     "name": "stdout",
     "output_type": "stream",
     "text": [
      "root\n",
      " |-- Review Text: string (nullable = true)\n",
      " |-- Rating: long (nullable = true)\n",
      " |-- Sentiment: string (nullable = false)\n",
      "\n"
     ]
    }
   ],
   "source": [
    "data_new.printSchema()"
   ]
  },
  {
   "cell_type": "code",
   "execution_count": 22,
   "metadata": {
    "ExecuteTime": {
     "end_time": "2020-05-11T17:09:40.702608Z",
     "start_time": "2020-05-11T17:09:40.153827Z"
    }
   },
   "outputs": [
    {
     "name": "stdout",
     "output_type": "stream",
     "text": [
      "+--------------------+------+---------+\n",
      "|         Review Text|Rating|Sentiment|\n",
      "+--------------------+------+---------+\n",
      "|Absolutely wonder...|     4|     True|\n",
      "|Love this dress! ...|     5|     True|\n",
      "|I love, love, lov...|     5|     True|\n",
      "|This shirt is ver...|     5|     True|\n",
      "|I love tracy rees...|     2|    False|\n",
      "|I aded this in my...|     5|     True|\n",
      "|I ordered this in...|     4|     True|\n",
      "|I love this dress...|     5|     True|\n",
      "|I'm 5\"5' and 125 ...|     5|     True|\n",
      "|This dress is per...|     5|     True|\n",
      "|More and more i f...|     5|     True|\n",
      "|Bought the black ...|     5|     True|\n",
      "|I took these out ...|     4|     True|\n",
      "|Took a chance on ...|     5|     True|\n",
      "|A flattering, sup...|     5|     True|\n",
      "|I love the look a...|     5|     True|\n",
      "|If this product w...|     4|     True|\n",
      "|I'm upset because...|     4|     True|\n",
      "|First of all, thi...|     2|    False|\n",
      "|I love this shirt...|     5|     True|\n",
      "+--------------------+------+---------+\n",
      "only showing top 20 rows\n",
      "\n"
     ]
    }
   ],
   "source": [
    "data_new.show()"
   ]
  },
  {
   "cell_type": "markdown",
   "metadata": {},
   "source": [
    "## Creating Model"
   ]
  },
  {
   "cell_type": "markdown",
   "metadata": {
    "ExecuteTime": {
     "end_time": "2020-05-11T14:54:41.032034Z",
     "start_time": "2020-05-11T14:54:41.029044Z"
    }
   },
   "source": [
    "### Preparing Pipeline"
   ]
  },
  {
   "cell_type": "markdown",
   "metadata": {},
   "source": [
    "Spark Machine Learning Pipelines API , elle contient 3 phases :\n",
    "\n",
    "1-regexTokenizer: Tokenization (with Regular Expression)  \n",
    "3-stopwordsRemover: Remove Stop Words   \n",
    "4-countVectors: Count vectors (“document-term vectors”)"
   ]
  },
  {
   "cell_type": "code",
   "execution_count": 23,
   "metadata": {
    "ExecuteTime": {
     "end_time": "2020-05-11T17:09:49.011173Z",
     "start_time": "2020-05-11T17:09:49.005188Z"
    }
   },
   "outputs": [],
   "source": [
    "#List of stop words \n",
    "#Source :https://gist.github.com/sebleier/554280\n",
    "add_stopwords=[\"i\", \"me\", \"my\", \"myself\", \"we\", \"our\", \"ours\", \"ourselves\", \"you\", \"your\", \"yours\", \"yourself\", \"yourselves\", \"he\", \"him\", \"his\", \"himself\", \"she\", \"her\", \"hers\", \"herself\", \"it\", \"its\", \"itself\", \"they\", \"them\", \"their\", \"theirs\", \"themselves\", \"what\", \"which\", \"who\", \"whom\", \"this\", \"that\", \"these\", \"those\", \"am\", \"is\", \"are\", \"was\", \"were\", \"be\", \"been\", \"being\", \"have\", \"has\", \"had\", \"having\", \"do\", \"does\", \"did\", \"doing\", \"a\", \"an\", \"the\", \"and\", \"but\", \"if\", \"or\", \"because\", \"as\", \"until\", \"while\", \"of\", \"at\", \"by\", \"for\", \"with\", \"about\", \"against\", \"between\", \"into\", \"through\", \"during\", \"before\", \"after\", \"above\", \"below\", \"to\", \"from\", \"up\", \"down\", \"in\", \"out\", \"on\", \"off\", \"over\", \"under\", \"again\", \"further\", \"then\", \"once\", \"here\", \"there\", \"when\", \"where\", \"why\", \"how\", \"all\", \"any\", \"both\", \"each\", \"few\", \"more\", \"most\", \"other\", \"some\", \"such\", \"no\", \"nor\", \"not\", \"only\", \"own\", \"same\", \"so\", \"than\", \"too\", \"very\", \"s\", \"t\", \"can\", \"will\", \"just\", \"don\", \"should\", \"now\"]"
   ]
  },
  {
   "cell_type": "code",
   "execution_count": 24,
   "metadata": {
    "ExecuteTime": {
     "end_time": "2020-05-11T17:09:54.785829Z",
     "start_time": "2020-05-11T17:09:54.673448Z"
    }
   },
   "outputs": [],
   "source": [
    "# regular expression tokenizer\n",
    "regexTokenizer = RegexTokenizer(inputCol=\"Review Text\", outputCol=\"words\", pattern=\"\\\\W\")\n",
    "# stop words\n",
    "#add_stopwords = [\"http\",\"https\",\"amp\",\"rt\",\"t\",\"c\",\"the\"] \n",
    "stopwordsRemover = StopWordsRemover(inputCol=\"words\", outputCol=\"filtered\").setStopWords(add_stopwords)\n",
    "# bag of words count\n",
    "countVectors = CountVectorizer(inputCol=\"filtered\", outputCol=\"features\", vocabSize=10000, minDF=5)"
   ]
  },
  {
   "cell_type": "markdown",
   "metadata": {},
   "source": [
    "StringIndexer encode une string colonne de labels en column de label indices. Les indices sont en (0, numLabels), ordonnés par  label frequencies (so the most frequent label gets index 0 ).  \n",
    "Dan notre cas , the label column (Sentiment) will be encoded to label indices, 0 et 1 "
   ]
  },
  {
   "cell_type": "code",
   "execution_count": 25,
   "metadata": {
    "ExecuteTime": {
     "end_time": "2020-05-11T17:10:25.062079Z",
     "start_time": "2020-05-11T17:10:16.283519Z"
    }
   },
   "outputs": [],
   "source": [
    "label_stringIdx = StringIndexer(inputCol = \"Sentiment\", outputCol = \"label\")\n",
    "pipeline = Pipeline(stages=[regexTokenizer, stopwordsRemover, countVectors, label_stringIdx])\n",
    "# Fit the pipeline to training documents.\n",
    "pipelineFit = pipeline.fit(data_new)\n",
    "dataset = pipelineFit.transform(data_new)\n"
   ]
  },
  {
   "cell_type": "code",
   "execution_count": 26,
   "metadata": {
    "ExecuteTime": {
     "end_time": "2020-05-11T17:10:27.024302Z",
     "start_time": "2020-05-11T17:10:26.394370Z"
    }
   },
   "outputs": [
    {
     "name": "stdout",
     "output_type": "stream",
     "text": [
      "+--------------------+------+---------+--------------------+--------------------+--------------------+-----+\n",
      "|         Review Text|Rating|Sentiment|               words|            filtered|            features|label|\n",
      "+--------------------+------+---------+--------------------+--------------------+--------------------+-----+\n",
      "|Absolutely wonder...|     4|     True|[absolutely, wond...|[absolutely, wond...|(4507,[23,168,391...|  0.0|\n",
      "|Love this dress! ...|     5|     True|[love, this, dres...|[love, dress, soo...|(4507,[0,1,6,9,10...|  0.0|\n",
      "|I love, love, lov...|     5|     True|[i, love, love, l...|[love, love, love...|(4507,[1,7,8,60,1...|  0.0|\n",
      "|This shirt is ver...|     5|     True|[this, shirt, is,...|[shirt, flatterin...|(4507,[1,7,14,20,...|  0.0|\n",
      "|I love tracy rees...|     2|    False|[i, love, tracy, ...|[love, tracy, ree...|(4507,[0,1,7,9,10...|  1.0|\n",
      "|I aded this in my...|     5|     True|[i, aded, this, i...|[aded, basket, ht...|(4507,[2,5,10,12,...|  0.0|\n",
      "|I ordered this in...|     4|     True|[i, ordered, this...|[ordered, carbon,...|(4507,[2,4,12,17,...|  0.0|\n",
      "|I love this dress...|     5|     True|[i, love, this, d...|[love, dress, usu...|(4507,[0,1,2,15,1...|  0.0|\n",
      "|I'm 5\"5' and 125 ...|     5|     True|[i, m, 5, 5, and,...|[m, 5, 5, 125, lb...|(4507,[0,1,3,6,7,...|  0.0|\n",
      "|This dress is per...|     5|     True|[this, dress, is,...|[dress, perfectio...|(4507,[0,20,50,10...|  0.0|\n",
      "+--------------------+------+---------+--------------------+--------------------+--------------------+-----+\n",
      "only showing top 10 rows\n",
      "\n"
     ]
    }
   ],
   "source": [
    "dataset.show(10)"
   ]
  },
  {
   "cell_type": "markdown",
   "metadata": {},
   "source": [
    "### Splitting Data"
   ]
  },
  {
   "cell_type": "code",
   "execution_count": 27,
   "metadata": {
    "ExecuteTime": {
     "end_time": "2020-05-11T17:10:33.746881Z",
     "start_time": "2020-05-11T17:10:33.720914Z"
    }
   },
   "outputs": [],
   "source": [
    "# set seed for reproducibility\n",
    "(trainingData, testData) = dataset.randomSplit([0.7, 0.3], seed = 100)"
   ]
  },
  {
   "cell_type": "code",
   "execution_count": 28,
   "metadata": {
    "ExecuteTime": {
     "end_time": "2020-05-11T17:10:44.324918Z",
     "start_time": "2020-05-11T17:10:35.839920Z"
    }
   },
   "outputs": [
    {
     "name": "stdout",
     "output_type": "stream",
     "text": [
      "Training Dataset Count: 13886\n",
      "Test Dataset Count: 5932\n"
     ]
    }
   ],
   "source": [
    "print(\"Training Dataset Count: \" + str(trainingData.count()))\n",
    "print(\"Test Dataset Count: \" + str(testData.count()))"
   ]
  },
  {
   "cell_type": "markdown",
   "metadata": {},
   "source": [
    "### Fitting Model"
   ]
  },
  {
   "cell_type": "code",
   "execution_count": 29,
   "metadata": {
    "ExecuteTime": {
     "end_time": "2020-05-11T17:10:49.688342Z",
     "start_time": "2020-05-11T17:10:44.325916Z"
    }
   },
   "outputs": [],
   "source": [
    "nb = NaiveBayes(smoothing=1)\n",
    "model = nb.fit(trainingData)"
   ]
  },
  {
   "cell_type": "markdown",
   "metadata": {},
   "source": [
    "## Testing & Evaluating Model"
   ]
  },
  {
   "cell_type": "markdown",
   "metadata": {},
   "source": [
    "### Predictions"
   ]
  },
  {
   "cell_type": "code",
   "execution_count": 30,
   "metadata": {
    "ExecuteTime": {
     "end_time": "2020-05-11T17:10:51.013355Z",
     "start_time": "2020-05-11T17:10:50.960377Z"
    }
   },
   "outputs": [],
   "source": [
    "predictions = model.transform(testData)"
   ]
  },
  {
   "cell_type": "code",
   "execution_count": 31,
   "metadata": {
    "ExecuteTime": {
     "end_time": "2020-05-11T17:10:53.928957Z",
     "start_time": "2020-05-11T17:10:53.075876Z"
    }
   },
   "outputs": [
    {
     "name": "stdout",
     "output_type": "stream",
     "text": [
      "+--------------------+------+---------+--------------------+--------------------+--------------------+-----+--------------------+--------------------+----------+\n",
      "|         Review Text|Rating|Sentiment|               words|            filtered|            features|label|       rawPrediction|         probability|prediction|\n",
      "+--------------------+------+---------+--------------------+--------------------+--------------------+-----+--------------------+--------------------+----------+\n",
      "|1. i'm 5'5\" tall,...|     4|     True|[1, i, m, 5, 5, t...|[1, m, 5, 5, tall...|(4507,[2,5,6,9,10...|  0.0|[-345.21059663892...|[0.95907934248172...|       0.0|\n",
      "|5'6\" 113lbs purch...|     4|     True|[5, 6, 113lbs, pu...|[5, 6, 113lbs, pu...|(4507,[2,3,5,9,11...|  0.0|[-339.83465802964...|[0.99915185617533...|       0.0|\n",
      "|A beautiful combi...|     5|     True|[a, beautiful, co...|[beautiful, combi...|(4507,[7,13,16,21...|  0.0|[-243.10403562394...|[0.99999989873624...|       0.0|\n",
      "|A breath of fresh...|     5|     True|[a, breath, of, f...|[breath, fresh, a...|(4507,[7,8,20,31,...|  0.0|[-126.58027960366...|[0.99996259918460...|       0.0|\n",
      "|A sales associate...|     5|     True|[a, sales, associ...|[sales, associate...|(4507,[2,7,9,10,1...|  0.0|[-200.83348005620...|[0.99999973269627...|       0.0|\n",
      "|Absolutely gorgeo...|     5|     True|[absolutely, gorg...|[absolutely, gorg...|(4507,[12,27,56,7...|  0.0|[-141.95894649503...|[0.99947005391835...|       0.0|\n",
      "|Absolutely in lov...|     4|     True|[absolutely, in, ...|[absolutely, love...|(4507,[1,20,32,11...|  0.0|[-74.713179467809...|[0.77923921628601...|       0.0|\n",
      "|Absolutely love t...|     5|     True|[absolutely, love...|[absolutely, love...|(4507,[0,1,2,16,2...|  0.0|[-58.759570749709...|[0.99786927909538...|       0.0|\n",
      "|Absolutely love, ...|     5|     True|[absolutely, love...|[absolutely, love...|(4507,[0,1,7,8,10...|  0.0|[-94.969522992310...|[0.99997361245323...|       0.0|\n",
      "|Absolutely wonder...|     4|     True|[absolutely, wond...|[absolutely, wond...|(4507,[23,168,391...|  0.0|[-35.890063699239...|[0.99834351607057...|       0.0|\n",
      "+--------------------+------+---------+--------------------+--------------------+--------------------+-----+--------------------+--------------------+----------+\n",
      "only showing top 10 rows\n",
      "\n"
     ]
    }
   ],
   "source": [
    "predictions.show(10)"
   ]
  },
  {
   "cell_type": "code",
   "execution_count": 32,
   "metadata": {
    "ExecuteTime": {
     "end_time": "2020-05-11T17:10:58.002439Z",
     "start_time": "2020-05-11T17:10:57.230214Z"
    }
   },
   "outputs": [
    {
     "name": "stdout",
     "output_type": "stream",
     "text": [
      "+--------------------+------+---------+--------------------+--------------------+-----+--------------------+----------+\n",
      "|         Review Text|Rating|Sentiment|               words|            filtered|label|         probability|prediction|\n",
      "+--------------------+------+---------+--------------------+--------------------+-----+--------------------+----------+\n",
      "|1. i'm 5'5\" tall,...|     4|     True|[1, i, m, 5, 5, t...|[1, m, 5, 5, tall...|  0.0|[0.95907934248172...|       0.0|\n",
      "|5'6\" 113lbs purch...|     4|     True|[5, 6, 113lbs, pu...|[5, 6, 113lbs, pu...|  0.0|[0.99915185617533...|       0.0|\n",
      "|A beautiful combi...|     5|     True|[a, beautiful, co...|[beautiful, combi...|  0.0|[0.99999989873624...|       0.0|\n",
      "|A breath of fresh...|     5|     True|[a, breath, of, f...|[breath, fresh, a...|  0.0|[0.99996259918460...|       0.0|\n",
      "|A sales associate...|     5|     True|[a, sales, associ...|[sales, associate...|  0.0|[0.99999973269627...|       0.0|\n",
      "|Absolutely gorgeo...|     5|     True|[absolutely, gorg...|[absolutely, gorg...|  0.0|[0.99947005391835...|       0.0|\n",
      "|Absolutely in lov...|     4|     True|[absolutely, in, ...|[absolutely, love...|  0.0|[0.77923921628601...|       0.0|\n",
      "|Absolutely love t...|     5|     True|[absolutely, love...|[absolutely, love...|  0.0|[0.99786927909538...|       0.0|\n",
      "|Absolutely love, ...|     5|     True|[absolutely, love...|[absolutely, love...|  0.0|[0.99997361245323...|       0.0|\n",
      "|Absolutely wonder...|     4|     True|[absolutely, wond...|[absolutely, wond...|  0.0|[0.99834351607057...|       0.0|\n",
      "|Adore the rust co...|     5|     True|[adore, the, rust...|[adore, rust, col...|  0.0|[0.99999100429897...|       0.0|\n",
      "|After missing out...|     5|     True|[after, missing, ...|[missing, last, y...|  0.0|[0.99989488109146...|       0.0|\n",
      "|After reading the...|     5|     True|[after, reading, ...|[reading, previou...|  0.0|[0.99995171116292...|       0.0|\n",
      "|After reviewing t...|     4|     True|[after, reviewing...|[reviewing, comme...|  0.0|[0.45543878884092...|       1.0|\n",
      "|Again, bought thi...|     2|    False|[again, bought, t...|[bought, wearing,...|  1.0|[0.10795226804667...|       1.0|\n",
      "+--------------------+------+---------+--------------------+--------------------+-----+--------------------+----------+\n",
      "only showing top 15 rows\n",
      "\n"
     ]
    }
   ],
   "source": [
    "drop_list = ['rawPrediction', 'features']\n",
    "pred_simpl = predictions.select([column for column in predictions.columns if column not in drop_list])\n",
    "pred_simpl.show(15)"
   ]
  },
  {
   "cell_type": "markdown",
   "metadata": {},
   "source": [
    "### Confusion Matrice"
   ]
  },
  {
   "cell_type": "markdown",
   "metadata": {},
   "source": [
    "Une matrice de confusion fournit un résumé  des résultats prédictifs d'un problème de classification. Les prédictions correctes et incorrectes sont résumées dans un tableau avec leurs valeurs et classifiées par classe.\n"
   ]
  },
  {
   "cell_type": "code",
   "execution_count": 33,
   "metadata": {
    "ExecuteTime": {
     "end_time": "2020-05-11T17:11:55.294378Z",
     "start_time": "2020-05-11T17:11:47.278095Z"
    }
   },
   "outputs": [],
   "source": [
    "y_true = predictions.select(['label']).collect()\n",
    "y_pred = predictions.select(['prediction']).collect()"
   ]
  },
  {
   "cell_type": "code",
   "execution_count": 36,
   "metadata": {
    "ExecuteTime": {
     "end_time": "2020-05-11T17:12:21.492398Z",
     "start_time": "2020-05-11T17:12:21.313866Z"
    }
   },
   "outputs": [],
   "source": [
    "naive_bayes_cm=confusion_matrix(y_true, y_pred)"
   ]
  },
  {
   "cell_type": "code",
   "execution_count": 38,
   "metadata": {
    "ExecuteTime": {
     "end_time": "2020-05-11T17:12:52.620018Z",
     "start_time": "2020-05-11T17:12:52.357602Z"
    }
   },
   "outputs": [
    {
     "data": {
      "image/png": "[encoded data removed]",
      "text/plain": [
       "<Figure size 360x360 with 1 Axes>"
      ]
     },
     "metadata": {},
     "output_type": "display_data"
    }
   ],
   "source": [
    "sns.set(rc={'figure.figsize':(5,5)})\n",
    "p=sns.heatmap(naive_bayes_cm, annot = True, cmap=\"Reds\",cbar=False)\n",
    "p.axes.xaxis.label.set_text(\"Confusion matrice\")"
   ]
  },
  {
   "cell_type": "markdown",
   "metadata": {},
   "source": [
    "**Interprétation** :\n",
    "\n",
    "\n",
    "*Vrai positif*: 5000 résultats sont prédit positif et c'est vrai.\n",
    "\n",
    "*Vrai négatif*: 550 résultats sont prédit négatif et c'est vrai. \n",
    "\n",
    "*Faux positif*(erreur de type 1): 270 résultats sont prédit négatif et c'est faux.\n",
    "\n",
    "*Faux négatif* (erreur de type 2): 160 résultats sont prédit  positif et c'est faux. \n",
    "\n",
    "**-Une bonne prédiction pour les avis positifs** \n"
   ]
  },
  {
   "cell_type": "markdown",
   "metadata": {},
   "source": [
    "### Accuracy Score"
   ]
  },
  {
   "cell_type": "code",
   "execution_count": 40,
   "metadata": {
    "ExecuteTime": {
     "end_time": "2020-05-11T17:19:30.311041Z",
     "start_time": "2020-05-11T17:19:22.098965Z"
    }
   },
   "outputs": [
    {
     "name": "stdout",
     "output_type": "stream",
     "text": [
      "Accuracy sore  = 0.928355\n",
      "Test Error = 0.0716453\n"
     ]
    }
   ],
   "source": [
    "evaluator = MulticlassClassificationEvaluator(labelCol=\"label\", predictionCol=\"prediction\", metricName=\"accuracy\")\n",
    "accuracy = evaluator.evaluate(predictions)\n",
    "print(\"Accuracy sore  = %g\" % (accuracy))\n",
    "print(\"Test Error = %g\" % (1.0 - accuracy))"
   ]
  },
  {
   "cell_type": "markdown",
   "metadata": {},
   "source": [
    "**On a Accuracy Score= 93% , ce qui signifie que la prédiction de 1 par 10 avis est incorrect, et 9 sont corrects !**"
   ]
  },
  {
   "cell_type": "markdown",
   "metadata": {},
   "source": [
    "### Classification Report "
   ]
  },
  {
   "cell_type": "markdown",
   "metadata": {},
   "source": [
    "Un rapport de classification est utilisé pour mesurer la qualité des prédictions ."
   ]
  },
  {
   "cell_type": "code",
   "execution_count": 42,
   "metadata": {
    "ExecuteTime": {
     "end_time": "2020-05-11T17:20:12.648985Z",
     "start_time": "2020-05-11T17:20:12.460854Z"
    }
   },
   "outputs": [
    {
     "name": "stdout",
     "output_type": "stream",
     "text": [
      "              precision    recall  f1-score   support\n",
      "\n",
      "         0.0       0.97      0.95      0.96      5228\n",
      "         1.0       0.67      0.78      0.72       704\n",
      "\n",
      "    accuracy                           0.93      5932\n",
      "   macro avg       0.82      0.86      0.84      5932\n",
      "weighted avg       0.93      0.93      0.93      5932\n",
      "\n"
     ]
    }
   ],
   "source": [
    "print(classification_report(y_true, y_pred))"
   ]
  },
  {
   "cell_type": "markdown",
   "metadata": {},
   "source": [
    "**On remarque** que le recall et la précision  des avis positifs (0) est parfaite , la précision pour les avis négatifs et moins bonne (67%) et le rell est tolérable ( 78% > 70 % )\n",
    "\n",
    "*Pour ne pas oublier : Precision:  When it predicts yes, how often is it correct?.. Recall ( Recall = True Positive Rate ): When it's actually yes, how often does it predict yes?*"
   ]
  },
  {
   "cell_type": "markdown",
   "metadata": {},
   "source": [
    "# Partie 02 : Prédiction de la classification des documents "
   ]
  },
  {
   "cell_type": "markdown",
   "metadata": {},
   "source": [
    "Il existe de nombreuses applications de la classification de texte dans le monde commercial. Par exemple, comme on a vu dans la partie précédente avec l'analyse des sentiments .\n",
    "Dans la plupart des cas, nos problèmes du monde réel sont beaucoup plus compliqués que cela avec la classification binaire. Et  c'est ce que nous allons faire dans cette partie .\n",
    "\n",
    "**Objectif : Utiliser Naïve Bayes Classification pour classer les crimes de San Francisco en 39 catégories prédéfinies , « \n",
    "San Francisco Crime Classification» ,les données peuvent être téléchargées depuis Kaggle : https://www.kaggle.com/c/sf-crime/data .**\n",
    "\n",
    "Il s'agit d'un problème de classification de texte multi-classes.\n",
    "\n"
   ]
  },
  {
   "cell_type": "markdown",
   "metadata": {},
   "source": [
    "## Getting Data"
   ]
  },
  {
   "cell_type": "code",
   "execution_count": 43,
   "metadata": {
    "ExecuteTime": {
     "end_time": "2020-05-11T17:23:28.003068Z",
     "start_time": "2020-05-11T17:23:24.953573Z"
    }
   },
   "outputs": [],
   "source": [
    "# Load  data\n",
    "data_crime = sqlContext.read.format('csv').options(header='true', inferschema='true').load('crime.csv')"
   ]
  },
  {
   "cell_type": "code",
   "execution_count": 44,
   "metadata": {
    "ExecuteTime": {
     "end_time": "2020-05-11T17:23:29.056914Z",
     "start_time": "2020-05-11T17:23:28.932253Z"
    }
   },
   "outputs": [
    {
     "name": "stdout",
     "output_type": "stream",
     "text": [
      "+-------------------+--------------+--------------------+---------+----------+--------------+--------------------+-------------------+------------------+\n",
      "|              Dates|      Category|            Descript|DayOfWeek|PdDistrict|    Resolution|             Address|                  X|                 Y|\n",
      "+-------------------+--------------+--------------------+---------+----------+--------------+--------------------+-------------------+------------------+\n",
      "|2015-05-13 23:53:00|      WARRANTS|      WARRANT ARREST|Wednesday|  NORTHERN|ARREST, BOOKED|  OAK ST / LAGUNA ST|  -122.425891675136|  37.7745985956747|\n",
      "|2015-05-13 23:53:00|OTHER OFFENSES|TRAFFIC VIOLATION...|Wednesday|  NORTHERN|ARREST, BOOKED|  OAK ST / LAGUNA ST|  -122.425891675136|  37.7745985956747|\n",
      "|2015-05-13 23:33:00|OTHER OFFENSES|TRAFFIC VIOLATION...|Wednesday|  NORTHERN|ARREST, BOOKED|VANNESS AV / GREE...|   -122.42436302145|  37.8004143219856|\n",
      "|2015-05-13 23:30:00| LARCENY/THEFT|GRAND THEFT FROM ...|Wednesday|  NORTHERN|          NONE|1500 Block of LOM...|-122.42699532676599| 37.80087263276921|\n",
      "|2015-05-13 23:30:00| LARCENY/THEFT|GRAND THEFT FROM ...|Wednesday|      PARK|          NONE|100 Block of BROD...|  -122.438737622757|37.771541172057795|\n",
      "+-------------------+--------------+--------------------+---------+----------+--------------+--------------------+-------------------+------------------+\n",
      "only showing top 5 rows\n",
      "\n"
     ]
    }
   ],
   "source": [
    "data_crime.show(5)"
   ]
  },
  {
   "cell_type": "code",
   "execution_count": 45,
   "metadata": {
    "ExecuteTime": {
     "end_time": "2020-05-11T17:23:41.403433Z",
     "start_time": "2020-05-11T17:23:41.075213Z"
    }
   },
   "outputs": [
    {
     "name": "stdout",
     "output_type": "stream",
     "text": [
      "(878049, 9)\n"
     ]
    }
   ],
   "source": [
    "print((data_crime.count(), len(data_crime.columns)))"
   ]
  },
  {
   "cell_type": "code",
   "execution_count": 46,
   "metadata": {
    "ExecuteTime": {
     "end_time": "2020-05-11T17:23:42.763952Z",
     "start_time": "2020-05-11T17:23:42.759938Z"
    }
   },
   "outputs": [
    {
     "name": "stdout",
     "output_type": "stream",
     "text": [
      "root\n",
      " |-- Dates: timestamp (nullable = true)\n",
      " |-- Category: string (nullable = true)\n",
      " |-- Descript: string (nullable = true)\n",
      " |-- DayOfWeek: string (nullable = true)\n",
      " |-- PdDistrict: string (nullable = true)\n",
      " |-- Resolution: string (nullable = true)\n",
      " |-- Address: string (nullable = true)\n",
      " |-- X: double (nullable = true)\n",
      " |-- Y: double (nullable = true)\n",
      "\n"
     ]
    }
   ],
   "source": [
    "data_crime.printSchema()"
   ]
  },
  {
   "cell_type": "markdown",
   "metadata": {},
   "source": [
    "## Preparing Data"
   ]
  },
  {
   "cell_type": "markdown",
   "metadata": {},
   "source": [
    "### Cleaning Data"
   ]
  },
  {
   "cell_type": "markdown",
   "metadata": {},
   "source": [
    "Dna ce TP , on abesoin que de “Descript” et “Category”. \n",
    "Exemple :  \n",
    "- **Input**: Descript ,STOLEN AUTOMOBILE\n",
    "- **Output**: Category , VEHICLE THEFT\n"
   ]
  },
  {
   "cell_type": "code",
   "execution_count": 47,
   "metadata": {
    "ExecuteTime": {
     "end_time": "2020-05-11T17:23:50.057893Z",
     "start_time": "2020-05-11T17:23:49.978163Z"
    }
   },
   "outputs": [
    {
     "name": "stdout",
     "output_type": "stream",
     "text": [
      "+--------------+--------------------+\n",
      "|      Category|            Descript|\n",
      "+--------------+--------------------+\n",
      "|      WARRANTS|      WARRANT ARREST|\n",
      "|OTHER OFFENSES|TRAFFIC VIOLATION...|\n",
      "|OTHER OFFENSES|TRAFFIC VIOLATION...|\n",
      "| LARCENY/THEFT|GRAND THEFT FROM ...|\n",
      "| LARCENY/THEFT|GRAND THEFT FROM ...|\n",
      "| LARCENY/THEFT|GRAND THEFT FROM ...|\n",
      "| VEHICLE THEFT|   STOLEN AUTOMOBILE|\n",
      "| VEHICLE THEFT|   STOLEN AUTOMOBILE|\n",
      "| LARCENY/THEFT|GRAND THEFT FROM ...|\n",
      "| LARCENY/THEFT|GRAND THEFT FROM ...|\n",
      "+--------------+--------------------+\n",
      "only showing top 10 rows\n",
      "\n"
     ]
    }
   ],
   "source": [
    "del_list = ['Dates', 'DayOfWeek', 'PdDistrict', 'Resolution', 'Address', 'X', 'Y']\n",
    "data_crime = data_crime.select([column for column in data_crime.columns if column not in del_list])\n",
    "data_crime.show(10)"
   ]
  },
  {
   "cell_type": "code",
   "execution_count": 48,
   "metadata": {
    "ExecuteTime": {
     "end_time": "2020-05-11T17:23:55.076440Z",
     "start_time": "2020-05-11T17:23:54.299450Z"
    }
   },
   "outputs": [
    {
     "name": "stdout",
     "output_type": "stream",
     "text": [
      "+--------+--------+\n",
      "|Category|Descript|\n",
      "+--------+--------+\n",
      "|       0|       0|\n",
      "+--------+--------+\n",
      "\n"
     ]
    }
   ],
   "source": [
    "#Count null values \n",
    "data_crime.select([count(when(col(c).isNull(), c)).alias(c) for c in data_crime.columns]).show()"
   ]
  },
  {
   "cell_type": "markdown",
   "metadata": {
    "ExecuteTime": {
     "end_time": "2020-05-02T11:57:16.478302Z",
     "start_time": "2020-05-02T11:57:16.391718Z"
    }
   },
   "source": [
    "### Eploring Data"
   ]
  },
  {
   "cell_type": "markdown",
   "metadata": {
    "ExecuteTime": {
     "end_time": "2020-05-02T11:59:00.024007Z",
     "start_time": "2020-05-02T11:59:00.008378Z"
    }
   },
   "source": [
    "#### Analyzing categories of crimes"
   ]
  },
  {
   "cell_type": "code",
   "execution_count": 49,
   "metadata": {
    "ExecuteTime": {
     "end_time": "2020-05-11T17:24:08.516755Z",
     "start_time": "2020-05-11T17:24:07.484979Z"
    }
   },
   "outputs": [
    {
     "name": "stdout",
     "output_type": "stream",
     "text": [
      "+--------------------+------+\n",
      "|            Category| count|\n",
      "+--------------------+------+\n",
      "|               FRAUD| 16679|\n",
      "|             SUICIDE|   508|\n",
      "|SEX OFFENSES FORC...|  4388|\n",
      "|         LIQUOR LAWS|  1903|\n",
      "|     SECONDARY CODES|  9985|\n",
      "|     FAMILY OFFENSES|   491|\n",
      "|      MISSING PERSON| 25989|\n",
      "|      OTHER OFFENSES|126182|\n",
      "|DRIVING UNDER THE...|  2268|\n",
      "|            WARRANTS| 42214|\n",
      "|               ARSON|  1513|\n",
      "|SEX OFFENSES NON ...|   148|\n",
      "|FORGERY/COUNTERFE...| 10609|\n",
      "|            GAMBLING|   146|\n",
      "|             BRIBERY|   289|\n",
      "|             ASSAULT| 76876|\n",
      "|         DRUNKENNESS|  4280|\n",
      "|           EXTORTION|   256|\n",
      "|                TREA|     6|\n",
      "|         WEAPON LAWS|  8555|\n",
      "+--------------------+------+\n",
      "only showing top 20 rows\n",
      "\n"
     ]
    }
   ],
   "source": [
    "data_crime.groupBy('Category').count().show()"
   ]
  },
  {
   "cell_type": "markdown",
   "metadata": {},
   "source": [
    "## Creating Model\n"
   ]
  },
  {
   "cell_type": "markdown",
   "metadata": {
    "ExecuteTime": {
     "end_time": "2020-05-11T15:34:10.290504Z",
     "start_time": "2020-05-11T15:34:10.287921Z"
    }
   },
   "source": [
    "### Preparing Pipeline"
   ]
  },
  {
   "cell_type": "code",
   "execution_count": 50,
   "metadata": {
    "ExecuteTime": {
     "end_time": "2020-05-11T17:24:17.992000Z",
     "start_time": "2020-05-11T17:24:17.958179Z"
    }
   },
   "outputs": [],
   "source": [
    "# regular expression tokenizer\n",
    "regexTokenizer_crime = RegexTokenizer(inputCol=\"Descript\", outputCol=\"words\", pattern=\"\\\\W\")\n",
    "# stop words\n",
    "stopwordsRemover_crime = StopWordsRemover(inputCol=\"words\", outputCol=\"filtered\").setStopWords(add_stopwords)\n",
    "# bag of words count\n",
    "countVectors_crime = CountVectorizer(inputCol=\"filtered\", outputCol=\"features\", vocabSize=10000, minDF=5)"
   ]
  },
  {
   "cell_type": "markdown",
   "metadata": {},
   "source": [
    "Dans notre 2 eime cas , the label column (Category) sera encodé label indices , allant de 0 a 32 "
   ]
  },
  {
   "cell_type": "code",
   "execution_count": 51,
   "metadata": {
    "ExecuteTime": {
     "end_time": "2020-05-11T17:24:29.698592Z",
     "start_time": "2020-05-11T17:24:27.044063Z"
    }
   },
   "outputs": [],
   "source": [
    "label_stringIdx_crime = StringIndexer(inputCol = \"Category\", outputCol = \"label\")\n",
    "pipeline = Pipeline(stages=[regexTokenizer_crime, stopwordsRemover_crime, countVectors_crime, label_stringIdx_crime])\n",
    "# Fit the pipeline to training documents.\n",
    "pipelineFit_crime = pipeline.fit(data_crime)\n",
    "dataset_crime = pipelineFit_crime.transform(data_crime)"
   ]
  },
  {
   "cell_type": "code",
   "execution_count": 52,
   "metadata": {
    "ExecuteTime": {
     "end_time": "2020-05-11T17:24:30.503318Z",
     "start_time": "2020-05-11T17:24:30.404577Z"
    }
   },
   "outputs": [
    {
     "name": "stdout",
     "output_type": "stream",
     "text": [
      "+--------------+--------------------+--------------------+--------------------+--------------------+-----+\n",
      "|      Category|            Descript|               words|            filtered|            features|label|\n",
      "+--------------+--------------------+--------------------+--------------------+--------------------+-----+\n",
      "|      WARRANTS|      WARRANT ARREST|   [warrant, arrest]|   [warrant, arrest]|(781,[13,26],[1.0...|  7.0|\n",
      "|OTHER OFFENSES|TRAFFIC VIOLATION...|[traffic, violati...|[traffic, violati...|(781,[8,13,29],[1...|  1.0|\n",
      "|OTHER OFFENSES|TRAFFIC VIOLATION...|[traffic, violati...|[traffic, violati...|(781,[8,13,29],[1...|  1.0|\n",
      "| LARCENY/THEFT|GRAND THEFT FROM ...|[grand, theft, fr...|[grand, theft, lo...|(781,[0,1,2,4],[1...|  0.0|\n",
      "| LARCENY/THEFT|GRAND THEFT FROM ...|[grand, theft, fr...|[grand, theft, lo...|(781,[0,1,2,4],[1...|  0.0|\n",
      "+--------------+--------------------+--------------------+--------------------+--------------------+-----+\n",
      "only showing top 5 rows\n",
      "\n"
     ]
    }
   ],
   "source": [
    "dataset_crime.show(5)"
   ]
  },
  {
   "cell_type": "markdown",
   "metadata": {},
   "source": [
    "### Splitting Data "
   ]
  },
  {
   "cell_type": "code",
   "execution_count": 53,
   "metadata": {
    "ExecuteTime": {
     "end_time": "2020-05-11T17:24:55.790696Z",
     "start_time": "2020-05-11T17:24:41.883770Z"
    }
   },
   "outputs": [
    {
     "name": "stdout",
     "output_type": "stream",
     "text": [
      "Training Dataset Count: 614666\n",
      "Test Dataset Count: 263383\n"
     ]
    }
   ],
   "source": [
    "(trainingData_crime, testData_crime) = dataset_crime.randomSplit([0.7, 0.3], seed = 100)\n",
    "print(\"Training Dataset Count: \" + str(trainingData_crime.count()))\n",
    "print(\"Test Dataset Count: \" + str(testData_crime.count()))"
   ]
  },
  {
   "cell_type": "markdown",
   "metadata": {},
   "source": [
    "### Fitting Model"
   ]
  },
  {
   "cell_type": "code",
   "execution_count": 54,
   "metadata": {
    "ExecuteTime": {
     "end_time": "2020-05-11T17:25:07.999086Z",
     "start_time": "2020-05-11T17:24:55.792693Z"
    }
   },
   "outputs": [],
   "source": [
    "nb_crime = NaiveBayes(smoothing=1)\n",
    "model_crime = nb_crime.fit(trainingData_crime)"
   ]
  },
  {
   "cell_type": "markdown",
   "metadata": {
    "ExecuteTime": {
     "end_time": "2020-05-02T13:44:22.073158Z",
     "start_time": "2020-05-02T13:44:22.070163Z"
    }
   },
   "source": [
    "## Testing & evaluating Model"
   ]
  },
  {
   "cell_type": "markdown",
   "metadata": {},
   "source": [
    "### Predictions"
   ]
  },
  {
   "cell_type": "code",
   "execution_count": 55,
   "metadata": {
    "ExecuteTime": {
     "end_time": "2020-05-11T17:25:10.843944Z",
     "start_time": "2020-05-11T17:25:10.822041Z"
    }
   },
   "outputs": [],
   "source": [
    "pred_crime = model_crime.transform(testData_crime)"
   ]
  },
  {
   "cell_type": "code",
   "execution_count": 57,
   "metadata": {
    "ExecuteTime": {
     "end_time": "2020-05-11T17:25:35.401267Z",
     "start_time": "2020-05-11T17:25:32.089157Z"
    }
   },
   "outputs": [
    {
     "name": "stdout",
     "output_type": "stream",
     "text": [
      "+--------+--------+-------+--------+-----------------+-----+--------------------+--------------------+----------+\n",
      "|Category|Descript|  words|filtered|         features|label|       rawPrediction|         probability|prediction|\n",
      "+--------+--------+-------+--------+-----------------+-----+--------------------+--------------------+----------+\n",
      "|   ARSON|   ARSON|[arson]| [arson]|(781,[183],[1.0])| 27.0|[-14.593920355372...|[7.12491829246598...|      27.0|\n",
      "|   ARSON|   ARSON|[arson]| [arson]|(781,[183],[1.0])| 27.0|[-14.593920355372...|[7.12491829246598...|      27.0|\n",
      "|   ARSON|   ARSON|[arson]| [arson]|(781,[183],[1.0])| 27.0|[-14.593920355372...|[7.12491829246598...|      27.0|\n",
      "|   ARSON|   ARSON|[arson]| [arson]|(781,[183],[1.0])| 27.0|[-14.593920355372...|[7.12491829246598...|      27.0|\n",
      "|   ARSON|   ARSON|[arson]| [arson]|(781,[183],[1.0])| 27.0|[-14.593920355372...|[7.12491829246598...|      27.0|\n",
      "|   ARSON|   ARSON|[arson]| [arson]|(781,[183],[1.0])| 27.0|[-14.593920355372...|[7.12491829246598...|      27.0|\n",
      "|   ARSON|   ARSON|[arson]| [arson]|(781,[183],[1.0])| 27.0|[-14.593920355372...|[7.12491829246598...|      27.0|\n",
      "|   ARSON|   ARSON|[arson]| [arson]|(781,[183],[1.0])| 27.0|[-14.593920355372...|[7.12491829246598...|      27.0|\n",
      "|   ARSON|   ARSON|[arson]| [arson]|(781,[183],[1.0])| 27.0|[-14.593920355372...|[7.12491829246598...|      27.0|\n",
      "|   ARSON|   ARSON|[arson]| [arson]|(781,[183],[1.0])| 27.0|[-14.593920355372...|[7.12491829246598...|      27.0|\n",
      "|   ARSON|   ARSON|[arson]| [arson]|(781,[183],[1.0])| 27.0|[-14.593920355372...|[7.12491829246598...|      27.0|\n",
      "|   ARSON|   ARSON|[arson]| [arson]|(781,[183],[1.0])| 27.0|[-14.593920355372...|[7.12491829246598...|      27.0|\n",
      "|   ARSON|   ARSON|[arson]| [arson]|(781,[183],[1.0])| 27.0|[-14.593920355372...|[7.12491829246598...|      27.0|\n",
      "|   ARSON|   ARSON|[arson]| [arson]|(781,[183],[1.0])| 27.0|[-14.593920355372...|[7.12491829246598...|      27.0|\n",
      "|   ARSON|   ARSON|[arson]| [arson]|(781,[183],[1.0])| 27.0|[-14.593920355372...|[7.12491829246598...|      27.0|\n",
      "+--------+--------+-------+--------+-----------------+-----+--------------------+--------------------+----------+\n",
      "only showing top 15 rows\n",
      "\n"
     ]
    }
   ],
   "source": [
    "pred_crime.show(15)"
   ]
  },
  {
   "cell_type": "markdown",
   "metadata": {},
   "source": [
    "### Confusion Matrice "
   ]
  },
  {
   "cell_type": "code",
   "execution_count": 59,
   "metadata": {
    "ExecuteTime": {
     "end_time": "2020-05-11T17:27:30.739025Z",
     "start_time": "2020-05-11T17:27:16.387715Z"
    }
   },
   "outputs": [],
   "source": [
    "y_true_crime = pred_crime.select(['label']).collect()\n",
    "y_pred_crime = pred_crime.select(['prediction']).collect()"
   ]
  },
  {
   "cell_type": "code",
   "execution_count": 69,
   "metadata": {
    "ExecuteTime": {
     "end_time": "2020-05-11T17:33:59.095978Z",
     "start_time": "2020-05-11T17:33:51.979223Z"
    }
   },
   "outputs": [],
   "source": [
    "xx=pred_crime.stat.crosstab('label','prediction')"
   ]
  },
  {
   "cell_type": "code",
   "execution_count": 70,
   "metadata": {
    "ExecuteTime": {
     "end_time": "2020-05-11T17:35:02.906130Z",
     "start_time": "2020-05-11T17:35:02.857451Z"
    }
   },
   "outputs": [],
   "source": [
    "pandas_df = xx.toPandas()"
   ]
  },
  {
   "cell_type": "code",
   "execution_count": 71,
   "metadata": {
    "ExecuteTime": {
     "end_time": "2020-05-11T17:35:10.468627Z",
     "start_time": "2020-05-11T17:35:10.433051Z"
    }
   },
   "outputs": [
    {
     "data": {
      "text/html": [
       "<div>\n",
       "<style scoped>\n",
       "    .dataframe tbody tr th:only-of-type {\n",
       "        vertical-align: middle;\n",
       "    }\n",
       "\n",
       "    .dataframe tbody tr th {\n",
       "        vertical-align: top;\n",
       "    }\n",
       "\n",
       "    .dataframe thead th {\n",
       "        text-align: right;\n",
       "    }\n",
       "</style>\n",
       "<table border=\"1\" class=\"dataframe\">\n",
       "  <thead>\n",
       "    <tr style=\"text-align: right;\">\n",
       "      <th></th>\n",
       "      <th>label_prediction</th>\n",
       "      <th>0.0</th>\n",
       "      <th>1.0</th>\n",
       "      <th>10.0</th>\n",
       "      <th>11.0</th>\n",
       "      <th>12.0</th>\n",
       "      <th>13.0</th>\n",
       "      <th>14.0</th>\n",
       "      <th>15.0</th>\n",
       "      <th>16.0</th>\n",
       "      <th>...</th>\n",
       "      <th>35.0</th>\n",
       "      <th>36.0</th>\n",
       "      <th>37.0</th>\n",
       "      <th>38.0</th>\n",
       "      <th>4.0</th>\n",
       "      <th>5.0</th>\n",
       "      <th>6.0</th>\n",
       "      <th>7.0</th>\n",
       "      <th>8.0</th>\n",
       "      <th>9.0</th>\n",
       "    </tr>\n",
       "  </thead>\n",
       "  <tbody>\n",
       "    <tr>\n",
       "      <th>0</th>\n",
       "      <td>0.0</td>\n",
       "      <td>52271</td>\n",
       "      <td>0</td>\n",
       "      <td>0</td>\n",
       "      <td>0</td>\n",
       "      <td>0</td>\n",
       "      <td>0</td>\n",
       "      <td>0</td>\n",
       "      <td>0</td>\n",
       "      <td>0</td>\n",
       "      <td>...</td>\n",
       "      <td>0</td>\n",
       "      <td>0</td>\n",
       "      <td>0</td>\n",
       "      <td>0</td>\n",
       "      <td>0</td>\n",
       "      <td>0</td>\n",
       "      <td>0</td>\n",
       "      <td>0</td>\n",
       "      <td>0</td>\n",
       "      <td>0</td>\n",
       "    </tr>\n",
       "    <tr>\n",
       "      <th>1</th>\n",
       "      <td>5.0</td>\n",
       "      <td>16</td>\n",
       "      <td>0</td>\n",
       "      <td>0</td>\n",
       "      <td>0</td>\n",
       "      <td>0</td>\n",
       "      <td>0</td>\n",
       "      <td>0</td>\n",
       "      <td>0</td>\n",
       "      <td>0</td>\n",
       "      <td>...</td>\n",
       "      <td>0</td>\n",
       "      <td>0</td>\n",
       "      <td>0</td>\n",
       "      <td>0</td>\n",
       "      <td>0</td>\n",
       "      <td>15852</td>\n",
       "      <td>0</td>\n",
       "      <td>0</td>\n",
       "      <td>0</td>\n",
       "      <td>0</td>\n",
       "    </tr>\n",
       "    <tr>\n",
       "      <th>2</th>\n",
       "      <td>10.0</td>\n",
       "      <td>0</td>\n",
       "      <td>0</td>\n",
       "      <td>7705</td>\n",
       "      <td>0</td>\n",
       "      <td>0</td>\n",
       "      <td>0</td>\n",
       "      <td>0</td>\n",
       "      <td>0</td>\n",
       "      <td>0</td>\n",
       "      <td>...</td>\n",
       "      <td>0</td>\n",
       "      <td>0</td>\n",
       "      <td>0</td>\n",
       "      <td>0</td>\n",
       "      <td>0</td>\n",
       "      <td>0</td>\n",
       "      <td>0</td>\n",
       "      <td>0</td>\n",
       "      <td>0</td>\n",
       "      <td>0</td>\n",
       "    </tr>\n",
       "    <tr>\n",
       "      <th>3</th>\n",
       "      <td>24.0</td>\n",
       "      <td>0</td>\n",
       "      <td>0</td>\n",
       "      <td>0</td>\n",
       "      <td>0</td>\n",
       "      <td>0</td>\n",
       "      <td>0</td>\n",
       "      <td>0</td>\n",
       "      <td>0</td>\n",
       "      <td>0</td>\n",
       "      <td>...</td>\n",
       "      <td>0</td>\n",
       "      <td>0</td>\n",
       "      <td>0</td>\n",
       "      <td>0</td>\n",
       "      <td>0</td>\n",
       "      <td>0</td>\n",
       "      <td>0</td>\n",
       "      <td>0</td>\n",
       "      <td>0</td>\n",
       "      <td>0</td>\n",
       "    </tr>\n",
       "    <tr>\n",
       "      <th>4</th>\n",
       "      <td>37.0</td>\n",
       "      <td>0</td>\n",
       "      <td>0</td>\n",
       "      <td>0</td>\n",
       "      <td>0</td>\n",
       "      <td>0</td>\n",
       "      <td>0</td>\n",
       "      <td>0</td>\n",
       "      <td>0</td>\n",
       "      <td>0</td>\n",
       "      <td>...</td>\n",
       "      <td>0</td>\n",
       "      <td>0</td>\n",
       "      <td>6</td>\n",
       "      <td>0</td>\n",
       "      <td>0</td>\n",
       "      <td>0</td>\n",
       "      <td>0</td>\n",
       "      <td>0</td>\n",
       "      <td>0</td>\n",
       "      <td>0</td>\n",
       "    </tr>\n",
       "    <tr>\n",
       "      <th>5</th>\n",
       "      <td>25.0</td>\n",
       "      <td>0</td>\n",
       "      <td>0</td>\n",
       "      <td>0</td>\n",
       "      <td>0</td>\n",
       "      <td>0</td>\n",
       "      <td>0</td>\n",
       "      <td>0</td>\n",
       "      <td>0</td>\n",
       "      <td>0</td>\n",
       "      <td>...</td>\n",
       "      <td>0</td>\n",
       "      <td>0</td>\n",
       "      <td>0</td>\n",
       "      <td>0</td>\n",
       "      <td>0</td>\n",
       "      <td>0</td>\n",
       "      <td>0</td>\n",
       "      <td>0</td>\n",
       "      <td>0</td>\n",
       "      <td>0</td>\n",
       "    </tr>\n",
       "    <tr>\n",
       "      <th>6</th>\n",
       "      <td>14.0</td>\n",
       "      <td>0</td>\n",
       "      <td>0</td>\n",
       "      <td>0</td>\n",
       "      <td>0</td>\n",
       "      <td>0</td>\n",
       "      <td>0</td>\n",
       "      <td>3047</td>\n",
       "      <td>0</td>\n",
       "      <td>0</td>\n",
       "      <td>...</td>\n",
       "      <td>0</td>\n",
       "      <td>0</td>\n",
       "      <td>0</td>\n",
       "      <td>0</td>\n",
       "      <td>0</td>\n",
       "      <td>0</td>\n",
       "      <td>0</td>\n",
       "      <td>0</td>\n",
       "      <td>0</td>\n",
       "      <td>0</td>\n",
       "    </tr>\n",
       "    <tr>\n",
       "      <th>7</th>\n",
       "      <td>20.0</td>\n",
       "      <td>0</td>\n",
       "      <td>0</td>\n",
       "      <td>0</td>\n",
       "      <td>0</td>\n",
       "      <td>0</td>\n",
       "      <td>0</td>\n",
       "      <td>0</td>\n",
       "      <td>0</td>\n",
       "      <td>0</td>\n",
       "      <td>...</td>\n",
       "      <td>0</td>\n",
       "      <td>0</td>\n",
       "      <td>0</td>\n",
       "      <td>0</td>\n",
       "      <td>0</td>\n",
       "      <td>0</td>\n",
       "      <td>0</td>\n",
       "      <td>0</td>\n",
       "      <td>0</td>\n",
       "      <td>0</td>\n",
       "    </tr>\n",
       "    <tr>\n",
       "      <th>8</th>\n",
       "      <td>29.0</td>\n",
       "      <td>0</td>\n",
       "      <td>0</td>\n",
       "      <td>0</td>\n",
       "      <td>0</td>\n",
       "      <td>0</td>\n",
       "      <td>0</td>\n",
       "      <td>0</td>\n",
       "      <td>0</td>\n",
       "      <td>0</td>\n",
       "      <td>...</td>\n",
       "      <td>0</td>\n",
       "      <td>0</td>\n",
       "      <td>0</td>\n",
       "      <td>0</td>\n",
       "      <td>0</td>\n",
       "      <td>0</td>\n",
       "      <td>0</td>\n",
       "      <td>0</td>\n",
       "      <td>0</td>\n",
       "      <td>0</td>\n",
       "    </tr>\n",
       "    <tr>\n",
       "      <th>9</th>\n",
       "      <td>1.0</td>\n",
       "      <td>6</td>\n",
       "      <td>37516</td>\n",
       "      <td>31</td>\n",
       "      <td>14</td>\n",
       "      <td>2</td>\n",
       "      <td>0</td>\n",
       "      <td>0</td>\n",
       "      <td>18</td>\n",
       "      <td>0</td>\n",
       "      <td>...</td>\n",
       "      <td>1</td>\n",
       "      <td>14</td>\n",
       "      <td>4</td>\n",
       "      <td>0</td>\n",
       "      <td>1</td>\n",
       "      <td>184</td>\n",
       "      <td>0</td>\n",
       "      <td>0</td>\n",
       "      <td>0</td>\n",
       "      <td>0</td>\n",
       "    </tr>\n",
       "    <tr>\n",
       "      <th>10</th>\n",
       "      <td>6.0</td>\n",
       "      <td>1</td>\n",
       "      <td>0</td>\n",
       "      <td>0</td>\n",
       "      <td>0</td>\n",
       "      <td>0</td>\n",
       "      <td>0</td>\n",
       "      <td>0</td>\n",
       "      <td>0</td>\n",
       "      <td>0</td>\n",
       "      <td>...</td>\n",
       "      <td>0</td>\n",
       "      <td>0</td>\n",
       "      <td>0</td>\n",
       "      <td>0</td>\n",
       "      <td>0</td>\n",
       "      <td>0</td>\n",
       "      <td>13423</td>\n",
       "      <td>0</td>\n",
       "      <td>0</td>\n",
       "      <td>0</td>\n",
       "    </tr>\n",
       "    <tr>\n",
       "      <th>11</th>\n",
       "      <td>28.0</td>\n",
       "      <td>0</td>\n",
       "      <td>0</td>\n",
       "      <td>0</td>\n",
       "      <td>0</td>\n",
       "      <td>0</td>\n",
       "      <td>0</td>\n",
       "      <td>0</td>\n",
       "      <td>0</td>\n",
       "      <td>113</td>\n",
       "      <td>...</td>\n",
       "      <td>0</td>\n",
       "      <td>0</td>\n",
       "      <td>0</td>\n",
       "      <td>0</td>\n",
       "      <td>0</td>\n",
       "      <td>0</td>\n",
       "      <td>0</td>\n",
       "      <td>0</td>\n",
       "      <td>0</td>\n",
       "      <td>0</td>\n",
       "    </tr>\n",
       "    <tr>\n",
       "      <th>12</th>\n",
       "      <td>38.0</td>\n",
       "      <td>0</td>\n",
       "      <td>0</td>\n",
       "      <td>0</td>\n",
       "      <td>0</td>\n",
       "      <td>0</td>\n",
       "      <td>0</td>\n",
       "      <td>0</td>\n",
       "      <td>0</td>\n",
       "      <td>0</td>\n",
       "      <td>...</td>\n",
       "      <td>0</td>\n",
       "      <td>0</td>\n",
       "      <td>0</td>\n",
       "      <td>2</td>\n",
       "      <td>0</td>\n",
       "      <td>0</td>\n",
       "      <td>0</td>\n",
       "      <td>0</td>\n",
       "      <td>0</td>\n",
       "      <td>0</td>\n",
       "    </tr>\n",
       "    <tr>\n",
       "      <th>13</th>\n",
       "      <td>21.0</td>\n",
       "      <td>0</td>\n",
       "      <td>0</td>\n",
       "      <td>0</td>\n",
       "      <td>0</td>\n",
       "      <td>0</td>\n",
       "      <td>0</td>\n",
       "      <td>0</td>\n",
       "      <td>0</td>\n",
       "      <td>0</td>\n",
       "      <td>...</td>\n",
       "      <td>0</td>\n",
       "      <td>0</td>\n",
       "      <td>0</td>\n",
       "      <td>0</td>\n",
       "      <td>0</td>\n",
       "      <td>0</td>\n",
       "      <td>0</td>\n",
       "      <td>0</td>\n",
       "      <td>0</td>\n",
       "      <td>0</td>\n",
       "    </tr>\n",
       "    <tr>\n",
       "      <th>14</th>\n",
       "      <td>33.0</td>\n",
       "      <td>0</td>\n",
       "      <td>0</td>\n",
       "      <td>0</td>\n",
       "      <td>0</td>\n",
       "      <td>0</td>\n",
       "      <td>0</td>\n",
       "      <td>0</td>\n",
       "      <td>0</td>\n",
       "      <td>0</td>\n",
       "      <td>...</td>\n",
       "      <td>0</td>\n",
       "      <td>0</td>\n",
       "      <td>0</td>\n",
       "      <td>0</td>\n",
       "      <td>0</td>\n",
       "      <td>0</td>\n",
       "      <td>0</td>\n",
       "      <td>0</td>\n",
       "      <td>0</td>\n",
       "      <td>0</td>\n",
       "    </tr>\n",
       "    <tr>\n",
       "      <th>15</th>\n",
       "      <td>9.0</td>\n",
       "      <td>0</td>\n",
       "      <td>0</td>\n",
       "      <td>0</td>\n",
       "      <td>0</td>\n",
       "      <td>0</td>\n",
       "      <td>0</td>\n",
       "      <td>0</td>\n",
       "      <td>0</td>\n",
       "      <td>0</td>\n",
       "      <td>...</td>\n",
       "      <td>0</td>\n",
       "      <td>0</td>\n",
       "      <td>0</td>\n",
       "      <td>0</td>\n",
       "      <td>0</td>\n",
       "      <td>0</td>\n",
       "      <td>0</td>\n",
       "      <td>0</td>\n",
       "      <td>0</td>\n",
       "      <td>9503</td>\n",
       "    </tr>\n",
       "    <tr>\n",
       "      <th>16</th>\n",
       "      <td>13.0</td>\n",
       "      <td>0</td>\n",
       "      <td>0</td>\n",
       "      <td>0</td>\n",
       "      <td>0</td>\n",
       "      <td>0</td>\n",
       "      <td>3188</td>\n",
       "      <td>0</td>\n",
       "      <td>0</td>\n",
       "      <td>0</td>\n",
       "      <td>...</td>\n",
       "      <td>0</td>\n",
       "      <td>0</td>\n",
       "      <td>0</td>\n",
       "      <td>0</td>\n",
       "      <td>0</td>\n",
       "      <td>0</td>\n",
       "      <td>0</td>\n",
       "      <td>0</td>\n",
       "      <td>0</td>\n",
       "      <td>0</td>\n",
       "    </tr>\n",
       "    <tr>\n",
       "      <th>17</th>\n",
       "      <td>2.0</td>\n",
       "      <td>1</td>\n",
       "      <td>42</td>\n",
       "      <td>0</td>\n",
       "      <td>0</td>\n",
       "      <td>0</td>\n",
       "      <td>0</td>\n",
       "      <td>0</td>\n",
       "      <td>0</td>\n",
       "      <td>0</td>\n",
       "      <td>...</td>\n",
       "      <td>0</td>\n",
       "      <td>0</td>\n",
       "      <td>0</td>\n",
       "      <td>0</td>\n",
       "      <td>0</td>\n",
       "      <td>12</td>\n",
       "      <td>0</td>\n",
       "      <td>0</td>\n",
       "      <td>0</td>\n",
       "      <td>0</td>\n",
       "    </tr>\n",
       "    <tr>\n",
       "      <th>18</th>\n",
       "      <td>32.0</td>\n",
       "      <td>0</td>\n",
       "      <td>0</td>\n",
       "      <td>0</td>\n",
       "      <td>0</td>\n",
       "      <td>0</td>\n",
       "      <td>0</td>\n",
       "      <td>0</td>\n",
       "      <td>0</td>\n",
       "      <td>0</td>\n",
       "      <td>...</td>\n",
       "      <td>0</td>\n",
       "      <td>0</td>\n",
       "      <td>0</td>\n",
       "      <td>0</td>\n",
       "      <td>0</td>\n",
       "      <td>0</td>\n",
       "      <td>0</td>\n",
       "      <td>0</td>\n",
       "      <td>0</td>\n",
       "      <td>0</td>\n",
       "    </tr>\n",
       "    <tr>\n",
       "      <th>19</th>\n",
       "      <td>34.0</td>\n",
       "      <td>0</td>\n",
       "      <td>0</td>\n",
       "      <td>0</td>\n",
       "      <td>0</td>\n",
       "      <td>0</td>\n",
       "      <td>0</td>\n",
       "      <td>0</td>\n",
       "      <td>0</td>\n",
       "      <td>0</td>\n",
       "      <td>...</td>\n",
       "      <td>0</td>\n",
       "      <td>0</td>\n",
       "      <td>0</td>\n",
       "      <td>0</td>\n",
       "      <td>0</td>\n",
       "      <td>0</td>\n",
       "      <td>0</td>\n",
       "      <td>0</td>\n",
       "      <td>0</td>\n",
       "      <td>0</td>\n",
       "    </tr>\n",
       "    <tr>\n",
       "      <th>20</th>\n",
       "      <td>17.0</td>\n",
       "      <td>0</td>\n",
       "      <td>0</td>\n",
       "      <td>0</td>\n",
       "      <td>0</td>\n",
       "      <td>0</td>\n",
       "      <td>0</td>\n",
       "      <td>0</td>\n",
       "      <td>0</td>\n",
       "      <td>0</td>\n",
       "      <td>...</td>\n",
       "      <td>0</td>\n",
       "      <td>0</td>\n",
       "      <td>0</td>\n",
       "      <td>0</td>\n",
       "      <td>0</td>\n",
       "      <td>0</td>\n",
       "      <td>0</td>\n",
       "      <td>0</td>\n",
       "      <td>0</td>\n",
       "      <td>0</td>\n",
       "    </tr>\n",
       "    <tr>\n",
       "      <th>21</th>\n",
       "      <td>22.0</td>\n",
       "      <td>0</td>\n",
       "      <td>0</td>\n",
       "      <td>0</td>\n",
       "      <td>0</td>\n",
       "      <td>0</td>\n",
       "      <td>0</td>\n",
       "      <td>0</td>\n",
       "      <td>0</td>\n",
       "      <td>0</td>\n",
       "      <td>...</td>\n",
       "      <td>0</td>\n",
       "      <td>0</td>\n",
       "      <td>0</td>\n",
       "      <td>0</td>\n",
       "      <td>0</td>\n",
       "      <td>66</td>\n",
       "      <td>0</td>\n",
       "      <td>0</td>\n",
       "      <td>0</td>\n",
       "      <td>0</td>\n",
       "    </tr>\n",
       "    <tr>\n",
       "      <th>22</th>\n",
       "      <td>27.0</td>\n",
       "      <td>0</td>\n",
       "      <td>0</td>\n",
       "      <td>0</td>\n",
       "      <td>0</td>\n",
       "      <td>0</td>\n",
       "      <td>0</td>\n",
       "      <td>0</td>\n",
       "      <td>0</td>\n",
       "      <td>0</td>\n",
       "      <td>...</td>\n",
       "      <td>0</td>\n",
       "      <td>0</td>\n",
       "      <td>0</td>\n",
       "      <td>0</td>\n",
       "      <td>0</td>\n",
       "      <td>0</td>\n",
       "      <td>0</td>\n",
       "      <td>0</td>\n",
       "      <td>0</td>\n",
       "      <td>0</td>\n",
       "    </tr>\n",
       "    <tr>\n",
       "      <th>23</th>\n",
       "      <td>12.0</td>\n",
       "      <td>0</td>\n",
       "      <td>2</td>\n",
       "      <td>0</td>\n",
       "      <td>0</td>\n",
       "      <td>4966</td>\n",
       "      <td>0</td>\n",
       "      <td>0</td>\n",
       "      <td>0</td>\n",
       "      <td>0</td>\n",
       "      <td>...</td>\n",
       "      <td>0</td>\n",
       "      <td>0</td>\n",
       "      <td>0</td>\n",
       "      <td>0</td>\n",
       "      <td>0</td>\n",
       "      <td>0</td>\n",
       "      <td>0</td>\n",
       "      <td>0</td>\n",
       "      <td>0</td>\n",
       "      <td>0</td>\n",
       "    </tr>\n",
       "    <tr>\n",
       "      <th>24</th>\n",
       "      <td>7.0</td>\n",
       "      <td>0</td>\n",
       "      <td>0</td>\n",
       "      <td>0</td>\n",
       "      <td>0</td>\n",
       "      <td>0</td>\n",
       "      <td>0</td>\n",
       "      <td>0</td>\n",
       "      <td>0</td>\n",
       "      <td>0</td>\n",
       "      <td>...</td>\n",
       "      <td>0</td>\n",
       "      <td>0</td>\n",
       "      <td>0</td>\n",
       "      <td>0</td>\n",
       "      <td>0</td>\n",
       "      <td>0</td>\n",
       "      <td>0</td>\n",
       "      <td>12589</td>\n",
       "      <td>0</td>\n",
       "      <td>0</td>\n",
       "    </tr>\n",
       "    <tr>\n",
       "      <th>25</th>\n",
       "      <td>3.0</td>\n",
       "      <td>0</td>\n",
       "      <td>0</td>\n",
       "      <td>0</td>\n",
       "      <td>0</td>\n",
       "      <td>0</td>\n",
       "      <td>0</td>\n",
       "      <td>0</td>\n",
       "      <td>0</td>\n",
       "      <td>0</td>\n",
       "      <td>...</td>\n",
       "      <td>0</td>\n",
       "      <td>7</td>\n",
       "      <td>0</td>\n",
       "      <td>0</td>\n",
       "      <td>0</td>\n",
       "      <td>0</td>\n",
       "      <td>0</td>\n",
       "      <td>0</td>\n",
       "      <td>0</td>\n",
       "      <td>0</td>\n",
       "    </tr>\n",
       "    <tr>\n",
       "      <th>26</th>\n",
       "      <td>35.0</td>\n",
       "      <td>0</td>\n",
       "      <td>0</td>\n",
       "      <td>0</td>\n",
       "      <td>0</td>\n",
       "      <td>0</td>\n",
       "      <td>0</td>\n",
       "      <td>0</td>\n",
       "      <td>0</td>\n",
       "      <td>0</td>\n",
       "      <td>...</td>\n",
       "      <td>40</td>\n",
       "      <td>0</td>\n",
       "      <td>0</td>\n",
       "      <td>0</td>\n",
       "      <td>0</td>\n",
       "      <td>0</td>\n",
       "      <td>0</td>\n",
       "      <td>0</td>\n",
       "      <td>0</td>\n",
       "      <td>0</td>\n",
       "    </tr>\n",
       "    <tr>\n",
       "      <th>27</th>\n",
       "      <td>18.0</td>\n",
       "      <td>0</td>\n",
       "      <td>0</td>\n",
       "      <td>0</td>\n",
       "      <td>0</td>\n",
       "      <td>0</td>\n",
       "      <td>0</td>\n",
       "      <td>0</td>\n",
       "      <td>0</td>\n",
       "      <td>0</td>\n",
       "      <td>...</td>\n",
       "      <td>0</td>\n",
       "      <td>0</td>\n",
       "      <td>0</td>\n",
       "      <td>0</td>\n",
       "      <td>0</td>\n",
       "      <td>0</td>\n",
       "      <td>0</td>\n",
       "      <td>0</td>\n",
       "      <td>0</td>\n",
       "      <td>0</td>\n",
       "    </tr>\n",
       "    <tr>\n",
       "      <th>28</th>\n",
       "      <td>16.0</td>\n",
       "      <td>0</td>\n",
       "      <td>0</td>\n",
       "      <td>0</td>\n",
       "      <td>0</td>\n",
       "      <td>0</td>\n",
       "      <td>0</td>\n",
       "      <td>0</td>\n",
       "      <td>0</td>\n",
       "      <td>2248</td>\n",
       "      <td>...</td>\n",
       "      <td>0</td>\n",
       "      <td>0</td>\n",
       "      <td>0</td>\n",
       "      <td>0</td>\n",
       "      <td>0</td>\n",
       "      <td>0</td>\n",
       "      <td>0</td>\n",
       "      <td>0</td>\n",
       "      <td>1</td>\n",
       "      <td>0</td>\n",
       "    </tr>\n",
       "    <tr>\n",
       "      <th>29</th>\n",
       "      <td>31.0</td>\n",
       "      <td>0</td>\n",
       "      <td>0</td>\n",
       "      <td>0</td>\n",
       "      <td>0</td>\n",
       "      <td>0</td>\n",
       "      <td>0</td>\n",
       "      <td>0</td>\n",
       "      <td>0</td>\n",
       "      <td>0</td>\n",
       "      <td>...</td>\n",
       "      <td>0</td>\n",
       "      <td>0</td>\n",
       "      <td>0</td>\n",
       "      <td>0</td>\n",
       "      <td>0</td>\n",
       "      <td>0</td>\n",
       "      <td>0</td>\n",
       "      <td>0</td>\n",
       "      <td>0</td>\n",
       "      <td>0</td>\n",
       "    </tr>\n",
       "    <tr>\n",
       "      <th>30</th>\n",
       "      <td>11.0</td>\n",
       "      <td>0</td>\n",
       "      <td>0</td>\n",
       "      <td>0</td>\n",
       "      <td>6776</td>\n",
       "      <td>0</td>\n",
       "      <td>0</td>\n",
       "      <td>0</td>\n",
       "      <td>0</td>\n",
       "      <td>0</td>\n",
       "      <td>...</td>\n",
       "      <td>0</td>\n",
       "      <td>0</td>\n",
       "      <td>0</td>\n",
       "      <td>0</td>\n",
       "      <td>0</td>\n",
       "      <td>0</td>\n",
       "      <td>0</td>\n",
       "      <td>0</td>\n",
       "      <td>0</td>\n",
       "      <td>0</td>\n",
       "    </tr>\n",
       "    <tr>\n",
       "      <th>31</th>\n",
       "      <td>26.0</td>\n",
       "      <td>0</td>\n",
       "      <td>0</td>\n",
       "      <td>0</td>\n",
       "      <td>0</td>\n",
       "      <td>0</td>\n",
       "      <td>0</td>\n",
       "      <td>0</td>\n",
       "      <td>0</td>\n",
       "      <td>0</td>\n",
       "      <td>...</td>\n",
       "      <td>0</td>\n",
       "      <td>0</td>\n",
       "      <td>0</td>\n",
       "      <td>0</td>\n",
       "      <td>0</td>\n",
       "      <td>0</td>\n",
       "      <td>0</td>\n",
       "      <td>0</td>\n",
       "      <td>0</td>\n",
       "      <td>0</td>\n",
       "    </tr>\n",
       "    <tr>\n",
       "      <th>32</th>\n",
       "      <td>23.0</td>\n",
       "      <td>1</td>\n",
       "      <td>0</td>\n",
       "      <td>0</td>\n",
       "      <td>0</td>\n",
       "      <td>0</td>\n",
       "      <td>0</td>\n",
       "      <td>0</td>\n",
       "      <td>0</td>\n",
       "      <td>0</td>\n",
       "      <td>...</td>\n",
       "      <td>0</td>\n",
       "      <td>0</td>\n",
       "      <td>0</td>\n",
       "      <td>0</td>\n",
       "      <td>0</td>\n",
       "      <td>0</td>\n",
       "      <td>0</td>\n",
       "      <td>0</td>\n",
       "      <td>0</td>\n",
       "      <td>0</td>\n",
       "    </tr>\n",
       "    <tr>\n",
       "      <th>33</th>\n",
       "      <td>8.0</td>\n",
       "      <td>0</td>\n",
       "      <td>0</td>\n",
       "      <td>0</td>\n",
       "      <td>0</td>\n",
       "      <td>0</td>\n",
       "      <td>0</td>\n",
       "      <td>0</td>\n",
       "      <td>0</td>\n",
       "      <td>0</td>\n",
       "      <td>...</td>\n",
       "      <td>0</td>\n",
       "      <td>0</td>\n",
       "      <td>0</td>\n",
       "      <td>0</td>\n",
       "      <td>0</td>\n",
       "      <td>0</td>\n",
       "      <td>0</td>\n",
       "      <td>0</td>\n",
       "      <td>11028</td>\n",
       "      <td>0</td>\n",
       "    </tr>\n",
       "    <tr>\n",
       "      <th>34</th>\n",
       "      <td>36.0</td>\n",
       "      <td>1</td>\n",
       "      <td>0</td>\n",
       "      <td>0</td>\n",
       "      <td>0</td>\n",
       "      <td>0</td>\n",
       "      <td>0</td>\n",
       "      <td>0</td>\n",
       "      <td>0</td>\n",
       "      <td>0</td>\n",
       "      <td>...</td>\n",
       "      <td>0</td>\n",
       "      <td>39</td>\n",
       "      <td>0</td>\n",
       "      <td>0</td>\n",
       "      <td>0</td>\n",
       "      <td>0</td>\n",
       "      <td>0</td>\n",
       "      <td>0</td>\n",
       "      <td>0</td>\n",
       "      <td>0</td>\n",
       "    </tr>\n",
       "    <tr>\n",
       "      <th>35</th>\n",
       "      <td>30.0</td>\n",
       "      <td>0</td>\n",
       "      <td>0</td>\n",
       "      <td>0</td>\n",
       "      <td>0</td>\n",
       "      <td>0</td>\n",
       "      <td>0</td>\n",
       "      <td>0</td>\n",
       "      <td>0</td>\n",
       "      <td>0</td>\n",
       "      <td>...</td>\n",
       "      <td>0</td>\n",
       "      <td>0</td>\n",
       "      <td>0</td>\n",
       "      <td>0</td>\n",
       "      <td>0</td>\n",
       "      <td>0</td>\n",
       "      <td>0</td>\n",
       "      <td>0</td>\n",
       "      <td>0</td>\n",
       "      <td>0</td>\n",
       "    </tr>\n",
       "    <tr>\n",
       "      <th>36</th>\n",
       "      <td>19.0</td>\n",
       "      <td>0</td>\n",
       "      <td>0</td>\n",
       "      <td>0</td>\n",
       "      <td>0</td>\n",
       "      <td>0</td>\n",
       "      <td>0</td>\n",
       "      <td>0</td>\n",
       "      <td>0</td>\n",
       "      <td>23</td>\n",
       "      <td>...</td>\n",
       "      <td>0</td>\n",
       "      <td>0</td>\n",
       "      <td>0</td>\n",
       "      <td>0</td>\n",
       "      <td>0</td>\n",
       "      <td>0</td>\n",
       "      <td>0</td>\n",
       "      <td>0</td>\n",
       "      <td>0</td>\n",
       "      <td>0</td>\n",
       "    </tr>\n",
       "    <tr>\n",
       "      <th>37</th>\n",
       "      <td>4.0</td>\n",
       "      <td>0</td>\n",
       "      <td>0</td>\n",
       "      <td>0</td>\n",
       "      <td>0</td>\n",
       "      <td>0</td>\n",
       "      <td>0</td>\n",
       "      <td>0</td>\n",
       "      <td>0</td>\n",
       "      <td>0</td>\n",
       "      <td>...</td>\n",
       "      <td>0</td>\n",
       "      <td>3</td>\n",
       "      <td>0</td>\n",
       "      <td>0</td>\n",
       "      <td>15972</td>\n",
       "      <td>0</td>\n",
       "      <td>0</td>\n",
       "      <td>0</td>\n",
       "      <td>0</td>\n",
       "      <td>0</td>\n",
       "    </tr>\n",
       "    <tr>\n",
       "      <th>38</th>\n",
       "      <td>15.0</td>\n",
       "      <td>0</td>\n",
       "      <td>0</td>\n",
       "      <td>0</td>\n",
       "      <td>0</td>\n",
       "      <td>0</td>\n",
       "      <td>0</td>\n",
       "      <td>0</td>\n",
       "      <td>2482</td>\n",
       "      <td>0</td>\n",
       "      <td>...</td>\n",
       "      <td>0</td>\n",
       "      <td>0</td>\n",
       "      <td>0</td>\n",
       "      <td>0</td>\n",
       "      <td>0</td>\n",
       "      <td>0</td>\n",
       "      <td>0</td>\n",
       "      <td>0</td>\n",
       "      <td>0</td>\n",
       "      <td>6</td>\n",
       "    </tr>\n",
       "  </tbody>\n",
       "</table>\n",
       "<p>39 rows × 40 columns</p>\n",
       "</div>"
      ],
      "text/plain": [
       "   label_prediction    0.0    1.0  10.0  11.0  12.0  13.0  14.0  15.0  16.0  \\\n",
       "0               0.0  52271      0     0     0     0     0     0     0     0   \n",
       "1               5.0     16      0     0     0     0     0     0     0     0   \n",
       "2              10.0      0      0  7705     0     0     0     0     0     0   \n",
       "3              24.0      0      0     0     0     0     0     0     0     0   \n",
       "4              37.0      0      0     0     0     0     0     0     0     0   \n",
       "5              25.0      0      0     0     0     0     0     0     0     0   \n",
       "6              14.0      0      0     0     0     0     0  3047     0     0   \n",
       "7              20.0      0      0     0     0     0     0     0     0     0   \n",
       "8              29.0      0      0     0     0     0     0     0     0     0   \n",
       "9               1.0      6  37516    31    14     2     0     0    18     0   \n",
       "10              6.0      1      0     0     0     0     0     0     0     0   \n",
       "11             28.0      0      0     0     0     0     0     0     0   113   \n",
       "12             38.0      0      0     0     0     0     0     0     0     0   \n",
       "13             21.0      0      0     0     0     0     0     0     0     0   \n",
       "14             33.0      0      0     0     0     0     0     0     0     0   \n",
       "15              9.0      0      0     0     0     0     0     0     0     0   \n",
       "16             13.0      0      0     0     0     0  3188     0     0     0   \n",
       "17              2.0      1     42     0     0     0     0     0     0     0   \n",
       "18             32.0      0      0     0     0     0     0     0     0     0   \n",
       "19             34.0      0      0     0     0     0     0     0     0     0   \n",
       "20             17.0      0      0     0     0     0     0     0     0     0   \n",
       "21             22.0      0      0     0     0     0     0     0     0     0   \n",
       "22             27.0      0      0     0     0     0     0     0     0     0   \n",
       "23             12.0      0      2     0     0  4966     0     0     0     0   \n",
       "24              7.0      0      0     0     0     0     0     0     0     0   \n",
       "25              3.0      0      0     0     0     0     0     0     0     0   \n",
       "26             35.0      0      0     0     0     0     0     0     0     0   \n",
       "27             18.0      0      0     0     0     0     0     0     0     0   \n",
       "28             16.0      0      0     0     0     0     0     0     0  2248   \n",
       "29             31.0      0      0     0     0     0     0     0     0     0   \n",
       "30             11.0      0      0     0  6776     0     0     0     0     0   \n",
       "31             26.0      0      0     0     0     0     0     0     0     0   \n",
       "32             23.0      1      0     0     0     0     0     0     0     0   \n",
       "33              8.0      0      0     0     0     0     0     0     0     0   \n",
       "34             36.0      1      0     0     0     0     0     0     0     0   \n",
       "35             30.0      0      0     0     0     0     0     0     0     0   \n",
       "36             19.0      0      0     0     0     0     0     0     0    23   \n",
       "37              4.0      0      0     0     0     0     0     0     0     0   \n",
       "38             15.0      0      0     0     0     0     0     0  2482     0   \n",
       "\n",
       "    ...  35.0  36.0  37.0  38.0    4.0    5.0    6.0    7.0    8.0   9.0  \n",
       "0   ...     0     0     0     0      0      0      0      0      0     0  \n",
       "1   ...     0     0     0     0      0  15852      0      0      0     0  \n",
       "2   ...     0     0     0     0      0      0      0      0      0     0  \n",
       "3   ...     0     0     0     0      0      0      0      0      0     0  \n",
       "4   ...     0     0     6     0      0      0      0      0      0     0  \n",
       "5   ...     0     0     0     0      0      0      0      0      0     0  \n",
       "6   ...     0     0     0     0      0      0      0      0      0     0  \n",
       "7   ...     0     0     0     0      0      0      0      0      0     0  \n",
       "8   ...     0     0     0     0      0      0      0      0      0     0  \n",
       "9   ...     1    14     4     0      1    184      0      0      0     0  \n",
       "10  ...     0     0     0     0      0      0  13423      0      0     0  \n",
       "11  ...     0     0     0     0      0      0      0      0      0     0  \n",
       "12  ...     0     0     0     2      0      0      0      0      0     0  \n",
       "13  ...     0     0     0     0      0      0      0      0      0     0  \n",
       "14  ...     0     0     0     0      0      0      0      0      0     0  \n",
       "15  ...     0     0     0     0      0      0      0      0      0  9503  \n",
       "16  ...     0     0     0     0      0      0      0      0      0     0  \n",
       "17  ...     0     0     0     0      0     12      0      0      0     0  \n",
       "18  ...     0     0     0     0      0      0      0      0      0     0  \n",
       "19  ...     0     0     0     0      0      0      0      0      0     0  \n",
       "20  ...     0     0     0     0      0      0      0      0      0     0  \n",
       "21  ...     0     0     0     0      0     66      0      0      0     0  \n",
       "22  ...     0     0     0     0      0      0      0      0      0     0  \n",
       "23  ...     0     0     0     0      0      0      0      0      0     0  \n",
       "24  ...     0     0     0     0      0      0      0  12589      0     0  \n",
       "25  ...     0     7     0     0      0      0      0      0      0     0  \n",
       "26  ...    40     0     0     0      0      0      0      0      0     0  \n",
       "27  ...     0     0     0     0      0      0      0      0      0     0  \n",
       "28  ...     0     0     0     0      0      0      0      0      1     0  \n",
       "29  ...     0     0     0     0      0      0      0      0      0     0  \n",
       "30  ...     0     0     0     0      0      0      0      0      0     0  \n",
       "31  ...     0     0     0     0      0      0      0      0      0     0  \n",
       "32  ...     0     0     0     0      0      0      0      0      0     0  \n",
       "33  ...     0     0     0     0      0      0      0      0  11028     0  \n",
       "34  ...     0    39     0     0      0      0      0      0      0     0  \n",
       "35  ...     0     0     0     0      0      0      0      0      0     0  \n",
       "36  ...     0     0     0     0      0      0      0      0      0     0  \n",
       "37  ...     0     3     0     0  15972      0      0      0      0     0  \n",
       "38  ...     0     0     0     0      0      0      0      0      0     6  \n",
       "\n",
       "[39 rows x 40 columns]"
      ]
     },
     "execution_count": 71,
     "metadata": {},
     "output_type": "execute_result"
    }
   ],
   "source": [
    "pandas_df"
   ]
  },
  {
   "cell_type": "code",
   "execution_count": 66,
   "metadata": {
    "ExecuteTime": {
     "end_time": "2020-05-11T17:33:04.241968Z",
     "start_time": "2020-05-11T17:32:56.677899Z"
    }
   },
   "outputs": [],
   "source": [
    "naive_bayes_crime=confusion_matrix(y_true_crime,y_pred_crime)"
   ]
  },
  {
   "cell_type": "code",
   "execution_count": 61,
   "metadata": {
    "ExecuteTime": {
     "end_time": "2020-05-11T17:27:58.707450Z",
     "start_time": "2020-05-11T17:27:55.570118Z"
    }
   },
   "outputs": [
    {
     "data": {
      "image/png": "[encoded data removed]",
      "text/plain": [
       "<Figure size 720x720 with 1 Axes>"
      ]
     },
     "metadata": {},
     "output_type": "display_data"
    }
   ],
   "source": [
    "sns.set(rc={'figure.figsize':(10,10)})\n",
    "p=sns.heatmap(naive_bayes_crime, annot = True, cmap=\"Reds\",cbar=False)\n",
    "p.axes.xaxis.label.set_text(\"Confusion matrice\")"
   ]
  },
  {
   "cell_type": "markdown",
   "metadata": {
    "ExecuteTime": {
     "end_time": "2020-05-02T13:46:12.317273Z",
     "start_time": "2020-05-02T13:46:12.314251Z"
    }
   },
   "source": [
    "### Accuracy Score"
   ]
  },
  {
   "cell_type": "code",
   "execution_count": 58,
   "metadata": {
    "ExecuteTime": {
     "end_time": "2020-05-11T17:26:20.407852Z",
     "start_time": "2020-05-11T17:26:07.086596Z"
    }
   },
   "outputs": [
    {
     "name": "stdout",
     "output_type": "stream",
     "text": [
      "Accuracy sore  = 0.993739\n",
      "Test Error = 0.00626084\n"
     ]
    }
   ],
   "source": [
    "evaluator = MulticlassClassificationEvaluator(labelCol=\"label\", predictionCol=\"prediction\", metricName=\"accuracy\")\n",
    "accuracy = evaluator.evaluate(pred_crime)\n",
    "print(\"Accuracy sore  = %g\" % (accuracy))\n",
    "print(\"Test Error = %g\" % (1.0 - accuracy))"
   ]
  },
  {
   "cell_type": "markdown",
   "metadata": {},
   "source": [
    "### Classification Report"
   ]
  },
  {
   "cell_type": "code",
   "execution_count": 73,
   "metadata": {
    "ExecuteTime": {
     "end_time": "2020-05-11T17:37:11.868389Z",
     "start_time": "2020-05-11T17:37:04.251098Z"
    }
   },
   "outputs": [
    {
     "name": "stdout",
     "output_type": "stream",
     "text": [
      "              precision    recall  f1-score   support\n",
      "\n",
      "         0.0       1.00      1.00      1.00     52347\n",
      "         1.0       1.00      0.99      0.99     37961\n",
      "         2.0       1.00      1.00      1.00     27987\n",
      "         3.0       1.00      0.99      0.99     22914\n",
      "         4.0       1.00      1.00      1.00     16045\n",
      "         5.0       0.98      0.97      0.98     16365\n",
      "         6.0       1.00      1.00      1.00     13461\n",
      "         7.0       1.00      1.00      1.00     12589\n",
      "         8.0       1.00      1.00      1.00     11028\n",
      "         9.0       1.00      1.00      1.00      9503\n",
      "        10.0       1.00      1.00      1.00      7705\n",
      "        11.0       1.00      1.00      1.00      6778\n",
      "        12.0       1.00      1.00      1.00      4982\n",
      "        13.0       1.00      1.00      1.00      3191\n",
      "        14.0       1.00      1.00      1.00      3047\n",
      "        15.0       0.99      0.99      0.99      2500\n",
      "        16.0       0.94      1.00      0.97      2249\n",
      "        17.0       1.00      1.00      1.00      2140\n",
      "        18.0       1.00      1.00      1.00      1372\n",
      "        19.0       1.00      0.98      0.99      1302\n",
      "        20.0       1.00      1.00      1.00      1303\n",
      "        21.0       0.95      1.00      0.97      1295\n",
      "        22.0       0.64      0.93      0.76       954\n",
      "        23.0       0.88      1.00      0.93       646\n",
      "        24.0       0.99      1.00      1.00       702\n",
      "        25.0       0.99      1.00      0.99       592\n",
      "        26.0       0.98      1.00      0.99       554\n",
      "        27.0       0.83      1.00      0.91       464\n",
      "        28.0       0.85      0.68      0.75       353\n",
      "        29.0       0.89      1.00      0.94       347\n",
      "        30.0       0.97      1.00      0.98       163\n",
      "        31.0       0.76      1.00      0.87       162\n",
      "        32.0       1.00      1.00      1.00       131\n",
      "        33.0       0.69      1.00      0.82        85\n",
      "        34.0       0.56      1.00      0.72        74\n",
      "        35.0       0.98      0.93      0.95        43\n",
      "        36.0       0.62      0.97      0.76        40\n",
      "        37.0       0.60      0.86      0.71         7\n",
      "        38.0       1.00      1.00      1.00         2\n",
      "\n",
      "    accuracy                           0.99    263383\n",
      "   macro avg       0.93      0.98      0.95    263383\n",
      "weighted avg       0.99      0.99      0.99    263383\n",
      "\n"
     ]
    }
   ],
   "source": [
    "print(classification_report(y_true_crime,y_pred_crime))"
   ]
  },
  {
   "cell_type": "markdown",
   "metadata": {},
   "source": [
    "**On remarque** que :\n",
    "\n",
    "Les résultats sont bonnes pour toutes les classes\n",
    "\n"
   ]
  },
  {
   "cell_type": "markdown",
   "metadata": {},
   "source": [
    "En réalité , le nombre de classes =33, donc on a 5 classes supplémentaires . Pour cela , au début il faut faire de bon prétraitement afin de ne conserver que les 33 classes "
   ]
  },
  {
   "cell_type": "code",
   "execution_count": 74,
   "metadata": {
    "ExecuteTime": {
     "end_time": "2020-05-11T17:43:25.286842Z",
     "start_time": "2020-05-11T17:43:24.467777Z"
    }
   },
   "outputs": [],
   "source": [
    "#Arreter la session \n",
    "sc.stop()"
   ]
  },
  {
   "cell_type": "code",
   "execution_count": null,
   "metadata": {},
   "outputs": [],
   "source": []
  }
 ],
 "metadata": {
  "kernelspec": {
   "display_name": "Python 3",
   "language": "python",
   "name": "python3"
  },
  "language_info": {
   "codemirror_mode": {
    "name": "ipython",
    "version": 3
   },
   "file_extension": ".py",
   "mimetype": "text/x-python",
   "name": "python",
   "nbconvert_exporter": "python",
   "pygments_lexer": "ipython3",
   "version": "3.7.7"
  }
 },
 "nbformat": 4,
 "nbformat_minor": 4
}
